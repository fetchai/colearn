{
 "cells": [
  {
   "cell_type": "code",
   "execution_count": 1,
   "metadata": {},
   "outputs": [],
   "source": [
    "from google.cloud import storage\n",
    "from google.oauth2 import service_account\n",
    "import numpy as np\n",
    "import os\n",
    "from pathlib import Path\n",
    "import csv\n",
    "\n",
    "from colearn_examples.config import ColearnConfig, TrainingData, ModelConfig\n",
    "from colearn_examples.xray import prepare_single_client, XrayConfig\n",
    "\n",
    "import matplotlib.pyplot as plt"
   ]
  },
  {
   "cell_type": "code",
   "execution_count": 2,
   "metadata": {},
   "outputs": [],
   "source": [
    "def download_data_from_gcloud(cloud_data_dir, local_data_dir, credentials=None):\n",
    "    bucket_name = cloud_data_dir.replace('gs://', '')\n",
    "    bucket_name, prefix = bucket_name.split('/', 1)\n",
    "    print(\"DOWNLOAD DATA FROM GCLOUD, bucket=\",bucket_name, \", prefix=\", prefix)\n",
    "\n",
    "    storage_client = storage.Client(credentials=credentials)\n",
    "    bucket = storage_client.bucket(bucket_name=bucket_name)\n",
    "    blobs = bucket.list_blobs(prefix=prefix+\"/\")  # Get list of files\n",
    "\n",
    "    local_full_path = Path(local_data_dir) / prefix\n",
    "    os.makedirs(local_full_path, exist_ok=True)\n",
    "    file_counter = 0\n",
    "    for blob in blobs:\n",
    "        filename = blob.name\n",
    "        if filename.find(prefix+\"/\") == -1:\n",
    "            continue\n",
    "        #print(\"Blob name: \", filename)\n",
    "        blob.download_to_filename(Path(local_data_dir) / filename)  # Download\n",
    "        file_counter += 1\n",
    "\n",
    "    if file_counter == 0:\n",
    "        raise Exception(\"No data in folder: \" + cloud_data_dir)\n",
    "\n",
    "    return local_full_path\n",
    "\n",
    "\n",
    "def get_data(data_dir, credentials=None):\n",
    "    if str(data_dir).startswith(\"gs://\"):\n",
    "        return download_data_from_gcloud(data_dir, '/tmp/data_download', credentials=credentials)\n",
    "    return data_dir\n",
    "\n",
    "def model_factory(n_learners,data_root, test_root, i):\n",
    "    print(\"CREATE LEARNER: \",i)\n",
    "    colearn_config = ColearnConfig(task=TrainingData[\"XRAY\"],n_learners=n_learners, seed=10)\n",
    "    learner_config = XrayConfig(colearn_config.shuffle_seed)\n",
    "\n",
    "    credentials_path = \"/Users/qati/code/infra-mlfabric/config/fetch-ai-sandbox-mlfabric.json\"\n",
    "    os.environ[\"GOOGLE_APPLICATION_CREDENTIALS\"]=credentials_path\n",
    "    credentials = service_account.Credentials.from_service_account_file(\n",
    "        credentials_path, scopes=[\"https://www.googleapis.com/auth/cloud-platform\"],\n",
    "    )\n",
    "    \n",
    "    data_dir=\"{}{}\".format(data_root, i)\n",
    "    test_dir=\"{}\".format(test_root)\n",
    "\n",
    "\n",
    "    local_data_dir = get_data(data_dir, credentials=credentials)\n",
    "    print(\"GCLOUD data downloaded to \", local_data_dir)\n",
    "    local_test_dir = get_data(test_dir, credentials=credentials)\n",
    "    print(\"GCLOUD data downloaded to \", local_test_dir)\n",
    "    \n",
    "    learner_data = prepare_single_client(learner_config, local_data_dir,local_test_dir)\n",
    "\n",
    "    return learner_config.model_type(config=learner_config, data=learner_data)\n",
    "\n",
    "def train_nodes(learners):\n",
    "    val_acc = []\n",
    "    test_acc =[]\n",
    "    train_acc =[]\n",
    "    for l in learners:\n",
    "        tra = l._train_model()\n",
    "        w = l.get_weights()\n",
    "        pw = l.test_model(w)\n",
    "        train_acc.append(tra)\n",
    "        test_acc.append(pw.test_accuracy)\n",
    "        val_acc.append(pw.vote_accuracy)\n",
    "    return train_acc, val_acc, test_acc"
   ]
  },
  {
   "cell_type": "code",
   "execution_count": 3,
   "metadata": {
    "scrolled": true
   },
   "outputs": [
    {
     "name": "stdout",
     "output_type": "stream",
     "text": [
      "CREATE LEARNER:  0\n",
      "DOWNLOAD DATA FROM GCLOUD, bucket= mlfabric , prefix= xray5_0\n",
      "GCLOUD data downloaded to  /tmp/data_download/xray5_0\n",
      "DOWNLOAD DATA FROM GCLOUD, bucket= mlfabric , prefix= chestXray_test0\n",
      "GCLOUD data downloaded to  /tmp/data_download/chestXray_test0\n"
     ]
    },
    {
     "name": "stderr",
     "output_type": "stream",
     "text": [
      "\r",
      "Validating:   0%|          | 0/13 [00:00<?, ?it/s]"
     ]
    },
    {
     "name": "stdout",
     "output_type": "stream",
     "text": [
      "Model: \"model\"\n",
      "_________________________________________________________________\n",
      "Layer (type)                 Output Shape              Param #   \n",
      "=================================================================\n",
      "Input (InputLayer)           [(None, 128, 128, 1)]     0         \n",
      "_________________________________________________________________\n",
      "Conv1_1 (Conv2D)             (None, 128, 128, 32)      320       \n",
      "_________________________________________________________________\n",
      "bn1 (BatchNormalization)     (None, 128, 128, 32)      128       \n",
      "_________________________________________________________________\n",
      "pool1 (MaxPooling2D)         (None, 32, 32, 32)        0         \n",
      "_________________________________________________________________\n",
      "Conv2_1 (Conv2D)             (None, 32, 32, 64)        18496     \n",
      "_________________________________________________________________\n",
      "bn2 (BatchNormalization)     (None, 32, 32, 64)        256       \n",
      "_________________________________________________________________\n",
      "global_max_pooling2d (Global (None, 64)                0         \n",
      "_________________________________________________________________\n",
      "fc1 (Dense)                  (None, 1)                 65        \n",
      "=================================================================\n",
      "Total params: 19,265\n",
      "Trainable params: 19,073\n",
      "Non-trainable params: 192\n",
      "_________________________________________________________________\n",
      "Getting vote accuracy:\n"
     ]
    },
    {
     "name": "stderr",
     "output_type": "stream",
     "text": [
      "Validating: 100%|██████████| 13/13 [00:02<00:00,  5.09it/s]\n"
     ]
    },
    {
     "name": "stdout",
     "output_type": "stream",
     "text": [
      "AUC score: 0.4223372781065089\n",
      "Confusion martrix:\n",
      " [[51  1]\n",
      " [52  0]]\n",
      "Classification report:\n",
      "               precision    recall  f1-score   support\n",
      "\n",
      "           0       0.50      0.98      0.66        52\n",
      "           1       0.00      0.00      0.00        52\n",
      "\n",
      "    accuracy                           0.49       104\n",
      "   macro avg       0.25      0.49      0.33       104\n",
      "weighted avg       0.25      0.49      0.33       104\n",
      "\n",
      "CREATE LEARNER:  1\n",
      "DOWNLOAD DATA FROM GCLOUD, bucket= mlfabric , prefix= xray5_1\n",
      "GCLOUD data downloaded to  /tmp/data_download/xray5_1\n",
      "DOWNLOAD DATA FROM GCLOUD, bucket= mlfabric , prefix= chestXray_test0\n"
     ]
    },
    {
     "name": "stderr",
     "output_type": "stream",
     "text": [
      "\r",
      "Validating:   0%|          | 0/13 [00:00<?, ?it/s]"
     ]
    },
    {
     "name": "stdout",
     "output_type": "stream",
     "text": [
      "GCLOUD data downloaded to  /tmp/data_download/chestXray_test0\n",
      "Model: \"model_1\"\n",
      "_________________________________________________________________\n",
      "Layer (type)                 Output Shape              Param #   \n",
      "=================================================================\n",
      "Input (InputLayer)           [(None, 128, 128, 1)]     0         \n",
      "_________________________________________________________________\n",
      "Conv1_1 (Conv2D)             (None, 128, 128, 32)      320       \n",
      "_________________________________________________________________\n",
      "bn1 (BatchNormalization)     (None, 128, 128, 32)      128       \n",
      "_________________________________________________________________\n",
      "pool1 (MaxPooling2D)         (None, 32, 32, 32)        0         \n",
      "_________________________________________________________________\n",
      "Conv2_1 (Conv2D)             (None, 32, 32, 64)        18496     \n",
      "_________________________________________________________________\n",
      "bn2 (BatchNormalization)     (None, 32, 32, 64)        256       \n",
      "_________________________________________________________________\n",
      "global_max_pooling2d_1 (Glob (None, 64)                0         \n",
      "_________________________________________________________________\n",
      "fc1 (Dense)                  (None, 1)                 65        \n",
      "=================================================================\n",
      "Total params: 19,265\n",
      "Trainable params: 19,073\n",
      "Non-trainable params: 192\n",
      "_________________________________________________________________\n",
      "Getting vote accuracy:\n"
     ]
    },
    {
     "name": "stderr",
     "output_type": "stream",
     "text": [
      "Validating: 100%|██████████| 13/13 [00:02<00:00,  4.90it/s]\n",
      "/usr/local/lib/python3.7/site-packages/sklearn/metrics/_classification.py:1221: UndefinedMetricWarning: Precision and F-score are ill-defined and being set to 0.0 in labels with no predicted samples. Use `zero_division` parameter to control this behavior.\n",
      "  _warn_prf(average, modifier, msg_start, len(result))\n"
     ]
    },
    {
     "name": "stdout",
     "output_type": "stream",
     "text": [
      "AUC score: 0.5055473372781065\n",
      "Confusion martrix:\n",
      " [[ 0 52]\n",
      " [ 0 52]]\n",
      "Classification report:\n",
      "               precision    recall  f1-score   support\n",
      "\n",
      "           0       0.00      0.00      0.00        52\n",
      "           1       0.50      1.00      0.67        52\n",
      "\n",
      "    accuracy                           0.50       104\n",
      "   macro avg       0.25      0.50      0.33       104\n",
      "weighted avg       0.25      0.50      0.33       104\n",
      "\n",
      "CREATE LEARNER:  2\n",
      "DOWNLOAD DATA FROM GCLOUD, bucket= mlfabric , prefix= xray5_2\n",
      "GCLOUD data downloaded to  /tmp/data_download/xray5_2\n",
      "DOWNLOAD DATA FROM GCLOUD, bucket= mlfabric , prefix= chestXray_test0\n"
     ]
    },
    {
     "name": "stderr",
     "output_type": "stream",
     "text": [
      "\r",
      "Validating:   0%|          | 0/13 [00:00<?, ?it/s]"
     ]
    },
    {
     "name": "stdout",
     "output_type": "stream",
     "text": [
      "GCLOUD data downloaded to  /tmp/data_download/chestXray_test0\n",
      "Model: \"model_2\"\n",
      "_________________________________________________________________\n",
      "Layer (type)                 Output Shape              Param #   \n",
      "=================================================================\n",
      "Input (InputLayer)           [(None, 128, 128, 1)]     0         \n",
      "_________________________________________________________________\n",
      "Conv1_1 (Conv2D)             (None, 128, 128, 32)      320       \n",
      "_________________________________________________________________\n",
      "bn1 (BatchNormalization)     (None, 128, 128, 32)      128       \n",
      "_________________________________________________________________\n",
      "pool1 (MaxPooling2D)         (None, 32, 32, 32)        0         \n",
      "_________________________________________________________________\n",
      "Conv2_1 (Conv2D)             (None, 32, 32, 64)        18496     \n",
      "_________________________________________________________________\n",
      "bn2 (BatchNormalization)     (None, 32, 32, 64)        256       \n",
      "_________________________________________________________________\n",
      "global_max_pooling2d_2 (Glob (None, 64)                0         \n",
      "_________________________________________________________________\n",
      "fc1 (Dense)                  (None, 1)                 65        \n",
      "=================================================================\n",
      "Total params: 19,265\n",
      "Trainable params: 19,073\n",
      "Non-trainable params: 192\n",
      "_________________________________________________________________\n",
      "Getting vote accuracy:\n"
     ]
    },
    {
     "name": "stderr",
     "output_type": "stream",
     "text": [
      "Validating: 100%|██████████| 13/13 [00:03<00:00,  4.17it/s]\n",
      "/usr/local/lib/python3.7/site-packages/sklearn/metrics/_classification.py:1221: UndefinedMetricWarning: Precision and F-score are ill-defined and being set to 0.0 in labels with no predicted samples. Use `zero_division` parameter to control this behavior.\n",
      "  _warn_prf(average, modifier, msg_start, len(result))\n"
     ]
    },
    {
     "name": "stdout",
     "output_type": "stream",
     "text": [
      "AUC score: 0.3387573964497042\n",
      "Confusion martrix:\n",
      " [[ 0 52]\n",
      " [ 0 52]]\n",
      "Classification report:\n",
      "               precision    recall  f1-score   support\n",
      "\n",
      "           0       0.00      0.00      0.00        52\n",
      "           1       0.50      1.00      0.67        52\n",
      "\n",
      "    accuracy                           0.50       104\n",
      "   macro avg       0.25      0.50      0.33       104\n",
      "weighted avg       0.25      0.50      0.33       104\n",
      "\n",
      "CREATE LEARNER:  3\n",
      "DOWNLOAD DATA FROM GCLOUD, bucket= mlfabric , prefix= xray5_3\n",
      "GCLOUD data downloaded to  /tmp/data_download/xray5_3\n",
      "DOWNLOAD DATA FROM GCLOUD, bucket= mlfabric , prefix= chestXray_test0\n"
     ]
    },
    {
     "name": "stderr",
     "output_type": "stream",
     "text": [
      "\r",
      "Validating:   0%|          | 0/13 [00:00<?, ?it/s]"
     ]
    },
    {
     "name": "stdout",
     "output_type": "stream",
     "text": [
      "GCLOUD data downloaded to  /tmp/data_download/chestXray_test0\n",
      "Model: \"model_3\"\n",
      "_________________________________________________________________\n",
      "Layer (type)                 Output Shape              Param #   \n",
      "=================================================================\n",
      "Input (InputLayer)           [(None, 128, 128, 1)]     0         \n",
      "_________________________________________________________________\n",
      "Conv1_1 (Conv2D)             (None, 128, 128, 32)      320       \n",
      "_________________________________________________________________\n",
      "bn1 (BatchNormalization)     (None, 128, 128, 32)      128       \n",
      "_________________________________________________________________\n",
      "pool1 (MaxPooling2D)         (None, 32, 32, 32)        0         \n",
      "_________________________________________________________________\n",
      "Conv2_1 (Conv2D)             (None, 32, 32, 64)        18496     \n",
      "_________________________________________________________________\n",
      "bn2 (BatchNormalization)     (None, 32, 32, 64)        256       \n",
      "_________________________________________________________________\n",
      "global_max_pooling2d_3 (Glob (None, 64)                0         \n",
      "_________________________________________________________________\n",
      "fc1 (Dense)                  (None, 1)                 65        \n",
      "=================================================================\n",
      "Total params: 19,265\n",
      "Trainable params: 19,073\n",
      "Non-trainable params: 192\n",
      "_________________________________________________________________\n",
      "Getting vote accuracy:\n"
     ]
    },
    {
     "name": "stderr",
     "output_type": "stream",
     "text": [
      "Validating: 100%|██████████| 13/13 [00:02<00:00,  5.33it/s]\n"
     ]
    },
    {
     "name": "stdout",
     "output_type": "stream",
     "text": [
      "AUC score: 0.5340236686390533\n",
      "Confusion martrix:\n",
      " [[ 4 48]\n",
      " [ 3 49]]\n",
      "Classification report:\n",
      "               precision    recall  f1-score   support\n",
      "\n",
      "           0       0.57      0.08      0.14        52\n",
      "           1       0.51      0.94      0.66        52\n",
      "\n",
      "    accuracy                           0.51       104\n",
      "   macro avg       0.54      0.51      0.40       104\n",
      "weighted avg       0.54      0.51      0.40       104\n",
      "\n",
      "CREATE LEARNER:  4\n",
      "DOWNLOAD DATA FROM GCLOUD, bucket= mlfabric , prefix= xray5_4\n",
      "GCLOUD data downloaded to  /tmp/data_download/xray5_4\n",
      "DOWNLOAD DATA FROM GCLOUD, bucket= mlfabric , prefix= chestXray_test0\n"
     ]
    },
    {
     "name": "stderr",
     "output_type": "stream",
     "text": [
      "\r",
      "Validating:   0%|          | 0/13 [00:00<?, ?it/s]"
     ]
    },
    {
     "name": "stdout",
     "output_type": "stream",
     "text": [
      "GCLOUD data downloaded to  /tmp/data_download/chestXray_test0\n",
      "Model: \"model_4\"\n",
      "_________________________________________________________________\n",
      "Layer (type)                 Output Shape              Param #   \n",
      "=================================================================\n",
      "Input (InputLayer)           [(None, 128, 128, 1)]     0         \n",
      "_________________________________________________________________\n",
      "Conv1_1 (Conv2D)             (None, 128, 128, 32)      320       \n",
      "_________________________________________________________________\n",
      "bn1 (BatchNormalization)     (None, 128, 128, 32)      128       \n",
      "_________________________________________________________________\n",
      "pool1 (MaxPooling2D)         (None, 32, 32, 32)        0         \n",
      "_________________________________________________________________\n",
      "Conv2_1 (Conv2D)             (None, 32, 32, 64)        18496     \n",
      "_________________________________________________________________\n",
      "bn2 (BatchNormalization)     (None, 32, 32, 64)        256       \n",
      "_________________________________________________________________\n",
      "global_max_pooling2d_4 (Glob (None, 64)                0         \n",
      "_________________________________________________________________\n",
      "fc1 (Dense)                  (None, 1)                 65        \n",
      "=================================================================\n",
      "Total params: 19,265\n",
      "Trainable params: 19,073\n",
      "Non-trainable params: 192\n",
      "_________________________________________________________________\n",
      "Getting vote accuracy:\n"
     ]
    },
    {
     "name": "stderr",
     "output_type": "stream",
     "text": [
      "Validating: 100%|██████████| 13/13 [00:02<00:00,  4.71it/s]"
     ]
    },
    {
     "name": "stdout",
     "output_type": "stream",
     "text": [
      "AUC score: 0.6190828402366865\n",
      "Confusion martrix:\n",
      " [[51  1]\n",
      " [50  2]]\n",
      "Classification report:\n",
      "               precision    recall  f1-score   support\n",
      "\n",
      "           0       0.50      0.98      0.67        52\n",
      "           1       0.67      0.04      0.07        52\n",
      "\n",
      "    accuracy                           0.51       104\n",
      "   macro avg       0.59      0.51      0.37       104\n",
      "weighted avg       0.59      0.51      0.37       104\n",
      "\n"
     ]
    },
    {
     "name": "stderr",
     "output_type": "stream",
     "text": [
      "\n"
     ]
    }
   ],
   "source": [
    "data_root = \"gs://mlfabric/xray5_\" #\"gs://mlfabric/var_folders_n8_t4dd8nkx1c982_3kzs6gpd5w0000gn_T_covid_xray_\"\n",
    "test_root = \"gs://mlfabric/chestXray_test0\"\n",
    "n_learners=5\n",
    "\n",
    "learners = []\n",
    "for i in range(n_learners):\n",
    "    learners.append(model_factory(n_learners, data_root, test_root, i))"
   ]
  },
  {
   "cell_type": "code",
   "execution_count": 4,
   "metadata": {
    "scrolled": true
   },
   "outputs": [
    {
     "name": "stderr",
     "output_type": "stream",
     "text": [
      "\r",
      "Training:   0%|          | 0/10 [00:00<?, ?it/s]"
     ]
    },
    {
     "name": "stdout",
     "output_type": "stream",
     "text": [
      "Epoch:  0\n"
     ]
    },
    {
     "name": "stderr",
     "output_type": "stream",
     "text": [
      "Accuracy 0.525000: 100%|██████████| 10/10 [00:03<00:00,  3.94it/s]\n",
      "Validating:   8%|▊         | 1/13 [00:00<00:02,  5.86it/s]"
     ]
    },
    {
     "name": "stdout",
     "output_type": "stream",
     "text": [
      "Getting vote accuracy:\n"
     ]
    },
    {
     "name": "stderr",
     "output_type": "stream",
     "text": [
      "Validating: 100%|██████████| 13/13 [00:02<00:00,  5.15it/s]\n",
      "Testing:   1%|          | 1/97 [00:00<00:16,  5.85it/s]"
     ]
    },
    {
     "name": "stdout",
     "output_type": "stream",
     "text": [
      "AUC score: 0.7237426035502958\n",
      "Confusion martrix:\n",
      " [[45  7]\n",
      " [32 20]]\n",
      "Classification report:\n",
      "               precision    recall  f1-score   support\n",
      "\n",
      "           0       0.58      0.87      0.70        52\n",
      "           1       0.74      0.38      0.51        52\n",
      "\n",
      "    accuracy                           0.62       104\n",
      "   macro avg       0.66      0.62      0.60       104\n",
      "weighted avg       0.66      0.62      0.60       104\n",
      "\n",
      "Getting test accuracy:\n"
     ]
    },
    {
     "name": "stderr",
     "output_type": "stream",
     "text": [
      "Testing: 100%|██████████| 97/97 [00:15<00:00,  7.17it/s]\n",
      "Training:   0%|          | 0/10 [00:00<?, ?it/s]"
     ]
    },
    {
     "name": "stdout",
     "output_type": "stream",
     "text": [
      "AUC score: 0.642954883622064\n",
      "Confusion martrix:\n",
      " [[289  99]\n",
      " [216 172]]\n",
      "Classification report:\n",
      "               precision    recall  f1-score   support\n",
      "\n",
      "           0       0.57      0.74      0.65       388\n",
      "           1       0.63      0.44      0.52       388\n",
      "\n",
      "    accuracy                           0.59       776\n",
      "   macro avg       0.60      0.59      0.58       776\n",
      "weighted avg       0.60      0.59      0.58       776\n",
      "\n"
     ]
    },
    {
     "name": "stderr",
     "output_type": "stream",
     "text": [
      "Accuracy 0.612500: 100%|██████████| 10/10 [00:02<00:00,  4.16it/s]\n",
      "Validating:   8%|▊         | 1/13 [00:00<00:02,  5.47it/s]"
     ]
    },
    {
     "name": "stdout",
     "output_type": "stream",
     "text": [
      "Getting vote accuracy:\n"
     ]
    },
    {
     "name": "stderr",
     "output_type": "stream",
     "text": [
      "Validating: 100%|██████████| 13/13 [00:02<00:00,  5.39it/s]\n",
      "/usr/local/lib/python3.7/site-packages/sklearn/metrics/_classification.py:1221: UndefinedMetricWarning: Precision and F-score are ill-defined and being set to 0.0 in labels with no predicted samples. Use `zero_division` parameter to control this behavior.\n",
      "  _warn_prf(average, modifier, msg_start, len(result))\n",
      "Testing:   1%|          | 1/97 [00:00<00:15,  6.33it/s]"
     ]
    },
    {
     "name": "stdout",
     "output_type": "stream",
     "text": [
      "AUC score: 0.5617603550295858\n",
      "Confusion martrix:\n",
      " [[ 0 52]\n",
      " [ 0 52]]\n",
      "Classification report:\n",
      "               precision    recall  f1-score   support\n",
      "\n",
      "           0       0.00      0.00      0.00        52\n",
      "           1       0.50      1.00      0.67        52\n",
      "\n",
      "    accuracy                           0.50       104\n",
      "   macro avg       0.25      0.50      0.33       104\n",
      "weighted avg       0.25      0.50      0.33       104\n",
      "\n",
      "Getting test accuracy:\n"
     ]
    },
    {
     "name": "stderr",
     "output_type": "stream",
     "text": [
      "Testing: 100%|██████████| 97/97 [00:14<00:00,  7.62it/s]\n",
      "/usr/local/lib/python3.7/site-packages/sklearn/metrics/_classification.py:1221: UndefinedMetricWarning: Precision and F-score are ill-defined and being set to 0.0 in labels with no predicted samples. Use `zero_division` parameter to control this behavior.\n",
      "  _warn_prf(average, modifier, msg_start, len(result))\n",
      "Training:   0%|          | 0/10 [00:00<?, ?it/s]"
     ]
    },
    {
     "name": "stdout",
     "output_type": "stream",
     "text": [
      "AUC score: 0.45850382612392393\n",
      "Confusion martrix:\n",
      " [[  0 388]\n",
      " [  0 388]]\n",
      "Classification report:\n",
      "               precision    recall  f1-score   support\n",
      "\n",
      "           0       0.00      0.00      0.00       388\n",
      "           1       0.50      1.00      0.67       388\n",
      "\n",
      "    accuracy                           0.50       776\n",
      "   macro avg       0.25      0.50      0.33       776\n",
      "weighted avg       0.25      0.50      0.33       776\n",
      "\n"
     ]
    },
    {
     "name": "stderr",
     "output_type": "stream",
     "text": [
      "Accuracy 0.575000: 100%|██████████| 10/10 [00:02<00:00,  3.82it/s]\n",
      "Validating:   0%|          | 0/13 [00:00<?, ?it/s]"
     ]
    },
    {
     "name": "stdout",
     "output_type": "stream",
     "text": [
      "Getting vote accuracy:\n"
     ]
    },
    {
     "name": "stderr",
     "output_type": "stream",
     "text": [
      "Validating: 100%|██████████| 13/13 [00:02<00:00,  5.79it/s]\n",
      "/usr/local/lib/python3.7/site-packages/sklearn/metrics/_classification.py:1221: UndefinedMetricWarning: Precision and F-score are ill-defined and being set to 0.0 in labels with no predicted samples. Use `zero_division` parameter to control this behavior.\n",
      "  _warn_prf(average, modifier, msg_start, len(result))\n",
      "Testing:   1%|          | 1/97 [00:00<00:15,  6.31it/s]"
     ]
    },
    {
     "name": "stdout",
     "output_type": "stream",
     "text": [
      "AUC score: 0.4086538461538462\n",
      "Confusion martrix:\n",
      " [[ 0 52]\n",
      " [ 0 52]]\n",
      "Classification report:\n",
      "               precision    recall  f1-score   support\n",
      "\n",
      "           0       0.00      0.00      0.00        52\n",
      "           1       0.50      1.00      0.67        52\n",
      "\n",
      "    accuracy                           0.50       104\n",
      "   macro avg       0.25      0.50      0.33       104\n",
      "weighted avg       0.25      0.50      0.33       104\n",
      "\n",
      "Getting test accuracy:\n"
     ]
    },
    {
     "name": "stderr",
     "output_type": "stream",
     "text": [
      "Testing: 100%|██████████| 97/97 [00:14<00:00,  7.21it/s]\n",
      "Training:   0%|          | 0/10 [00:00<?, ?it/s]"
     ]
    },
    {
     "name": "stdout",
     "output_type": "stream",
     "text": [
      "AUC score: 0.5367533744287385\n",
      "Confusion martrix:\n",
      " [[  0 388]\n",
      " [  1 387]]\n",
      "Classification report:\n",
      "               precision    recall  f1-score   support\n",
      "\n",
      "           0       0.00      0.00      0.00       388\n",
      "           1       0.50      1.00      0.67       388\n",
      "\n",
      "    accuracy                           0.50       776\n",
      "   macro avg       0.25      0.50      0.33       776\n",
      "weighted avg       0.25      0.50      0.33       776\n",
      "\n"
     ]
    },
    {
     "name": "stderr",
     "output_type": "stream",
     "text": [
      "Accuracy 0.550000: 100%|██████████| 10/10 [00:02<00:00,  4.01it/s]\n",
      "Validating:   8%|▊         | 1/13 [00:00<00:01,  6.41it/s]"
     ]
    },
    {
     "name": "stdout",
     "output_type": "stream",
     "text": [
      "Getting vote accuracy:\n"
     ]
    },
    {
     "name": "stderr",
     "output_type": "stream",
     "text": [
      "Validating: 100%|██████████| 13/13 [00:02<00:00,  4.55it/s]\n",
      "Testing:   1%|          | 1/97 [00:00<00:16,  5.81it/s]"
     ]
    },
    {
     "name": "stdout",
     "output_type": "stream",
     "text": [
      "AUC score: 0.5650887573964497\n",
      "Confusion martrix:\n",
      " [[12 40]\n",
      " [14 38]]\n",
      "Classification report:\n",
      "               precision    recall  f1-score   support\n",
      "\n",
      "           0       0.46      0.23      0.31        52\n",
      "           1       0.49      0.73      0.58        52\n",
      "\n",
      "    accuracy                           0.48       104\n",
      "   macro avg       0.47      0.48      0.45       104\n",
      "weighted avg       0.47      0.48      0.45       104\n",
      "\n",
      "Getting test accuracy:\n"
     ]
    },
    {
     "name": "stderr",
     "output_type": "stream",
     "text": [
      "Testing: 100%|██████████| 97/97 [00:15<00:00,  7.26it/s]\n",
      "Training:   0%|          | 0/10 [00:00<?, ?it/s]"
     ]
    },
    {
     "name": "stdout",
     "output_type": "stream",
     "text": [
      "AUC score: 0.573772451907748\n",
      "Confusion martrix:\n",
      " [[ 68 320]\n",
      " [ 60 328]]\n",
      "Classification report:\n",
      "               precision    recall  f1-score   support\n",
      "\n",
      "           0       0.53      0.18      0.26       388\n",
      "           1       0.51      0.85      0.63       388\n",
      "\n",
      "    accuracy                           0.51       776\n",
      "   macro avg       0.52      0.51      0.45       776\n",
      "weighted avg       0.52      0.51      0.45       776\n",
      "\n"
     ]
    },
    {
     "name": "stderr",
     "output_type": "stream",
     "text": [
      "Accuracy 0.525000: 100%|██████████| 10/10 [00:02<00:00,  4.01it/s]\n",
      "Validating:   8%|▊         | 1/13 [00:00<00:02,  5.27it/s]"
     ]
    },
    {
     "name": "stdout",
     "output_type": "stream",
     "text": [
      "Getting vote accuracy:\n"
     ]
    },
    {
     "name": "stderr",
     "output_type": "stream",
     "text": [
      "Validating: 100%|██████████| 13/13 [00:02<00:00,  5.61it/s]\n",
      "/usr/local/lib/python3.7/site-packages/sklearn/metrics/_classification.py:1221: UndefinedMetricWarning: Precision and F-score are ill-defined and being set to 0.0 in labels with no predicted samples. Use `zero_division` parameter to control this behavior.\n",
      "  _warn_prf(average, modifier, msg_start, len(result))\n",
      "Testing:   1%|          | 1/97 [00:00<00:16,  5.82it/s]"
     ]
    },
    {
     "name": "stdout",
     "output_type": "stream",
     "text": [
      "AUC score: 0.8295118343195266\n",
      "Confusion martrix:\n",
      " [[52  0]\n",
      " [52  0]]\n",
      "Classification report:\n",
      "               precision    recall  f1-score   support\n",
      "\n",
      "           0       0.50      1.00      0.67        52\n",
      "           1       0.00      0.00      0.00        52\n",
      "\n",
      "    accuracy                           0.50       104\n",
      "   macro avg       0.25      0.50      0.33       104\n",
      "weighted avg       0.25      0.50      0.33       104\n",
      "\n",
      "Getting test accuracy:\n"
     ]
    },
    {
     "name": "stderr",
     "output_type": "stream",
     "text": [
      "Testing: 100%|██████████| 97/97 [00:15<00:00,  6.64it/s]\n",
      "/usr/local/lib/python3.7/site-packages/sklearn/metrics/_classification.py:1221: UndefinedMetricWarning: Precision and F-score are ill-defined and being set to 0.0 in labels with no predicted samples. Use `zero_division` parameter to control this behavior.\n",
      "  _warn_prf(average, modifier, msg_start, len(result))\n",
      "Training:   0%|          | 0/10 [00:00<?, ?it/s]"
     ]
    },
    {
     "name": "stdout",
     "output_type": "stream",
     "text": [
      "AUC score: 0.6270924115208842\n",
      "Confusion martrix:\n",
      " [[388   0]\n",
      " [388   0]]\n",
      "Classification report:\n",
      "               precision    recall  f1-score   support\n",
      "\n",
      "           0       0.50      1.00      0.67       388\n",
      "           1       0.00      0.00      0.00       388\n",
      "\n",
      "    accuracy                           0.50       776\n",
      "   macro avg       0.25      0.50      0.33       776\n",
      "weighted avg       0.25      0.50      0.33       776\n",
      "\n",
      "Epoch:  1\n"
     ]
    },
    {
     "name": "stderr",
     "output_type": "stream",
     "text": [
      "Accuracy 0.712500: 100%|██████████| 10/10 [00:02<00:00,  4.22it/s]\n",
      "Validating:   8%|▊         | 1/13 [00:00<00:01,  6.19it/s]"
     ]
    },
    {
     "name": "stdout",
     "output_type": "stream",
     "text": [
      "Getting vote accuracy:\n"
     ]
    },
    {
     "name": "stderr",
     "output_type": "stream",
     "text": [
      "Validating: 100%|██████████| 13/13 [00:02<00:00,  5.52it/s]\n",
      "Testing:   1%|          | 1/97 [00:00<00:12,  7.76it/s]"
     ]
    },
    {
     "name": "stdout",
     "output_type": "stream",
     "text": [
      "AUC score: 0.7710798816568047\n",
      "Confusion martrix:\n",
      " [[44  8]\n",
      " [23 29]]\n",
      "Classification report:\n",
      "               precision    recall  f1-score   support\n",
      "\n",
      "           0       0.66      0.85      0.74        52\n",
      "           1       0.78      0.56      0.65        52\n",
      "\n",
      "    accuracy                           0.70       104\n",
      "   macro avg       0.72      0.70      0.70       104\n",
      "weighted avg       0.72      0.70      0.70       104\n",
      "\n",
      "Getting test accuracy:\n"
     ]
    },
    {
     "name": "stderr",
     "output_type": "stream",
     "text": [
      "Testing: 100%|██████████| 97/97 [00:15<00:00,  6.31it/s]\n",
      "Training:   0%|          | 0/10 [00:00<?, ?it/s]"
     ]
    },
    {
     "name": "stdout",
     "output_type": "stream",
     "text": [
      "AUC score: 0.6597141035179084\n",
      "Confusion martrix:\n",
      " [[215 173]\n",
      " [128 260]]\n",
      "Classification report:\n",
      "               precision    recall  f1-score   support\n",
      "\n",
      "           0       0.63      0.55      0.59       388\n",
      "           1       0.60      0.67      0.63       388\n",
      "\n",
      "    accuracy                           0.61       776\n",
      "   macro avg       0.61      0.61      0.61       776\n",
      "weighted avg       0.61      0.61      0.61       776\n",
      "\n"
     ]
    },
    {
     "name": "stderr",
     "output_type": "stream",
     "text": [
      "Accuracy 0.737500: 100%|██████████| 10/10 [00:02<00:00,  4.08it/s]\n",
      "Validating:   8%|▊         | 1/13 [00:00<00:01,  6.21it/s]"
     ]
    },
    {
     "name": "stdout",
     "output_type": "stream",
     "text": [
      "Getting vote accuracy:\n"
     ]
    },
    {
     "name": "stderr",
     "output_type": "stream",
     "text": [
      "Validating: 100%|██████████| 13/13 [00:02<00:00,  5.76it/s]\n",
      "/usr/local/lib/python3.7/site-packages/sklearn/metrics/_classification.py:1221: UndefinedMetricWarning: Precision and F-score are ill-defined and being set to 0.0 in labels with no predicted samples. Use `zero_division` parameter to control this behavior.\n",
      "  _warn_prf(average, modifier, msg_start, len(result))\n",
      "Testing:   1%|          | 1/97 [00:00<00:12,  7.56it/s]"
     ]
    },
    {
     "name": "stdout",
     "output_type": "stream",
     "text": [
      "AUC score: 0.44637573964497046\n",
      "Confusion martrix:\n",
      " [[ 0 52]\n",
      " [ 0 52]]\n",
      "Classification report:\n",
      "               precision    recall  f1-score   support\n",
      "\n",
      "           0       0.00      0.00      0.00        52\n",
      "           1       0.50      1.00      0.67        52\n",
      "\n",
      "    accuracy                           0.50       104\n",
      "   macro avg       0.25      0.50      0.33       104\n",
      "weighted avg       0.25      0.50      0.33       104\n",
      "\n",
      "Getting test accuracy:\n"
     ]
    },
    {
     "name": "stderr",
     "output_type": "stream",
     "text": [
      "Testing: 100%|██████████| 97/97 [00:16<00:00,  6.28it/s]\n",
      "/usr/local/lib/python3.7/site-packages/sklearn/metrics/_classification.py:1221: UndefinedMetricWarning: Precision and F-score are ill-defined and being set to 0.0 in labels with no predicted samples. Use `zero_division` parameter to control this behavior.\n",
      "  _warn_prf(average, modifier, msg_start, len(result))\n",
      "Training:   0%|          | 0/10 [00:00<?, ?it/s]"
     ]
    },
    {
     "name": "stdout",
     "output_type": "stream",
     "text": [
      "AUC score: 0.46779014773089594\n",
      "Confusion martrix:\n",
      " [[  0 388]\n",
      " [  0 388]]\n",
      "Classification report:\n",
      "               precision    recall  f1-score   support\n",
      "\n",
      "           0       0.00      0.00      0.00       388\n",
      "           1       0.50      1.00      0.67       388\n",
      "\n",
      "    accuracy                           0.50       776\n",
      "   macro avg       0.25      0.50      0.33       776\n",
      "weighted avg       0.25      0.50      0.33       776\n",
      "\n"
     ]
    },
    {
     "name": "stderr",
     "output_type": "stream",
     "text": [
      "Accuracy 0.800000: 100%|██████████| 10/10 [00:02<00:00,  4.68it/s]\n",
      "Validating:   8%|▊         | 1/13 [00:00<00:02,  5.15it/s]"
     ]
    },
    {
     "name": "stdout",
     "output_type": "stream",
     "text": [
      "Getting vote accuracy:\n"
     ]
    },
    {
     "name": "stderr",
     "output_type": "stream",
     "text": [
      "Validating: 100%|██████████| 13/13 [00:02<00:00,  5.95it/s]\n",
      "Testing:   1%|          | 1/97 [00:00<00:12,  7.54it/s]"
     ]
    },
    {
     "name": "stdout",
     "output_type": "stream",
     "text": [
      "AUC score: 0.6627218934911242\n",
      "Confusion martrix:\n",
      " [[ 2 50]\n",
      " [ 0 52]]\n",
      "Classification report:\n",
      "               precision    recall  f1-score   support\n",
      "\n",
      "           0       1.00      0.04      0.07        52\n",
      "           1       0.51      1.00      0.68        52\n",
      "\n",
      "    accuracy                           0.52       104\n",
      "   macro avg       0.75      0.52      0.37       104\n",
      "weighted avg       0.75      0.52      0.37       104\n",
      "\n",
      "Getting test accuracy:\n"
     ]
    },
    {
     "name": "stderr",
     "output_type": "stream",
     "text": [
      "Testing: 100%|██████████| 97/97 [00:15<00:00,  6.28it/s]\n",
      "Training:   0%|          | 0/10 [00:00<?, ?it/s]"
     ]
    },
    {
     "name": "stdout",
     "output_type": "stream",
     "text": [
      "AUC score: 0.5962974279944734\n",
      "Confusion martrix:\n",
      " [[  8 380]\n",
      " [  2 386]]\n",
      "Classification report:\n",
      "               precision    recall  f1-score   support\n",
      "\n",
      "           0       0.80      0.02      0.04       388\n",
      "           1       0.50      0.99      0.67       388\n",
      "\n",
      "    accuracy                           0.51       776\n",
      "   macro avg       0.65      0.51      0.35       776\n",
      "weighted avg       0.65      0.51      0.35       776\n",
      "\n"
     ]
    },
    {
     "name": "stderr",
     "output_type": "stream",
     "text": [
      "Accuracy 0.712500: 100%|██████████| 10/10 [00:02<00:00,  3.90it/s]\n",
      "Validating:   8%|▊         | 1/13 [00:00<00:02,  5.57it/s]"
     ]
    },
    {
     "name": "stdout",
     "output_type": "stream",
     "text": [
      "Getting vote accuracy:\n"
     ]
    },
    {
     "name": "stderr",
     "output_type": "stream",
     "text": [
      "Validating: 100%|██████████| 13/13 [00:02<00:00,  5.59it/s]\n",
      "Testing:   1%|          | 1/97 [00:00<00:11,  8.05it/s]"
     ]
    },
    {
     "name": "stdout",
     "output_type": "stream",
     "text": [
      "AUC score: 0.7821745562130178\n",
      "Confusion martrix:\n",
      " [[45  7]\n",
      " [26 26]]\n",
      "Classification report:\n",
      "               precision    recall  f1-score   support\n",
      "\n",
      "           0       0.63      0.87      0.73        52\n",
      "           1       0.79      0.50      0.61        52\n",
      "\n",
      "    accuracy                           0.68       104\n",
      "   macro avg       0.71      0.68      0.67       104\n",
      "weighted avg       0.71      0.68      0.67       104\n",
      "\n",
      "Getting test accuracy:\n"
     ]
    },
    {
     "name": "stderr",
     "output_type": "stream",
     "text": [
      "Testing: 100%|██████████| 97/97 [00:15<00:00,  4.88it/s]\n",
      "Training:   0%|          | 0/10 [00:00<?, ?it/s]"
     ]
    },
    {
     "name": "stdout",
     "output_type": "stream",
     "text": [
      "AUC score: 0.6675789138059305\n",
      "Confusion martrix:\n",
      " [[269 119]\n",
      " [183 205]]\n",
      "Classification report:\n",
      "               precision    recall  f1-score   support\n",
      "\n",
      "           0       0.60      0.69      0.64       388\n",
      "           1       0.63      0.53      0.58       388\n",
      "\n",
      "    accuracy                           0.61       776\n",
      "   macro avg       0.61      0.61      0.61       776\n",
      "weighted avg       0.61      0.61      0.61       776\n",
      "\n"
     ]
    },
    {
     "name": "stderr",
     "output_type": "stream",
     "text": [
      "Accuracy 0.562500: 100%|██████████| 10/10 [00:02<00:00,  4.13it/s]\n",
      "Validating:   8%|▊         | 1/13 [00:00<00:01,  6.10it/s]"
     ]
    },
    {
     "name": "stdout",
     "output_type": "stream",
     "text": [
      "Getting vote accuracy:\n"
     ]
    },
    {
     "name": "stderr",
     "output_type": "stream",
     "text": [
      "Validating: 100%|██████████| 13/13 [00:02<00:00,  6.14it/s]\n",
      "/usr/local/lib/python3.7/site-packages/sklearn/metrics/_classification.py:1221: UndefinedMetricWarning: Precision and F-score are ill-defined and being set to 0.0 in labels with no predicted samples. Use `zero_division` parameter to control this behavior.\n",
      "  _warn_prf(average, modifier, msg_start, len(result))\n",
      "Testing:   1%|          | 1/97 [00:00<00:14,  6.77it/s]"
     ]
    },
    {
     "name": "stdout",
     "output_type": "stream",
     "text": [
      "AUC score: 0.8738905325443787\n",
      "Confusion martrix:\n",
      " [[52  0]\n",
      " [52  0]]\n",
      "Classification report:\n",
      "               precision    recall  f1-score   support\n",
      "\n",
      "           0       0.50      1.00      0.67        52\n",
      "           1       0.00      0.00      0.00        52\n",
      "\n",
      "    accuracy                           0.50       104\n",
      "   macro avg       0.25      0.50      0.33       104\n",
      "weighted avg       0.25      0.50      0.33       104\n",
      "\n",
      "Getting test accuracy:\n"
     ]
    },
    {
     "name": "stderr",
     "output_type": "stream",
     "text": [
      "Testing: 100%|██████████| 97/97 [00:16<00:00,  6.20it/s]\n",
      "/usr/local/lib/python3.7/site-packages/sklearn/metrics/_classification.py:1221: UndefinedMetricWarning: Precision and F-score are ill-defined and being set to 0.0 in labels with no predicted samples. Use `zero_division` parameter to control this behavior.\n",
      "  _warn_prf(average, modifier, msg_start, len(result))\n",
      "Training:   0%|          | 0/10 [00:00<?, ?it/s]"
     ]
    },
    {
     "name": "stdout",
     "output_type": "stream",
     "text": [
      "AUC score: 0.8074184291635669\n",
      "Confusion martrix:\n",
      " [[388   0]\n",
      " [388   0]]\n",
      "Classification report:\n",
      "               precision    recall  f1-score   support\n",
      "\n",
      "           0       0.50      1.00      0.67       388\n",
      "           1       0.00      0.00      0.00       388\n",
      "\n",
      "    accuracy                           0.50       776\n",
      "   macro avg       0.25      0.50      0.33       776\n",
      "weighted avg       0.25      0.50      0.33       776\n",
      "\n",
      "Epoch:  2\n"
     ]
    },
    {
     "name": "stderr",
     "output_type": "stream",
     "text": [
      "Accuracy 0.775000: 100%|██████████| 10/10 [00:02<00:00,  4.16it/s]\n",
      "Validating:   8%|▊         | 1/13 [00:00<00:01,  6.06it/s]"
     ]
    },
    {
     "name": "stdout",
     "output_type": "stream",
     "text": [
      "Getting vote accuracy:\n"
     ]
    },
    {
     "name": "stderr",
     "output_type": "stream",
     "text": [
      "Validating: 100%|██████████| 13/13 [00:02<00:00,  5.71it/s]\n",
      "Testing:   1%|          | 1/97 [00:00<00:15,  6.37it/s]"
     ]
    },
    {
     "name": "stdout",
     "output_type": "stream",
     "text": [
      "AUC score: 0.8505917159763313\n",
      "Confusion martrix:\n",
      " [[46  6]\n",
      " [21 31]]\n",
      "Classification report:\n",
      "               precision    recall  f1-score   support\n",
      "\n",
      "           0       0.69      0.88      0.77        52\n",
      "           1       0.84      0.60      0.70        52\n",
      "\n",
      "    accuracy                           0.74       104\n",
      "   macro avg       0.76      0.74      0.73       104\n",
      "weighted avg       0.76      0.74      0.73       104\n",
      "\n",
      "Getting test accuracy:\n"
     ]
    },
    {
     "name": "stderr",
     "output_type": "stream",
     "text": [
      "Testing: 100%|██████████| 97/97 [00:16<00:00,  6.20it/s]\n",
      "Training:   0%|          | 0/10 [00:00<?, ?it/s]"
     ]
    },
    {
     "name": "stdout",
     "output_type": "stream",
     "text": [
      "AUC score: 0.6990713678393028\n",
      "Confusion martrix:\n",
      " [[272 116]\n",
      " [165 223]]\n",
      "Classification report:\n",
      "               precision    recall  f1-score   support\n",
      "\n",
      "           0       0.62      0.70      0.66       388\n",
      "           1       0.66      0.57      0.61       388\n",
      "\n",
      "    accuracy                           0.64       776\n",
      "   macro avg       0.64      0.64      0.64       776\n",
      "weighted avg       0.64      0.64      0.64       776\n",
      "\n"
     ]
    },
    {
     "name": "stderr",
     "output_type": "stream",
     "text": [
      "Accuracy 0.725000: 100%|██████████| 10/10 [00:02<00:00,  3.69it/s]\n",
      "Validating:   0%|          | 0/13 [00:00<?, ?it/s]"
     ]
    },
    {
     "name": "stdout",
     "output_type": "stream",
     "text": [
      "Getting vote accuracy:\n"
     ]
    },
    {
     "name": "stderr",
     "output_type": "stream",
     "text": [
      "Validating: 100%|██████████| 13/13 [00:03<00:00,  4.48it/s]\n",
      "/usr/local/lib/python3.7/site-packages/sklearn/metrics/_classification.py:1221: UndefinedMetricWarning: Precision and F-score are ill-defined and being set to 0.0 in labels with no predicted samples. Use `zero_division` parameter to control this behavior.\n",
      "  _warn_prf(average, modifier, msg_start, len(result))\n",
      "Testing:   1%|          | 1/97 [00:00<00:16,  5.87it/s]"
     ]
    },
    {
     "name": "stdout",
     "output_type": "stream",
     "text": [
      "AUC score: 0.4275147928994083\n",
      "Confusion martrix:\n",
      " [[ 0 52]\n",
      " [ 0 52]]\n",
      "Classification report:\n",
      "               precision    recall  f1-score   support\n",
      "\n",
      "           0       0.00      0.00      0.00        52\n",
      "           1       0.50      1.00      0.67        52\n",
      "\n",
      "    accuracy                           0.50       104\n",
      "   macro avg       0.25      0.50      0.33       104\n",
      "weighted avg       0.25      0.50      0.33       104\n",
      "\n",
      "Getting test accuracy:\n"
     ]
    },
    {
     "name": "stderr",
     "output_type": "stream",
     "text": [
      "Testing: 100%|██████████| 97/97 [00:17<00:00,  5.95it/s]\n",
      "Training:   0%|          | 0/10 [00:00<?, ?it/s]"
     ]
    },
    {
     "name": "stdout",
     "output_type": "stream",
     "text": [
      "AUC score: 0.4568631097885004\n",
      "Confusion martrix:\n",
      " [[  0 388]\n",
      " [  1 387]]\n",
      "Classification report:\n",
      "               precision    recall  f1-score   support\n",
      "\n",
      "           0       0.00      0.00      0.00       388\n",
      "           1       0.50      1.00      0.67       388\n",
      "\n",
      "    accuracy                           0.50       776\n",
      "   macro avg       0.25      0.50      0.33       776\n",
      "weighted avg       0.25      0.50      0.33       776\n",
      "\n"
     ]
    },
    {
     "name": "stderr",
     "output_type": "stream",
     "text": [
      "Accuracy 0.825000: 100%|██████████| 10/10 [00:02<00:00,  3.84it/s]\n",
      "Validating:   0%|          | 0/13 [00:00<?, ?it/s]"
     ]
    },
    {
     "name": "stdout",
     "output_type": "stream",
     "text": [
      "Getting vote accuracy:\n"
     ]
    },
    {
     "name": "stderr",
     "output_type": "stream",
     "text": [
      "Validating: 100%|██████████| 13/13 [00:02<00:00,  5.35it/s]\n",
      "Testing:   1%|          | 1/97 [00:00<00:15,  6.12it/s]"
     ]
    },
    {
     "name": "stdout",
     "output_type": "stream",
     "text": [
      "AUC score: 0.5824704142011834\n",
      "Confusion martrix:\n",
      " [[ 9 43]\n",
      " [11 41]]\n",
      "Classification report:\n",
      "               precision    recall  f1-score   support\n",
      "\n",
      "           0       0.45      0.17      0.25        52\n",
      "           1       0.49      0.79      0.60        52\n",
      "\n",
      "    accuracy                           0.48       104\n",
      "   macro avg       0.47      0.48      0.43       104\n",
      "weighted avg       0.47      0.48      0.43       104\n",
      "\n",
      "Getting test accuracy:\n"
     ]
    },
    {
     "name": "stderr",
     "output_type": "stream",
     "text": [
      "Testing: 100%|██████████| 97/97 [00:15<00:00,  6.50it/s]\n",
      "Training:   0%|          | 0/10 [00:00<?, ?it/s]"
     ]
    },
    {
     "name": "stdout",
     "output_type": "stream",
     "text": [
      "AUC score: 0.6353889892655968\n",
      "Confusion martrix:\n",
      " [[ 74 314]\n",
      " [ 49 339]]\n",
      "Classification report:\n",
      "               precision    recall  f1-score   support\n",
      "\n",
      "           0       0.60      0.19      0.29       388\n",
      "           1       0.52      0.87      0.65       388\n",
      "\n",
      "    accuracy                           0.53       776\n",
      "   macro avg       0.56      0.53      0.47       776\n",
      "weighted avg       0.56      0.53      0.47       776\n",
      "\n"
     ]
    },
    {
     "name": "stderr",
     "output_type": "stream",
     "text": [
      "Accuracy 0.812500: 100%|██████████| 10/10 [00:02<00:00,  4.09it/s]\n",
      "Validating:   8%|▊         | 1/13 [00:00<00:02,  5.65it/s]"
     ]
    },
    {
     "name": "stdout",
     "output_type": "stream",
     "text": [
      "Getting vote accuracy:\n"
     ]
    },
    {
     "name": "stderr",
     "output_type": "stream",
     "text": [
      "Validating: 100%|██████████| 13/13 [00:02<00:00,  5.47it/s]\n",
      "Testing:   1%|          | 1/97 [00:00<00:14,  6.52it/s]"
     ]
    },
    {
     "name": "stdout",
     "output_type": "stream",
     "text": [
      "AUC score: 0.7821745562130177\n",
      "Confusion martrix:\n",
      " [[47  5]\n",
      " [34 18]]\n",
      "Classification report:\n",
      "               precision    recall  f1-score   support\n",
      "\n",
      "           0       0.58      0.90      0.71        52\n",
      "           1       0.78      0.35      0.48        52\n",
      "\n",
      "    accuracy                           0.62       104\n",
      "   macro avg       0.68      0.62      0.59       104\n",
      "weighted avg       0.68      0.62      0.59       104\n",
      "\n",
      "Getting test accuracy:\n"
     ]
    },
    {
     "name": "stderr",
     "output_type": "stream",
     "text": [
      "Testing: 100%|██████████| 97/97 [00:14<00:00,  6.51it/s]\n",
      "Training:   0%|          | 0/10 [00:00<?, ?it/s]"
     ]
    },
    {
     "name": "stdout",
     "output_type": "stream",
     "text": [
      "AUC score: 0.6822125092996069\n",
      "Confusion martrix:\n",
      " [[302  86]\n",
      " [214 174]]\n",
      "Classification report:\n",
      "               precision    recall  f1-score   support\n",
      "\n",
      "           0       0.59      0.78      0.67       388\n",
      "           1       0.67      0.45      0.54       388\n",
      "\n",
      "    accuracy                           0.61       776\n",
      "   macro avg       0.63      0.61      0.60       776\n",
      "weighted avg       0.63      0.61      0.60       776\n",
      "\n"
     ]
    },
    {
     "name": "stderr",
     "output_type": "stream",
     "text": [
      "Accuracy 0.800000: 100%|██████████| 10/10 [00:02<00:00,  4.44it/s]\n",
      "Validating:   8%|▊         | 1/13 [00:00<00:02,  5.34it/s]"
     ]
    },
    {
     "name": "stdout",
     "output_type": "stream",
     "text": [
      "Getting vote accuracy:\n"
     ]
    },
    {
     "name": "stderr",
     "output_type": "stream",
     "text": [
      "Validating: 100%|██████████| 13/13 [00:02<00:00,  5.42it/s]\n",
      "/usr/local/lib/python3.7/site-packages/sklearn/metrics/_classification.py:1221: UndefinedMetricWarning: Precision and F-score are ill-defined and being set to 0.0 in labels with no predicted samples. Use `zero_division` parameter to control this behavior.\n",
      "  _warn_prf(average, modifier, msg_start, len(result))\n",
      "Testing:   1%|          | 1/97 [00:00<00:15,  6.30it/s]"
     ]
    },
    {
     "name": "stdout",
     "output_type": "stream",
     "text": [
      "AUC score: 0.9012573964497042\n",
      "Confusion martrix:\n",
      " [[52  0]\n",
      " [52  0]]\n",
      "Classification report:\n",
      "               precision    recall  f1-score   support\n",
      "\n",
      "           0       0.50      1.00      0.67        52\n",
      "           1       0.00      0.00      0.00        52\n",
      "\n",
      "    accuracy                           0.50       104\n",
      "   macro avg       0.25      0.50      0.33       104\n",
      "weighted avg       0.25      0.50      0.33       104\n",
      "\n",
      "Getting test accuracy:\n"
     ]
    },
    {
     "name": "stderr",
     "output_type": "stream",
     "text": [
      "Testing: 100%|██████████| 97/97 [00:14<00:00,  6.52it/s]\n",
      "Training:   0%|          | 0/10 [00:00<?, ?it/s]"
     ]
    },
    {
     "name": "stdout",
     "output_type": "stream",
     "text": [
      "AUC score: 0.8021774364969709\n",
      "Confusion martrix:\n",
      " [[388   0]\n",
      " [379   9]]\n",
      "Classification report:\n",
      "               precision    recall  f1-score   support\n",
      "\n",
      "           0       0.51      1.00      0.67       388\n",
      "           1       1.00      0.02      0.05       388\n",
      "\n",
      "    accuracy                           0.51       776\n",
      "   macro avg       0.75      0.51      0.36       776\n",
      "weighted avg       0.75      0.51      0.36       776\n",
      "\n",
      "Epoch:  3\n"
     ]
    },
    {
     "name": "stderr",
     "output_type": "stream",
     "text": [
      "Accuracy 0.837500: 100%|██████████| 10/10 [00:02<00:00,  4.42it/s]\n",
      "Validating:   8%|▊         | 1/13 [00:00<00:02,  5.81it/s]"
     ]
    },
    {
     "name": "stdout",
     "output_type": "stream",
     "text": [
      "Getting vote accuracy:\n"
     ]
    },
    {
     "name": "stderr",
     "output_type": "stream",
     "text": [
      "Validating: 100%|██████████| 13/13 [00:02<00:00,  4.96it/s]\n",
      "Testing:   1%|          | 1/97 [00:00<00:16,  5.93it/s]"
     ]
    },
    {
     "name": "stdout",
     "output_type": "stream",
     "text": [
      "AUC score: 0.9219674556213018\n",
      "Confusion martrix:\n",
      " [[51  1]\n",
      " [33 19]]\n",
      "Classification report:\n",
      "               precision    recall  f1-score   support\n",
      "\n",
      "           0       0.61      0.98      0.75        52\n",
      "           1       0.95      0.37      0.53        52\n",
      "\n",
      "    accuracy                           0.67       104\n",
      "   macro avg       0.78      0.67      0.64       104\n",
      "weighted avg       0.78      0.67      0.64       104\n",
      "\n",
      "Getting test accuracy:\n"
     ]
    },
    {
     "name": "stderr",
     "output_type": "stream",
     "text": [
      "Testing: 100%|██████████| 97/97 [00:15<00:00,  6.52it/s]\n",
      "Training:   0%|          | 0/10 [00:00<?, ?it/s]"
     ]
    },
    {
     "name": "stdout",
     "output_type": "stream",
     "text": [
      "AUC score: 0.6937307365288554\n",
      "Confusion martrix:\n",
      " [[336  52]\n",
      " [263 125]]\n",
      "Classification report:\n",
      "               precision    recall  f1-score   support\n",
      "\n",
      "           0       0.56      0.87      0.68       388\n",
      "           1       0.71      0.32      0.44       388\n",
      "\n",
      "    accuracy                           0.59       776\n",
      "   macro avg       0.63      0.59      0.56       776\n",
      "weighted avg       0.63      0.59      0.56       776\n",
      "\n"
     ]
    },
    {
     "name": "stderr",
     "output_type": "stream",
     "text": [
      "Accuracy 0.687500: 100%|██████████| 10/10 [00:02<00:00,  4.32it/s]\n",
      "Validating:   8%|▊         | 1/13 [00:00<00:02,  5.19it/s]"
     ]
    },
    {
     "name": "stdout",
     "output_type": "stream",
     "text": [
      "Getting vote accuracy:\n"
     ]
    },
    {
     "name": "stderr",
     "output_type": "stream",
     "text": [
      "Validating: 100%|██████████| 13/13 [00:02<00:00,  4.36it/s]\n",
      "Testing:   0%|          | 0/97 [00:00<?, ?it/s]"
     ]
    },
    {
     "name": "stdout",
     "output_type": "stream",
     "text": [
      "AUC score: 0.46856508875739644\n",
      "Confusion martrix:\n",
      " [[ 4 48]\n",
      " [ 7 45]]\n",
      "Classification report:\n",
      "               precision    recall  f1-score   support\n",
      "\n",
      "           0       0.36      0.08      0.13        52\n",
      "           1       0.48      0.87      0.62        52\n",
      "\n",
      "    accuracy                           0.47       104\n",
      "   macro avg       0.42      0.47      0.37       104\n",
      "weighted avg       0.42      0.47      0.37       104\n",
      "\n",
      "Getting test accuracy:\n"
     ]
    },
    {
     "name": "stderr",
     "output_type": "stream",
     "text": [
      "Testing: 100%|██████████| 97/97 [00:17<00:00,  7.16it/s]\n",
      "Training:   0%|          | 0/10 [00:00<?, ?it/s]"
     ]
    },
    {
     "name": "stdout",
     "output_type": "stream",
     "text": [
      "AUC score: 0.4277553406313105\n",
      "Confusion martrix:\n",
      " [[ 14 374]\n",
      " [ 50 338]]\n",
      "Classification report:\n",
      "               precision    recall  f1-score   support\n",
      "\n",
      "           0       0.22      0.04      0.06       388\n",
      "           1       0.47      0.87      0.61       388\n",
      "\n",
      "    accuracy                           0.45       776\n",
      "   macro avg       0.35      0.45      0.34       776\n",
      "weighted avg       0.35      0.45      0.34       776\n",
      "\n"
     ]
    },
    {
     "name": "stderr",
     "output_type": "stream",
     "text": [
      "Accuracy 0.850000: 100%|██████████| 10/10 [00:02<00:00,  3.19it/s]\n",
      "Validating:   0%|          | 0/13 [00:00<?, ?it/s]"
     ]
    },
    {
     "name": "stdout",
     "output_type": "stream",
     "text": [
      "Getting vote accuracy:\n"
     ]
    },
    {
     "name": "stderr",
     "output_type": "stream",
     "text": [
      "Validating: 100%|██████████| 13/13 [00:02<00:00,  4.93it/s]\n",
      "Testing:   0%|          | 0/97 [00:00<?, ?it/s]"
     ]
    },
    {
     "name": "stdout",
     "output_type": "stream",
     "text": [
      "AUC score: 0.6283284023668638\n",
      "Confusion martrix:\n",
      " [[47  5]\n",
      " [36 16]]\n",
      "Classification report:\n",
      "               precision    recall  f1-score   support\n",
      "\n",
      "           0       0.57      0.90      0.70        52\n",
      "           1       0.76      0.31      0.44        52\n",
      "\n",
      "    accuracy                           0.61       104\n",
      "   macro avg       0.66      0.61      0.57       104\n",
      "weighted avg       0.66      0.61      0.57       104\n",
      "\n",
      "Getting test accuracy:\n"
     ]
    },
    {
     "name": "stderr",
     "output_type": "stream",
     "text": [
      "Testing: 100%|██████████| 97/97 [00:16<00:00,  6.75it/s]\n",
      "Training:   0%|          | 0/10 [00:00<?, ?it/s]"
     ]
    },
    {
     "name": "stdout",
     "output_type": "stream",
     "text": [
      "AUC score: 0.6480032415772132\n",
      "Confusion martrix:\n",
      " [[313  75]\n",
      " [267 121]]\n",
      "Classification report:\n",
      "               precision    recall  f1-score   support\n",
      "\n",
      "           0       0.54      0.81      0.65       388\n",
      "           1       0.62      0.31      0.41       388\n",
      "\n",
      "    accuracy                           0.56       776\n",
      "   macro avg       0.58      0.56      0.53       776\n",
      "weighted avg       0.58      0.56      0.53       776\n",
      "\n"
     ]
    },
    {
     "name": "stderr",
     "output_type": "stream",
     "text": [
      "Accuracy 0.812500: 100%|██████████| 10/10 [00:02<00:00,  3.79it/s]\n",
      "Validating:   8%|▊         | 1/13 [00:00<00:02,  5.15it/s]"
     ]
    },
    {
     "name": "stdout",
     "output_type": "stream",
     "text": [
      "Getting vote accuracy:\n"
     ]
    },
    {
     "name": "stderr",
     "output_type": "stream",
     "text": [
      "Validating: 100%|██████████| 13/13 [00:02<00:00,  5.03it/s]\n",
      "Testing:   1%|          | 1/97 [00:00<00:16,  5.73it/s]"
     ]
    },
    {
     "name": "stdout",
     "output_type": "stream",
     "text": [
      "AUC score: 0.8139792899408284\n",
      "Confusion martrix:\n",
      " [[52  0]\n",
      " [45  7]]\n",
      "Classification report:\n",
      "               precision    recall  f1-score   support\n",
      "\n",
      "           0       0.54      1.00      0.70        52\n",
      "           1       1.00      0.13      0.24        52\n",
      "\n",
      "    accuracy                           0.57       104\n",
      "   macro avg       0.77      0.57      0.47       104\n",
      "weighted avg       0.77      0.57      0.47       104\n",
      "\n",
      "Getting test accuracy:\n"
     ]
    },
    {
     "name": "stderr",
     "output_type": "stream",
     "text": [
      "Testing: 100%|██████████| 97/97 [00:16<00:00,  7.28it/s]\n",
      "Training:   0%|          | 0/10 [00:00<?, ?it/s]"
     ]
    },
    {
     "name": "stdout",
     "output_type": "stream",
     "text": [
      "AUC score: 0.6796816877457754\n",
      "Confusion martrix:\n",
      " [[367  21]\n",
      " [321  67]]\n",
      "Classification report:\n",
      "               precision    recall  f1-score   support\n",
      "\n",
      "           0       0.53      0.95      0.68       388\n",
      "           1       0.76      0.17      0.28       388\n",
      "\n",
      "    accuracy                           0.56       776\n",
      "   macro avg       0.65      0.56      0.48       776\n",
      "weighted avg       0.65      0.56      0.48       776\n",
      "\n"
     ]
    },
    {
     "name": "stderr",
     "output_type": "stream",
     "text": [
      "Accuracy 0.750000: 100%|██████████| 10/10 [00:02<00:00,  4.16it/s]\n",
      "Validating:   8%|▊         | 1/13 [00:00<00:02,  5.92it/s]"
     ]
    },
    {
     "name": "stdout",
     "output_type": "stream",
     "text": [
      "Getting vote accuracy:\n"
     ]
    },
    {
     "name": "stderr",
     "output_type": "stream",
     "text": [
      "Validating: 100%|██████████| 13/13 [00:02<00:00,  5.03it/s]\n",
      "Testing:   1%|          | 1/97 [00:00<00:17,  5.53it/s]"
     ]
    },
    {
     "name": "stdout",
     "output_type": "stream",
     "text": [
      "AUC score: 0.9197485207100592\n",
      "Confusion martrix:\n",
      " [[52  0]\n",
      " [47  5]]\n",
      "Classification report:\n",
      "               precision    recall  f1-score   support\n",
      "\n",
      "           0       0.53      1.00      0.69        52\n",
      "           1       1.00      0.10      0.18        52\n",
      "\n",
      "    accuracy                           0.55       104\n",
      "   macro avg       0.76      0.55      0.43       104\n",
      "weighted avg       0.76      0.55      0.43       104\n",
      "\n",
      "Getting test accuracy:\n"
     ]
    },
    {
     "name": "stderr",
     "output_type": "stream",
     "text": [
      "Testing: 100%|██████████| 97/97 [00:16<00:00,  7.08it/s]\n",
      "Training:   0%|          | 0/10 [00:00<?, ?it/s]"
     ]
    },
    {
     "name": "stdout",
     "output_type": "stream",
     "text": [
      "AUC score: 0.8095307684132214\n",
      "Confusion martrix:\n",
      " [[386   2]\n",
      " [340  48]]\n",
      "Classification report:\n",
      "               precision    recall  f1-score   support\n",
      "\n",
      "           0       0.53      0.99      0.69       388\n",
      "           1       0.96      0.12      0.22       388\n",
      "\n",
      "    accuracy                           0.56       776\n",
      "   macro avg       0.75      0.56      0.46       776\n",
      "weighted avg       0.75      0.56      0.46       776\n",
      "\n",
      "Epoch:  4\n"
     ]
    },
    {
     "name": "stderr",
     "output_type": "stream",
     "text": [
      "Accuracy 0.862500: 100%|██████████| 10/10 [00:02<00:00,  4.04it/s]\n",
      "Validating:   0%|          | 0/13 [00:00<?, ?it/s]"
     ]
    },
    {
     "name": "stdout",
     "output_type": "stream",
     "text": [
      "Getting vote accuracy:\n"
     ]
    },
    {
     "name": "stderr",
     "output_type": "stream",
     "text": [
      "Validating: 100%|██████████| 13/13 [00:02<00:00,  5.75it/s]\n",
      "Testing:   1%|          | 1/97 [00:00<00:11,  8.23it/s]"
     ]
    },
    {
     "name": "stdout",
     "output_type": "stream",
     "text": [
      "AUC score: 0.8968195266272189\n",
      "Confusion martrix:\n",
      " [[52  0]\n",
      " [46  6]]\n",
      "Classification report:\n",
      "               precision    recall  f1-score   support\n",
      "\n",
      "           0       0.53      1.00      0.69        52\n",
      "           1       1.00      0.12      0.21        52\n",
      "\n",
      "    accuracy                           0.56       104\n",
      "   macro avg       0.77      0.56      0.45       104\n",
      "weighted avg       0.77      0.56      0.45       104\n",
      "\n",
      "Getting test accuracy:\n"
     ]
    },
    {
     "name": "stderr",
     "output_type": "stream",
     "text": [
      "Testing: 100%|██████████| 97/97 [00:16<00:00,  6.04it/s]\n",
      "Training:   0%|          | 0/10 [00:00<?, ?it/s]"
     ]
    },
    {
     "name": "stdout",
     "output_type": "stream",
     "text": [
      "AUC score: 0.7165878414284197\n",
      "Confusion martrix:\n",
      " [[373  15]\n",
      " [330  58]]\n",
      "Classification report:\n",
      "               precision    recall  f1-score   support\n",
      "\n",
      "           0       0.53      0.96      0.68       388\n",
      "           1       0.79      0.15      0.25       388\n",
      "\n",
      "    accuracy                           0.56       776\n",
      "   macro avg       0.66      0.56      0.47       776\n",
      "weighted avg       0.66      0.56      0.47       776\n",
      "\n"
     ]
    },
    {
     "name": "stderr",
     "output_type": "stream",
     "text": [
      "Accuracy 0.825000: 100%|██████████| 10/10 [00:02<00:00,  3.93it/s]\n",
      "Validating:   0%|          | 0/13 [00:00<?, ?it/s]"
     ]
    },
    {
     "name": "stdout",
     "output_type": "stream",
     "text": [
      "Getting vote accuracy:\n"
     ]
    },
    {
     "name": "stderr",
     "output_type": "stream",
     "text": [
      "Validating: 100%|██████████| 13/13 [00:02<00:00,  4.71it/s]\n",
      "Testing:   1%|          | 1/97 [00:00<00:11,  8.27it/s]"
     ]
    },
    {
     "name": "stdout",
     "output_type": "stream",
     "text": [
      "AUC score: 0.5917159763313611\n",
      "Confusion martrix:\n",
      " [[22 30]\n",
      " [17 35]]\n",
      "Classification report:\n",
      "               precision    recall  f1-score   support\n",
      "\n",
      "           0       0.56      0.42      0.48        52\n",
      "           1       0.54      0.67      0.60        52\n",
      "\n",
      "    accuracy                           0.55       104\n",
      "   macro avg       0.55      0.55      0.54       104\n",
      "weighted avg       0.55      0.55      0.54       104\n",
      "\n",
      "Getting test accuracy:\n"
     ]
    },
    {
     "name": "stderr",
     "output_type": "stream",
     "text": [
      "Testing: 100%|██████████| 97/97 [00:16<00:00,  5.83it/s]\n",
      "Training:   0%|          | 0/10 [00:00<?, ?it/s]"
     ]
    },
    {
     "name": "stdout",
     "output_type": "stream",
     "text": [
      "AUC score: 0.4301400255074928\n",
      "Confusion martrix:\n",
      " [[100 288]\n",
      " [165 223]]\n",
      "Classification report:\n",
      "               precision    recall  f1-score   support\n",
      "\n",
      "           0       0.38      0.26      0.31       388\n",
      "           1       0.44      0.57      0.50       388\n",
      "\n",
      "    accuracy                           0.42       776\n",
      "   macro avg       0.41      0.42      0.40       776\n",
      "weighted avg       0.41      0.42      0.40       776\n",
      "\n"
     ]
    },
    {
     "name": "stderr",
     "output_type": "stream",
     "text": [
      "Accuracy 0.775000: 100%|██████████| 10/10 [00:02<00:00,  4.05it/s]\n",
      "Validating:   0%|          | 0/13 [00:00<?, ?it/s]"
     ]
    },
    {
     "name": "stdout",
     "output_type": "stream",
     "text": [
      "Getting vote accuracy:\n"
     ]
    },
    {
     "name": "stderr",
     "output_type": "stream",
     "text": [
      "Validating: 100%|██████████| 13/13 [00:02<00:00,  5.07it/s]\n",
      "Testing:   1%|          | 1/97 [00:00<00:12,  7.60it/s]"
     ]
    },
    {
     "name": "stdout",
     "output_type": "stream",
     "text": [
      "AUC score: 0.7965976331360947\n",
      "Confusion martrix:\n",
      " [[50  2]\n",
      " [45  7]]\n",
      "Classification report:\n",
      "               precision    recall  f1-score   support\n",
      "\n",
      "           0       0.53      0.96      0.68        52\n",
      "           1       0.78      0.13      0.23        52\n",
      "\n",
      "    accuracy                           0.55       104\n",
      "   macro avg       0.65      0.55      0.45       104\n",
      "weighted avg       0.65      0.55      0.45       104\n",
      "\n",
      "Getting test accuracy:\n"
     ]
    },
    {
     "name": "stderr",
     "output_type": "stream",
     "text": [
      "Testing: 100%|██████████| 97/97 [00:16<00:00,  6.34it/s]\n",
      "Training:   0%|          | 0/10 [00:00<?, ?it/s]"
     ]
    },
    {
     "name": "stdout",
     "output_type": "stream",
     "text": [
      "AUC score: 0.6744938356892338\n",
      "Confusion martrix:\n",
      " [[353  35]\n",
      " [282 106]]\n",
      "Classification report:\n",
      "               precision    recall  f1-score   support\n",
      "\n",
      "           0       0.56      0.91      0.69       388\n",
      "           1       0.75      0.27      0.40       388\n",
      "\n",
      "    accuracy                           0.59       776\n",
      "   macro avg       0.65      0.59      0.55       776\n",
      "weighted avg       0.65      0.59      0.55       776\n",
      "\n"
     ]
    },
    {
     "name": "stderr",
     "output_type": "stream",
     "text": [
      "Accuracy 0.837500: 100%|██████████| 10/10 [00:02<00:00,  4.11it/s]\n",
      "Validating:   8%|▊         | 1/13 [00:00<00:02,  5.15it/s]"
     ]
    },
    {
     "name": "stdout",
     "output_type": "stream",
     "text": [
      "Getting vote accuracy:\n"
     ]
    },
    {
     "name": "stderr",
     "output_type": "stream",
     "text": [
      "Validating: 100%|██████████| 13/13 [00:02<00:00,  5.15it/s]\n",
      "Testing:   1%|          | 1/97 [00:00<00:11,  8.32it/s]"
     ]
    },
    {
     "name": "stdout",
     "output_type": "stream",
     "text": [
      "AUC score: 0.8764792899408285\n",
      "Confusion martrix:\n",
      " [[52  0]\n",
      " [46  6]]\n",
      "Classification report:\n",
      "               precision    recall  f1-score   support\n",
      "\n",
      "           0       0.53      1.00      0.69        52\n",
      "           1       1.00      0.12      0.21        52\n",
      "\n",
      "    accuracy                           0.56       104\n",
      "   macro avg       0.77      0.56      0.45       104\n",
      "weighted avg       0.77      0.56      0.45       104\n",
      "\n",
      "Getting test accuracy:\n"
     ]
    },
    {
     "name": "stderr",
     "output_type": "stream",
     "text": [
      "Testing: 100%|██████████| 97/97 [00:16<00:00,  5.99it/s]\n",
      "Training:   0%|          | 0/10 [00:00<?, ?it/s]"
     ]
    },
    {
     "name": "stdout",
     "output_type": "stream",
     "text": [
      "AUC score: 0.6643240514401105\n",
      "Confusion martrix:\n",
      " [[365  23]\n",
      " [297  91]]\n",
      "Classification report:\n",
      "               precision    recall  f1-score   support\n",
      "\n",
      "           0       0.55      0.94      0.70       388\n",
      "           1       0.80      0.23      0.36       388\n",
      "\n",
      "    accuracy                           0.59       776\n",
      "   macro avg       0.67      0.59      0.53       776\n",
      "weighted avg       0.67      0.59      0.53       776\n",
      "\n"
     ]
    },
    {
     "name": "stderr",
     "output_type": "stream",
     "text": [
      "Accuracy 0.862500: 100%|██████████| 10/10 [00:02<00:00,  3.48it/s]\n",
      "Validating:   0%|          | 0/13 [00:00<?, ?it/s]"
     ]
    },
    {
     "name": "stdout",
     "output_type": "stream",
     "text": [
      "Getting vote accuracy:\n"
     ]
    },
    {
     "name": "stderr",
     "output_type": "stream",
     "text": [
      "Validating: 100%|██████████| 13/13 [00:02<00:00,  5.17it/s]\n",
      "Testing:   1%|          | 1/97 [00:00<00:12,  7.97it/s]"
     ]
    },
    {
     "name": "stdout",
     "output_type": "stream",
     "text": [
      "AUC score: 0.9049556213017752\n",
      "Confusion martrix:\n",
      " [[52  0]\n",
      " [20 32]]\n",
      "Classification report:\n",
      "               precision    recall  f1-score   support\n",
      "\n",
      "           0       0.72      1.00      0.84        52\n",
      "           1       1.00      0.62      0.76        52\n",
      "\n",
      "    accuracy                           0.81       104\n",
      "   macro avg       0.86      0.81      0.80       104\n",
      "weighted avg       0.86      0.81      0.80       104\n",
      "\n",
      "Getting test accuracy:\n"
     ]
    },
    {
     "name": "stderr",
     "output_type": "stream",
     "text": [
      "Testing: 100%|██████████| 97/97 [00:15<00:00,  6.36it/s]\n",
      "Training:   0%|          | 0/10 [00:00<?, ?it/s]"
     ]
    },
    {
     "name": "stdout",
     "output_type": "stream",
     "text": [
      "AUC score: 0.8196341268997768\n",
      "Confusion martrix:\n",
      " [[315  73]\n",
      " [138 250]]\n",
      "Classification report:\n",
      "               precision    recall  f1-score   support\n",
      "\n",
      "           0       0.70      0.81      0.75       388\n",
      "           1       0.77      0.64      0.70       388\n",
      "\n",
      "    accuracy                           0.73       776\n",
      "   macro avg       0.73      0.73      0.73       776\n",
      "weighted avg       0.73      0.73      0.73       776\n",
      "\n",
      "Epoch:  5\n"
     ]
    },
    {
     "name": "stderr",
     "output_type": "stream",
     "text": [
      "Accuracy 0.837500: 100%|██████████| 10/10 [00:02<00:00,  4.46it/s]\n",
      "Validating:   8%|▊         | 1/13 [00:00<00:02,  5.55it/s]"
     ]
    },
    {
     "name": "stdout",
     "output_type": "stream",
     "text": [
      "Getting vote accuracy:\n"
     ]
    },
    {
     "name": "stderr",
     "output_type": "stream",
     "text": [
      "Validating: 100%|██████████| 13/13 [00:02<00:00,  5.46it/s]\n",
      "Testing:   1%|          | 1/97 [00:00<00:15,  6.13it/s]"
     ]
    },
    {
     "name": "stdout",
     "output_type": "stream",
     "text": [
      "AUC score: 0.9715236686390533\n",
      "Confusion martrix:\n",
      " [[52  0]\n",
      " [50  2]]\n",
      "Classification report:\n",
      "               precision    recall  f1-score   support\n",
      "\n",
      "           0       0.51      1.00      0.68        52\n",
      "           1       1.00      0.04      0.07        52\n",
      "\n",
      "    accuracy                           0.52       104\n",
      "   macro avg       0.75      0.52      0.37       104\n",
      "weighted avg       0.75      0.52      0.37       104\n",
      "\n",
      "Getting test accuracy:\n"
     ]
    },
    {
     "name": "stderr",
     "output_type": "stream",
     "text": [
      "Testing: 100%|██████████| 97/97 [00:15<00:00,  5.92it/s]\n",
      "Training:   0%|          | 0/10 [00:00<?, ?it/s]"
     ]
    },
    {
     "name": "stdout",
     "output_type": "stream",
     "text": [
      "AUC score: 0.7695358167711766\n",
      "Confusion martrix:\n",
      " [[385   3]\n",
      " [350  38]]\n",
      "Classification report:\n",
      "               precision    recall  f1-score   support\n",
      "\n",
      "           0       0.52      0.99      0.69       388\n",
      "           1       0.93      0.10      0.18       388\n",
      "\n",
      "    accuracy                           0.55       776\n",
      "   macro avg       0.73      0.55      0.43       776\n",
      "weighted avg       0.73      0.55      0.43       776\n",
      "\n"
     ]
    },
    {
     "name": "stderr",
     "output_type": "stream",
     "text": [
      "Accuracy 0.862500: 100%|██████████| 10/10 [00:02<00:00,  4.05it/s]\n",
      "Validating:   8%|▊         | 1/13 [00:00<00:02,  5.22it/s]"
     ]
    },
    {
     "name": "stdout",
     "output_type": "stream",
     "text": [
      "Getting vote accuracy:\n"
     ]
    },
    {
     "name": "stderr",
     "output_type": "stream",
     "text": [
      "Validating: 100%|██████████| 13/13 [00:02<00:00,  5.12it/s]\n",
      "Testing:   1%|          | 1/97 [00:00<00:17,  5.61it/s]"
     ]
    },
    {
     "name": "stdout",
     "output_type": "stream",
     "text": [
      "AUC score: 0.5654585798816568\n",
      "Confusion martrix:\n",
      " [[46  6]\n",
      " [36 16]]\n",
      "Classification report:\n",
      "               precision    recall  f1-score   support\n",
      "\n",
      "           0       0.56      0.88      0.69        52\n",
      "           1       0.73      0.31      0.43        52\n",
      "\n",
      "    accuracy                           0.60       104\n",
      "   macro avg       0.64      0.60      0.56       104\n",
      "weighted avg       0.64      0.60      0.56       104\n",
      "\n",
      "Getting test accuracy:\n"
     ]
    },
    {
     "name": "stderr",
     "output_type": "stream",
     "text": [
      "Testing: 100%|██████████| 97/97 [00:15<00:00,  5.55it/s]\n",
      "Training:   0%|          | 0/10 [00:00<?, ?it/s]"
     ]
    },
    {
     "name": "stdout",
     "output_type": "stream",
     "text": [
      "AUC score: 0.4610944308640664\n",
      "Confusion martrix:\n",
      " [[304  84]\n",
      " [282 106]]\n",
      "Classification report:\n",
      "               precision    recall  f1-score   support\n",
      "\n",
      "           0       0.52      0.78      0.62       388\n",
      "           1       0.56      0.27      0.37       388\n",
      "\n",
      "    accuracy                           0.53       776\n",
      "   macro avg       0.54      0.53      0.50       776\n",
      "weighted avg       0.54      0.53      0.50       776\n",
      "\n"
     ]
    },
    {
     "name": "stderr",
     "output_type": "stream",
     "text": [
      "Accuracy 0.725000: 100%|██████████| 10/10 [00:02<00:00,  3.81it/s]\n",
      "Validating:   8%|▊         | 1/13 [00:00<00:02,  5.18it/s]"
     ]
    },
    {
     "name": "stdout",
     "output_type": "stream",
     "text": [
      "Getting vote accuracy:\n"
     ]
    },
    {
     "name": "stderr",
     "output_type": "stream",
     "text": [
      "Validating: 100%|██████████| 13/13 [00:02<00:00,  5.18it/s]\n",
      "Testing:   1%|          | 1/97 [00:00<00:16,  5.93it/s]"
     ]
    },
    {
     "name": "stdout",
     "output_type": "stream",
     "text": [
      "AUC score: 0.8968195266272189\n",
      "Confusion martrix:\n",
      " [[52  0]\n",
      " [45  7]]\n",
      "Classification report:\n",
      "               precision    recall  f1-score   support\n",
      "\n",
      "           0       0.54      1.00      0.70        52\n",
      "           1       1.00      0.13      0.24        52\n",
      "\n",
      "    accuracy                           0.57       104\n",
      "   macro avg       0.77      0.57      0.47       104\n",
      "weighted avg       0.77      0.57      0.47       104\n",
      "\n",
      "Getting test accuracy:\n"
     ]
    },
    {
     "name": "stderr",
     "output_type": "stream",
     "text": [
      "Testing: 100%|██████████| 97/97 [00:16<00:00,  5.07it/s]\n",
      "Training:   0%|          | 0/10 [00:00<?, ?it/s]"
     ]
    },
    {
     "name": "stdout",
     "output_type": "stream",
     "text": [
      "AUC score: 0.7253826123923903\n",
      "Confusion martrix:\n",
      " [[370  18]\n",
      " [305  83]]\n",
      "Classification report:\n",
      "               precision    recall  f1-score   support\n",
      "\n",
      "           0       0.55      0.95      0.70       388\n",
      "           1       0.82      0.21      0.34       388\n",
      "\n",
      "    accuracy                           0.58       776\n",
      "   macro avg       0.68      0.58      0.52       776\n",
      "weighted avg       0.68      0.58      0.52       776\n",
      "\n"
     ]
    },
    {
     "name": "stderr",
     "output_type": "stream",
     "text": [
      "Accuracy 0.837500: 100%|██████████| 10/10 [00:02<00:00,  4.05it/s]\n",
      "Validating:   0%|          | 0/13 [00:00<?, ?it/s]"
     ]
    },
    {
     "name": "stdout",
     "output_type": "stream",
     "text": [
      "Getting vote accuracy:\n"
     ]
    },
    {
     "name": "stderr",
     "output_type": "stream",
     "text": [
      "Validating: 100%|██████████| 13/13 [00:02<00:00,  5.30it/s]\n",
      "Testing:   1%|          | 1/97 [00:00<00:16,  5.67it/s]"
     ]
    },
    {
     "name": "stdout",
     "output_type": "stream",
     "text": [
      "AUC score: 0.8920118343195267\n",
      "Confusion martrix:\n",
      " [[52  0]\n",
      " [38 14]]\n",
      "Classification report:\n",
      "               precision    recall  f1-score   support\n",
      "\n",
      "           0       0.58      1.00      0.73        52\n",
      "           1       1.00      0.27      0.42        52\n",
      "\n",
      "    accuracy                           0.63       104\n",
      "   macro avg       0.79      0.63      0.58       104\n",
      "weighted avg       0.79      0.63      0.58       104\n",
      "\n",
      "Getting test accuracy:\n"
     ]
    },
    {
     "name": "stderr",
     "output_type": "stream",
     "text": [
      "Testing: 100%|██████████| 97/97 [00:18<00:00,  5.20it/s]\n",
      "Training:   0%|          | 0/10 [00:00<?, ?it/s]"
     ]
    },
    {
     "name": "stdout",
     "output_type": "stream",
     "text": [
      "AUC score: 0.686463758103943\n",
      "Confusion martrix:\n",
      " [[347  41]\n",
      " [255 133]]\n",
      "Classification report:\n",
      "               precision    recall  f1-score   support\n",
      "\n",
      "           0       0.58      0.89      0.70       388\n",
      "           1       0.76      0.34      0.47       388\n",
      "\n",
      "    accuracy                           0.62       776\n",
      "   macro avg       0.67      0.62      0.59       776\n",
      "weighted avg       0.67      0.62      0.59       776\n",
      "\n"
     ]
    },
    {
     "name": "stderr",
     "output_type": "stream",
     "text": [
      "Accuracy 0.875000: 100%|██████████| 10/10 [00:02<00:00,  4.13it/s]\n",
      "Validating:   8%|▊         | 1/13 [00:00<00:02,  5.55it/s]"
     ]
    },
    {
     "name": "stdout",
     "output_type": "stream",
     "text": [
      "Getting vote accuracy:\n"
     ]
    },
    {
     "name": "stderr",
     "output_type": "stream",
     "text": [
      "Validating: 100%|██████████| 13/13 [00:02<00:00,  5.38it/s]\n",
      "Testing:   1%|          | 1/97 [00:00<00:18,  5.23it/s]"
     ]
    },
    {
     "name": "stdout",
     "output_type": "stream",
     "text": [
      "AUC score: 0.9341715976331361\n",
      "Confusion martrix:\n",
      " [[45  7]\n",
      " [ 6 46]]\n",
      "Classification report:\n",
      "               precision    recall  f1-score   support\n",
      "\n",
      "           0       0.88      0.87      0.87        52\n",
      "           1       0.87      0.88      0.88        52\n",
      "\n",
      "    accuracy                           0.88       104\n",
      "   macro avg       0.88      0.88      0.87       104\n",
      "weighted avg       0.88      0.88      0.87       104\n",
      "\n",
      "Getting test accuracy:\n"
     ]
    },
    {
     "name": "stderr",
     "output_type": "stream",
     "text": [
      "Testing: 100%|██████████| 97/97 [00:15<00:00,  6.47it/s]\n",
      "Training:   0%|          | 0/10 [00:00<?, ?it/s]"
     ]
    },
    {
     "name": "stdout",
     "output_type": "stream",
     "text": [
      "AUC score: 0.8169239557870125\n",
      "Confusion martrix:\n",
      " [[198 190]\n",
      " [ 30 358]]\n",
      "Classification report:\n",
      "               precision    recall  f1-score   support\n",
      "\n",
      "           0       0.87      0.51      0.64       388\n",
      "           1       0.65      0.92      0.76       388\n",
      "\n",
      "    accuracy                           0.72       776\n",
      "   macro avg       0.76      0.72      0.70       776\n",
      "weighted avg       0.76      0.72      0.70       776\n",
      "\n",
      "Epoch:  6\n"
     ]
    },
    {
     "name": "stderr",
     "output_type": "stream",
     "text": [
      "Accuracy 0.875000: 100%|██████████| 10/10 [00:03<00:00,  3.44it/s]\n",
      "Validating:   8%|▊         | 1/13 [00:00<00:02,  5.27it/s]"
     ]
    },
    {
     "name": "stdout",
     "output_type": "stream",
     "text": [
      "Getting vote accuracy:\n"
     ]
    },
    {
     "name": "stderr",
     "output_type": "stream",
     "text": [
      "Validating: 100%|██████████| 13/13 [00:02<00:00,  4.97it/s]\n",
      "Testing:   1%|          | 1/97 [00:00<00:17,  5.63it/s]"
     ]
    },
    {
     "name": "stdout",
     "output_type": "stream",
     "text": [
      "AUC score: 0.8883136094674556\n",
      "Confusion martrix:\n",
      " [[52  0]\n",
      " [43  9]]\n",
      "Classification report:\n",
      "               precision    recall  f1-score   support\n",
      "\n",
      "           0       0.55      1.00      0.71        52\n",
      "           1       1.00      0.17      0.30        52\n",
      "\n",
      "    accuracy                           0.59       104\n",
      "   macro avg       0.77      0.59      0.50       104\n",
      "weighted avg       0.77      0.59      0.50       104\n",
      "\n",
      "Getting test accuracy:\n"
     ]
    },
    {
     "name": "stderr",
     "output_type": "stream",
     "text": [
      "Testing: 100%|██████████| 97/97 [00:16<00:00,  6.20it/s]\n",
      "Training:   0%|          | 0/10 [00:00<?, ?it/s]"
     ]
    },
    {
     "name": "stdout",
     "output_type": "stream",
     "text": [
      "AUC score: 0.7444135933680518\n",
      "Confusion martrix:\n",
      " [[384   4]\n",
      " [345  43]]\n",
      "Classification report:\n",
      "               precision    recall  f1-score   support\n",
      "\n",
      "           0       0.53      0.99      0.69       388\n",
      "           1       0.91      0.11      0.20       388\n",
      "\n",
      "    accuracy                           0.55       776\n",
      "   macro avg       0.72      0.55      0.44       776\n",
      "weighted avg       0.72      0.55      0.44       776\n",
      "\n"
     ]
    },
    {
     "name": "stderr",
     "output_type": "stream",
     "text": [
      "Accuracy 0.800000: 100%|██████████| 10/10 [00:02<00:00,  3.93it/s]\n",
      "Validating:   8%|▊         | 1/13 [00:00<00:01,  6.44it/s]"
     ]
    },
    {
     "name": "stdout",
     "output_type": "stream",
     "text": [
      "Getting vote accuracy:\n"
     ]
    },
    {
     "name": "stderr",
     "output_type": "stream",
     "text": [
      "Validating: 100%|██████████| 13/13 [00:02<00:00,  5.22it/s]\n",
      "Testing:   1%|          | 1/97 [00:00<00:17,  5.45it/s]"
     ]
    },
    {
     "name": "stdout",
     "output_type": "stream",
     "text": [
      "AUC score: 0.5406804733727811\n",
      "Confusion martrix:\n",
      " [[52  0]\n",
      " [47  5]]\n",
      "Classification report:\n",
      "               precision    recall  f1-score   support\n",
      "\n",
      "           0       0.53      1.00      0.69        52\n",
      "           1       1.00      0.10      0.18        52\n",
      "\n",
      "    accuracy                           0.55       104\n",
      "   macro avg       0.76      0.55      0.43       104\n",
      "weighted avg       0.76      0.55      0.43       104\n",
      "\n",
      "Getting test accuracy:\n"
     ]
    },
    {
     "name": "stderr",
     "output_type": "stream",
     "text": [
      "Testing: 100%|██████████| 97/97 [00:15<00:00,  5.44it/s]\n",
      "Training:   0%|          | 0/10 [00:00<?, ?it/s]"
     ]
    },
    {
     "name": "stdout",
     "output_type": "stream",
     "text": [
      "AUC score: 0.43274391540014884\n",
      "Confusion martrix:\n",
      " [[361  27]\n",
      " [328  60]]\n",
      "Classification report:\n",
      "               precision    recall  f1-score   support\n",
      "\n",
      "           0       0.52      0.93      0.67       388\n",
      "           1       0.69      0.15      0.25       388\n",
      "\n",
      "    accuracy                           0.54       776\n",
      "   macro avg       0.61      0.54      0.46       776\n",
      "weighted avg       0.61      0.54      0.46       776\n",
      "\n"
     ]
    },
    {
     "name": "stderr",
     "output_type": "stream",
     "text": [
      "Accuracy 0.900000: 100%|██████████| 10/10 [00:02<00:00,  4.35it/s]\n",
      "Validating:   8%|▊         | 1/13 [00:00<00:02,  5.15it/s]"
     ]
    },
    {
     "name": "stdout",
     "output_type": "stream",
     "text": [
      "Getting vote accuracy:\n"
     ]
    },
    {
     "name": "stderr",
     "output_type": "stream",
     "text": [
      "Validating: 100%|██████████| 13/13 [00:02<00:00,  5.22it/s]\n",
      "Testing:   0%|          | 0/97 [00:00<?, ?it/s]"
     ]
    },
    {
     "name": "stdout",
     "output_type": "stream",
     "text": [
      "AUC score: 0.863905325443787\n",
      "Confusion martrix:\n",
      " [[52  0]\n",
      " [46  6]]\n",
      "Classification report:\n",
      "               precision    recall  f1-score   support\n",
      "\n",
      "           0       0.53      1.00      0.69        52\n",
      "           1       1.00      0.12      0.21        52\n",
      "\n",
      "    accuracy                           0.56       104\n",
      "   macro avg       0.77      0.56      0.45       104\n",
      "weighted avg       0.77      0.56      0.45       104\n",
      "\n",
      "Getting test accuracy:\n"
     ]
    },
    {
     "name": "stderr",
     "output_type": "stream",
     "text": [
      "Testing: 100%|██████████| 97/97 [00:19<00:00,  4.36it/s]\n",
      "Training:   0%|          | 0/10 [00:00<?, ?it/s]"
     ]
    },
    {
     "name": "stdout",
     "output_type": "stream",
     "text": [
      "AUC score: 0.7467318524816664\n",
      "Confusion martrix:\n",
      " [[379   9]\n",
      " [339  49]]\n",
      "Classification report:\n",
      "               precision    recall  f1-score   support\n",
      "\n",
      "           0       0.53      0.98      0.69       388\n",
      "           1       0.84      0.13      0.22       388\n",
      "\n",
      "    accuracy                           0.55       776\n",
      "   macro avg       0.69      0.55      0.45       776\n",
      "weighted avg       0.69      0.55      0.45       776\n",
      "\n"
     ]
    },
    {
     "name": "stderr",
     "output_type": "stream",
     "text": [
      "Accuracy 0.837500: 100%|██████████| 10/10 [00:03<00:00,  2.97it/s]\n",
      "Validating:   0%|          | 0/13 [00:00<?, ?it/s]"
     ]
    },
    {
     "name": "stdout",
     "output_type": "stream",
     "text": [
      "Getting vote accuracy:\n"
     ]
    },
    {
     "name": "stderr",
     "output_type": "stream",
     "text": [
      "Validating: 100%|██████████| 13/13 [00:02<00:00,  4.31it/s]\n",
      "Testing:   0%|          | 0/97 [00:00<?, ?it/s]"
     ]
    },
    {
     "name": "stdout",
     "output_type": "stream",
     "text": [
      "AUC score: 0.9064349112426036\n",
      "Confusion martrix:\n",
      " [[52  0]\n",
      " [43  9]]\n",
      "Classification report:\n",
      "               precision    recall  f1-score   support\n",
      "\n",
      "           0       0.55      1.00      0.71        52\n",
      "           1       1.00      0.17      0.30        52\n",
      "\n",
      "    accuracy                           0.59       104\n",
      "   macro avg       0.77      0.59      0.50       104\n",
      "weighted avg       0.77      0.59      0.50       104\n",
      "\n",
      "Getting test accuracy:\n"
     ]
    },
    {
     "name": "stderr",
     "output_type": "stream",
     "text": [
      "Testing: 100%|██████████| 97/97 [00:17<00:00,  6.71it/s]\n",
      "Training:   0%|          | 0/10 [00:00<?, ?it/s]"
     ]
    },
    {
     "name": "stdout",
     "output_type": "stream",
     "text": [
      "AUC score: 0.7441678180465512\n",
      "Confusion martrix:\n",
      " [[369  19]\n",
      " [322  66]]\n",
      "Classification report:\n",
      "               precision    recall  f1-score   support\n",
      "\n",
      "           0       0.53      0.95      0.68       388\n",
      "           1       0.78      0.17      0.28       388\n",
      "\n",
      "    accuracy                           0.56       776\n",
      "   macro avg       0.66      0.56      0.48       776\n",
      "weighted avg       0.66      0.56      0.48       776\n",
      "\n"
     ]
    },
    {
     "name": "stderr",
     "output_type": "stream",
     "text": [
      "Accuracy 0.825000: 100%|██████████| 10/10 [00:02<00:00,  3.78it/s]\n",
      "Validating:   0%|          | 0/13 [00:00<?, ?it/s]"
     ]
    },
    {
     "name": "stdout",
     "output_type": "stream",
     "text": [
      "Getting vote accuracy:\n"
     ]
    },
    {
     "name": "stderr",
     "output_type": "stream",
     "text": [
      "Validating: 100%|██████████| 13/13 [00:02<00:00,  5.28it/s]\n",
      "Testing:   1%|          | 1/97 [00:00<00:18,  5.18it/s]"
     ]
    },
    {
     "name": "stdout",
     "output_type": "stream",
     "text": [
      "AUC score: 0.9178994082840238\n",
      "Confusion martrix:\n",
      " [[39 13]\n",
      " [ 4 48]]\n",
      "Classification report:\n",
      "               precision    recall  f1-score   support\n",
      "\n",
      "           0       0.91      0.75      0.82        52\n",
      "           1       0.79      0.92      0.85        52\n",
      "\n",
      "    accuracy                           0.84       104\n",
      "   macro avg       0.85      0.84      0.84       104\n",
      "weighted avg       0.85      0.84      0.84       104\n",
      "\n",
      "Getting test accuracy:\n"
     ]
    },
    {
     "name": "stderr",
     "output_type": "stream",
     "text": [
      "Testing: 100%|██████████| 97/97 [00:17<00:00,  5.98it/s]\n",
      "Training:   0%|          | 0/10 [00:00<?, ?it/s]"
     ]
    },
    {
     "name": "stdout",
     "output_type": "stream",
     "text": [
      "AUC score: 0.8103478052928048\n",
      "Confusion martrix:\n",
      " [[156 232]\n",
      " [ 22 366]]\n",
      "Classification report:\n",
      "               precision    recall  f1-score   support\n",
      "\n",
      "           0       0.88      0.40      0.55       388\n",
      "           1       0.61      0.94      0.74       388\n",
      "\n",
      "    accuracy                           0.67       776\n",
      "   macro avg       0.74      0.67      0.65       776\n",
      "weighted avg       0.74      0.67      0.65       776\n",
      "\n",
      "Epoch:  7\n"
     ]
    },
    {
     "name": "stderr",
     "output_type": "stream",
     "text": [
      "Accuracy 0.862500: 100%|██████████| 10/10 [00:02<00:00,  4.09it/s]\n",
      "Validating:   8%|▊         | 1/13 [00:00<00:01,  6.86it/s]"
     ]
    },
    {
     "name": "stdout",
     "output_type": "stream",
     "text": [
      "Getting vote accuracy:\n"
     ]
    },
    {
     "name": "stderr",
     "output_type": "stream",
     "text": [
      "Validating: 100%|██████████| 13/13 [00:02<00:00,  4.57it/s]\n",
      "Testing:   1%|          | 1/97 [00:00<00:15,  6.09it/s]"
     ]
    },
    {
     "name": "stdout",
     "output_type": "stream",
     "text": [
      "AUC score: 0.9012573964497042\n",
      "Confusion martrix:\n",
      " [[52  0]\n",
      " [48  4]]\n",
      "Classification report:\n",
      "               precision    recall  f1-score   support\n",
      "\n",
      "           0       0.52      1.00      0.68        52\n",
      "           1       1.00      0.08      0.14        52\n",
      "\n",
      "    accuracy                           0.54       104\n",
      "   macro avg       0.76      0.54      0.41       104\n",
      "weighted avg       0.76      0.54      0.41       104\n",
      "\n",
      "Getting test accuracy:\n"
     ]
    },
    {
     "name": "stderr",
     "output_type": "stream",
     "text": [
      "Testing: 100%|██████████| 97/97 [00:16<00:00,  5.23it/s]\n",
      "Training:   0%|          | 0/10 [00:00<?, ?it/s]"
     ]
    },
    {
     "name": "stdout",
     "output_type": "stream",
     "text": [
      "AUC score: 0.7693996439579127\n",
      "Confusion martrix:\n",
      " [[378  10]\n",
      " [335  53]]\n",
      "Classification report:\n",
      "               precision    recall  f1-score   support\n",
      "\n",
      "           0       0.53      0.97      0.69       388\n",
      "           1       0.84      0.14      0.24       388\n",
      "\n",
      "    accuracy                           0.56       776\n",
      "   macro avg       0.69      0.56      0.46       776\n",
      "weighted avg       0.69      0.56      0.46       776\n",
      "\n"
     ]
    },
    {
     "name": "stderr",
     "output_type": "stream",
     "text": [
      "Accuracy 0.900000: 100%|██████████| 10/10 [00:02<00:00,  4.02it/s]\n",
      "Validating:   8%|▊         | 1/13 [00:00<00:01,  6.01it/s]"
     ]
    },
    {
     "name": "stdout",
     "output_type": "stream",
     "text": [
      "Getting vote accuracy:\n"
     ]
    },
    {
     "name": "stderr",
     "output_type": "stream",
     "text": [
      "Validating: 100%|██████████| 13/13 [00:02<00:00,  4.94it/s]\n",
      "Testing:   1%|          | 1/97 [00:00<00:11,  8.22it/s]"
     ]
    },
    {
     "name": "stdout",
     "output_type": "stream",
     "text": [
      "AUC score: 0.45266272189349116\n",
      "Confusion martrix:\n",
      " [[52  0]\n",
      " [49  3]]\n",
      "Classification report:\n",
      "               precision    recall  f1-score   support\n",
      "\n",
      "           0       0.51      1.00      0.68        52\n",
      "           1       1.00      0.06      0.11        52\n",
      "\n",
      "    accuracy                           0.53       104\n",
      "   macro avg       0.76      0.53      0.39       104\n",
      "weighted avg       0.76      0.53      0.39       104\n",
      "\n",
      "Getting test accuracy:\n"
     ]
    },
    {
     "name": "stderr",
     "output_type": "stream",
     "text": [
      "Testing: 100%|██████████| 97/97 [00:15<00:00,  5.86it/s]\n",
      "Training:   0%|          | 0/10 [00:00<?, ?it/s]"
     ]
    },
    {
     "name": "stdout",
     "output_type": "stream",
     "text": [
      "AUC score: 0.4289045063237326\n",
      "Confusion martrix:\n",
      " [[385   3]\n",
      " [362  26]]\n",
      "Classification report:\n",
      "               precision    recall  f1-score   support\n",
      "\n",
      "           0       0.52      0.99      0.68       388\n",
      "           1       0.90      0.07      0.12       388\n",
      "\n",
      "    accuracy                           0.53       776\n",
      "   macro avg       0.71      0.53      0.40       776\n",
      "weighted avg       0.71      0.53      0.40       776\n",
      "\n"
     ]
    },
    {
     "name": "stderr",
     "output_type": "stream",
     "text": [
      "Accuracy 0.887500: 100%|██████████| 10/10 [00:02<00:00,  4.32it/s]\n",
      "Validating:   0%|          | 0/13 [00:00<?, ?it/s]"
     ]
    },
    {
     "name": "stdout",
     "output_type": "stream",
     "text": [
      "Getting vote accuracy:\n"
     ]
    },
    {
     "name": "stderr",
     "output_type": "stream",
     "text": [
      "Validating: 100%|██████████| 13/13 [00:02<00:00,  4.67it/s]\n",
      "Testing:   1%|          | 1/97 [00:00<00:12,  7.44it/s]"
     ]
    },
    {
     "name": "stdout",
     "output_type": "stream",
     "text": [
      "AUC score: 0.9330621301775148\n",
      "Confusion martrix:\n",
      " [[52  0]\n",
      " [50  2]]\n",
      "Classification report:\n",
      "               precision    recall  f1-score   support\n",
      "\n",
      "           0       0.51      1.00      0.68        52\n",
      "           1       1.00      0.04      0.07        52\n",
      "\n",
      "    accuracy                           0.52       104\n",
      "   macro avg       0.75      0.52      0.37       104\n",
      "weighted avg       0.75      0.52      0.37       104\n",
      "\n",
      "Getting test accuracy:\n"
     ]
    },
    {
     "name": "stderr",
     "output_type": "stream",
     "text": [
      "Testing: 100%|██████████| 97/97 [00:17<00:00,  6.14it/s]\n",
      "Training:   0%|          | 0/10 [00:00<?, ?it/s]"
     ]
    },
    {
     "name": "stdout",
     "output_type": "stream",
     "text": [
      "AUC score: 0.770319640769476\n",
      "Confusion martrix:\n",
      " [[382   6]\n",
      " [348  40]]\n",
      "Classification report:\n",
      "               precision    recall  f1-score   support\n",
      "\n",
      "           0       0.52      0.98      0.68       388\n",
      "           1       0.87      0.10      0.18       388\n",
      "\n",
      "    accuracy                           0.54       776\n",
      "   macro avg       0.70      0.54      0.43       776\n",
      "weighted avg       0.70      0.54      0.43       776\n",
      "\n"
     ]
    },
    {
     "name": "stderr",
     "output_type": "stream",
     "text": [
      "Accuracy 0.937500: 100%|██████████| 10/10 [00:02<00:00,  4.18it/s]\n",
      "Validating:   0%|          | 0/13 [00:00<?, ?it/s]"
     ]
    },
    {
     "name": "stdout",
     "output_type": "stream",
     "text": [
      "Getting vote accuracy:\n"
     ]
    },
    {
     "name": "stderr",
     "output_type": "stream",
     "text": [
      "Validating: 100%|██████████| 13/13 [00:02<00:00,  5.37it/s]\n",
      "Testing:   1%|          | 1/97 [00:00<00:11,  8.37it/s]"
     ]
    },
    {
     "name": "stdout",
     "output_type": "stream",
     "text": [
      "AUC score: 0.9408284023668639\n",
      "Confusion martrix:\n",
      " [[52  0]\n",
      " [48  4]]\n",
      "Classification report:\n",
      "               precision    recall  f1-score   support\n",
      "\n",
      "           0       0.52      1.00      0.68        52\n",
      "           1       1.00      0.08      0.14        52\n",
      "\n",
      "    accuracy                           0.54       104\n",
      "   macro avg       0.76      0.54      0.41       104\n",
      "weighted avg       0.76      0.54      0.41       104\n",
      "\n",
      "Getting test accuracy:\n"
     ]
    },
    {
     "name": "stderr",
     "output_type": "stream",
     "text": [
      "Testing: 100%|██████████| 97/97 [00:14<00:00,  6.32it/s]\n",
      "Training:   0%|          | 0/10 [00:00<?, ?it/s]"
     ]
    },
    {
     "name": "stdout",
     "output_type": "stream",
     "text": [
      "AUC score: 0.7697616643639069\n",
      "Confusion martrix:\n",
      " [[376  12]\n",
      " [349  39]]\n",
      "Classification report:\n",
      "               precision    recall  f1-score   support\n",
      "\n",
      "           0       0.52      0.97      0.68       388\n",
      "           1       0.76      0.10      0.18       388\n",
      "\n",
      "    accuracy                           0.53       776\n",
      "   macro avg       0.64      0.53      0.43       776\n",
      "weighted avg       0.64      0.53      0.43       776\n",
      "\n"
     ]
    },
    {
     "name": "stderr",
     "output_type": "stream",
     "text": [
      "Accuracy 0.900000: 100%|██████████| 10/10 [00:02<00:00,  4.00it/s]\n",
      "Validating:   8%|▊         | 1/13 [00:00<00:02,  5.49it/s]"
     ]
    },
    {
     "name": "stdout",
     "output_type": "stream",
     "text": [
      "Getting vote accuracy:\n"
     ]
    },
    {
     "name": "stderr",
     "output_type": "stream",
     "text": [
      "Validating: 100%|██████████| 13/13 [00:02<00:00,  4.40it/s]\n",
      "Testing:   1%|          | 1/97 [00:00<00:12,  7.80it/s]"
     ]
    },
    {
     "name": "stdout",
     "output_type": "stream",
     "text": [
      "AUC score: 0.9611686390532543\n",
      "Confusion martrix:\n",
      " [[21 31]\n",
      " [ 0 52]]\n",
      "Classification report:\n",
      "               precision    recall  f1-score   support\n",
      "\n",
      "           0       1.00      0.40      0.58        52\n",
      "           1       0.63      1.00      0.77        52\n",
      "\n",
      "    accuracy                           0.70       104\n",
      "   macro avg       0.81      0.70      0.67       104\n",
      "weighted avg       0.81      0.70      0.67       104\n",
      "\n",
      "Getting test accuracy:\n"
     ]
    },
    {
     "name": "stderr",
     "output_type": "stream",
     "text": [
      "Testing: 100%|██████████| 97/97 [00:17<00:00,  6.14it/s]\n",
      "Training:   0%|          | 0/10 [00:00<?, ?it/s]"
     ]
    },
    {
     "name": "stdout",
     "output_type": "stream",
     "text": [
      "AUC score: 0.8334971835476671\n",
      "Confusion martrix:\n",
      " [[ 47 341]\n",
      " [  3 385]]\n",
      "Classification report:\n",
      "               precision    recall  f1-score   support\n",
      "\n",
      "           0       0.94      0.12      0.21       388\n",
      "           1       0.53      0.99      0.69       388\n",
      "\n",
      "    accuracy                           0.56       776\n",
      "   macro avg       0.74      0.56      0.45       776\n",
      "weighted avg       0.74      0.56      0.45       776\n",
      "\n",
      "Epoch:  8\n"
     ]
    },
    {
     "name": "stderr",
     "output_type": "stream",
     "text": [
      "Accuracy 0.887500: 100%|██████████| 10/10 [00:02<00:00,  4.37it/s]\n",
      "Validating:   0%|          | 0/13 [00:00<?, ?it/s]"
     ]
    },
    {
     "name": "stdout",
     "output_type": "stream",
     "text": [
      "Getting vote accuracy:\n"
     ]
    },
    {
     "name": "stderr",
     "output_type": "stream",
     "text": [
      "Validating: 100%|██████████| 13/13 [00:02<00:00,  4.95it/s]\n",
      "Testing:   1%|          | 1/97 [00:00<00:12,  7.86it/s]"
     ]
    },
    {
     "name": "stdout",
     "output_type": "stream",
     "text": [
      "AUC score: 0.8409763313609467\n",
      "Confusion martrix:\n",
      " [[52  0]\n",
      " [43  9]]\n",
      "Classification report:\n",
      "               precision    recall  f1-score   support\n",
      "\n",
      "           0       0.55      1.00      0.71        52\n",
      "           1       1.00      0.17      0.30        52\n",
      "\n",
      "    accuracy                           0.59       104\n",
      "   macro avg       0.77      0.59      0.50       104\n",
      "weighted avg       0.77      0.59      0.50       104\n",
      "\n",
      "Getting test accuracy:\n"
     ]
    },
    {
     "name": "stderr",
     "output_type": "stream",
     "text": [
      "Testing: 100%|██████████| 97/97 [00:15<00:00,  6.04it/s]\n",
      "Training:   0%|          | 0/10 [00:00<?, ?it/s]"
     ]
    },
    {
     "name": "stdout",
     "output_type": "stream",
     "text": [
      "AUC score: 0.7688117759591881\n",
      "Confusion martrix:\n",
      " [[369  19]\n",
      " [323  65]]\n",
      "Classification report:\n",
      "               precision    recall  f1-score   support\n",
      "\n",
      "           0       0.53      0.95      0.68       388\n",
      "           1       0.77      0.17      0.28       388\n",
      "\n",
      "    accuracy                           0.56       776\n",
      "   macro avg       0.65      0.56      0.48       776\n",
      "weighted avg       0.65      0.56      0.48       776\n",
      "\n"
     ]
    },
    {
     "name": "stderr",
     "output_type": "stream",
     "text": [
      "Accuracy 0.875000: 100%|██████████| 10/10 [00:02<00:00,  3.70it/s]\n",
      "Validating:   8%|▊         | 1/13 [00:00<00:02,  5.82it/s]"
     ]
    },
    {
     "name": "stdout",
     "output_type": "stream",
     "text": [
      "Getting vote accuracy:\n"
     ]
    },
    {
     "name": "stderr",
     "output_type": "stream",
     "text": [
      "Validating: 100%|██████████| 13/13 [00:02<00:00,  5.03it/s]\n",
      "Testing:   1%|          | 1/97 [00:00<00:14,  6.84it/s]"
     ]
    },
    {
     "name": "stdout",
     "output_type": "stream",
     "text": [
      "AUC score: 0.5340236686390533\n",
      "Confusion martrix:\n",
      " [[52  0]\n",
      " [48  4]]\n",
      "Classification report:\n",
      "               precision    recall  f1-score   support\n",
      "\n",
      "           0       0.52      1.00      0.68        52\n",
      "           1       1.00      0.08      0.14        52\n",
      "\n",
      "    accuracy                           0.54       104\n",
      "   macro avg       0.76      0.54      0.41       104\n",
      "weighted avg       0.76      0.54      0.41       104\n",
      "\n",
      "Getting test accuracy:\n"
     ]
    },
    {
     "name": "stderr",
     "output_type": "stream",
     "text": [
      "Testing: 100%|██████████| 97/97 [00:15<00:00,  6.57it/s]\n",
      "Training:   0%|          | 0/10 [00:00<?, ?it/s]"
     ]
    },
    {
     "name": "stdout",
     "output_type": "stream",
     "text": [
      "AUC score: 0.44030316718035917\n",
      "Confusion martrix:\n",
      " [[385   3]\n",
      " [368  20]]\n",
      "Classification report:\n",
      "               precision    recall  f1-score   support\n",
      "\n",
      "           0       0.51      0.99      0.67       388\n",
      "           1       0.87      0.05      0.10       388\n",
      "\n",
      "    accuracy                           0.52       776\n",
      "   macro avg       0.69      0.52      0.39       776\n",
      "weighted avg       0.69      0.52      0.39       776\n",
      "\n"
     ]
    },
    {
     "name": "stderr",
     "output_type": "stream",
     "text": [
      "Accuracy 0.912500: 100%|██████████| 10/10 [00:02<00:00,  3.57it/s]\n",
      "Validating:   0%|          | 0/13 [00:00<?, ?it/s]"
     ]
    },
    {
     "name": "stdout",
     "output_type": "stream",
     "text": [
      "Getting vote accuracy:\n"
     ]
    },
    {
     "name": "stderr",
     "output_type": "stream",
     "text": [
      "Validating: 100%|██████████| 13/13 [00:02<00:00,  5.13it/s]\n",
      "Testing:   1%|          | 1/97 [00:00<00:12,  7.74it/s]"
     ]
    },
    {
     "name": "stdout",
     "output_type": "stream",
     "text": [
      "AUC score: 0.882026627218935\n",
      "Confusion martrix:\n",
      " [[51  1]\n",
      " [43  9]]\n",
      "Classification report:\n",
      "               precision    recall  f1-score   support\n",
      "\n",
      "           0       0.54      0.98      0.70        52\n",
      "           1       0.90      0.17      0.29        52\n",
      "\n",
      "    accuracy                           0.58       104\n",
      "   macro avg       0.72      0.58      0.49       104\n",
      "weighted avg       0.72      0.58      0.49       104\n",
      "\n",
      "Getting test accuracy:\n"
     ]
    },
    {
     "name": "stderr",
     "output_type": "stream",
     "text": [
      "Testing: 100%|██████████| 97/97 [00:14<00:00,  6.57it/s]\n",
      "Training:   0%|          | 0/10 [00:00<?, ?it/s]"
     ]
    },
    {
     "name": "stdout",
     "output_type": "stream",
     "text": [
      "AUC score: 0.7673570517589541\n",
      "Confusion martrix:\n",
      " [[381   7]\n",
      " [347  41]]\n",
      "Classification report:\n",
      "               precision    recall  f1-score   support\n",
      "\n",
      "           0       0.52      0.98      0.68       388\n",
      "           1       0.85      0.11      0.19       388\n",
      "\n",
      "    accuracy                           0.54       776\n",
      "   macro avg       0.69      0.54      0.44       776\n",
      "weighted avg       0.69      0.54      0.44       776\n",
      "\n"
     ]
    },
    {
     "name": "stderr",
     "output_type": "stream",
     "text": [
      "Accuracy 0.900000: 100%|██████████| 10/10 [00:02<00:00,  4.22it/s]\n",
      "Validating:   8%|▊         | 1/13 [00:00<00:01,  6.83it/s]"
     ]
    },
    {
     "name": "stdout",
     "output_type": "stream",
     "text": [
      "Getting vote accuracy:\n"
     ]
    },
    {
     "name": "stderr",
     "output_type": "stream",
     "text": [
      "Validating: 100%|██████████| 13/13 [00:02<00:00,  5.05it/s]\n",
      "Testing:   1%|          | 1/97 [00:00<00:12,  7.95it/s]"
     ]
    },
    {
     "name": "stdout",
     "output_type": "stream",
     "text": [
      "AUC score: 0.9138313609467456\n",
      "Confusion martrix:\n",
      " [[52  0]\n",
      " [36 16]]\n",
      "Classification report:\n",
      "               precision    recall  f1-score   support\n",
      "\n",
      "           0       0.59      1.00      0.74        52\n",
      "           1       1.00      0.31      0.47        52\n",
      "\n",
      "    accuracy                           0.65       104\n",
      "   macro avg       0.80      0.65      0.61       104\n",
      "weighted avg       0.80      0.65      0.61       104\n",
      "\n",
      "Getting test accuracy:\n"
     ]
    },
    {
     "name": "stderr",
     "output_type": "stream",
     "text": [
      "Testing: 100%|██████████| 97/97 [00:14<00:00,  6.52it/s]\n",
      "Training:   0%|          | 0/10 [00:00<?, ?it/s]"
     ]
    },
    {
     "name": "stdout",
     "output_type": "stream",
     "text": [
      "AUC score: 0.7580175895419279\n",
      "Confusion martrix:\n",
      " [[350  38]\n",
      " [249 139]]\n",
      "Classification report:\n",
      "               precision    recall  f1-score   support\n",
      "\n",
      "           0       0.58      0.90      0.71       388\n",
      "           1       0.79      0.36      0.49       388\n",
      "\n",
      "    accuracy                           0.63       776\n",
      "   macro avg       0.68      0.63      0.60       776\n",
      "weighted avg       0.68      0.63      0.60       776\n",
      "\n"
     ]
    },
    {
     "name": "stderr",
     "output_type": "stream",
     "text": [
      "Accuracy 0.950000: 100%|██████████| 10/10 [00:02<00:00,  4.02it/s]\n",
      "Validating:   8%|▊         | 1/13 [00:00<00:02,  5.28it/s]"
     ]
    },
    {
     "name": "stdout",
     "output_type": "stream",
     "text": [
      "Getting vote accuracy:\n"
     ]
    },
    {
     "name": "stderr",
     "output_type": "stream",
     "text": [
      "Validating: 100%|██████████| 13/13 [00:02<00:00,  5.78it/s]\n",
      "Testing:   1%|          | 1/97 [00:00<00:12,  7.79it/s]"
     ]
    },
    {
     "name": "stdout",
     "output_type": "stream",
     "text": [
      "AUC score: 0.956360946745562\n",
      "Confusion martrix:\n",
      " [[12 40]\n",
      " [ 0 52]]\n",
      "Classification report:\n",
      "               precision    recall  f1-score   support\n",
      "\n",
      "           0       1.00      0.23      0.38        52\n",
      "           1       0.57      1.00      0.72        52\n",
      "\n",
      "    accuracy                           0.62       104\n",
      "   macro avg       0.78      0.62      0.55       104\n",
      "weighted avg       0.78      0.62      0.55       104\n",
      "\n",
      "Getting test accuracy:\n"
     ]
    },
    {
     "name": "stderr",
     "output_type": "stream",
     "text": [
      "Testing: 100%|██████████| 97/97 [00:14<00:00,  6.64it/s]\n",
      "Training:   0%|          | 0/10 [00:00<?, ?it/s]"
     ]
    },
    {
     "name": "stdout",
     "output_type": "stream",
     "text": [
      "AUC score: 0.8373565203528537\n",
      "Confusion martrix:\n",
      " [[ 31 357]\n",
      " [  2 386]]\n",
      "Classification report:\n",
      "               precision    recall  f1-score   support\n",
      "\n",
      "           0       0.94      0.08      0.15       388\n",
      "           1       0.52      0.99      0.68       388\n",
      "\n",
      "    accuracy                           0.54       776\n",
      "   macro avg       0.73      0.54      0.41       776\n",
      "weighted avg       0.73      0.54      0.41       776\n",
      "\n",
      "Epoch:  9\n"
     ]
    },
    {
     "name": "stderr",
     "output_type": "stream",
     "text": [
      "Accuracy 0.812500: 100%|██████████| 10/10 [00:02<00:00,  4.47it/s]\n",
      "Validating:   8%|▊         | 1/13 [00:00<00:01,  6.55it/s]"
     ]
    },
    {
     "name": "stdout",
     "output_type": "stream",
     "text": [
      "Getting vote accuracy:\n"
     ]
    },
    {
     "name": "stderr",
     "output_type": "stream",
     "text": [
      "Validating: 100%|██████████| 13/13 [00:02<00:00,  5.69it/s]\n",
      "Testing:   1%|          | 1/97 [00:00<00:14,  6.55it/s]"
     ]
    },
    {
     "name": "stdout",
     "output_type": "stream",
     "text": [
      "AUC score: 0.8916420118343196\n",
      "Confusion martrix:\n",
      " [[52  0]\n",
      " [41 11]]\n",
      "Classification report:\n",
      "               precision    recall  f1-score   support\n",
      "\n",
      "           0       0.56      1.00      0.72        52\n",
      "           1       1.00      0.21      0.35        52\n",
      "\n",
      "    accuracy                           0.61       104\n",
      "   macro avg       0.78      0.61      0.53       104\n",
      "weighted avg       0.78      0.61      0.53       104\n",
      "\n",
      "Getting test accuracy:\n"
     ]
    },
    {
     "name": "stderr",
     "output_type": "stream",
     "text": [
      "Testing: 100%|██████████| 97/97 [00:14<00:00,  7.45it/s]\n",
      "Training:   0%|          | 0/10 [00:00<?, ?it/s]"
     ]
    },
    {
     "name": "stdout",
     "output_type": "stream",
     "text": [
      "AUC score: 0.7758861196726539\n",
      "Confusion martrix:\n",
      " [[359  29]\n",
      " [290  98]]\n",
      "Classification report:\n",
      "               precision    recall  f1-score   support\n",
      "\n",
      "           0       0.55      0.93      0.69       388\n",
      "           1       0.77      0.25      0.38       388\n",
      "\n",
      "    accuracy                           0.59       776\n",
      "   macro avg       0.66      0.59      0.54       776\n",
      "weighted avg       0.66      0.59      0.54       776\n",
      "\n"
     ]
    },
    {
     "name": "stderr",
     "output_type": "stream",
     "text": [
      "Accuracy 0.887500: 100%|██████████| 10/10 [00:02<00:00,  3.96it/s]\n",
      "Validating:   8%|▊         | 1/13 [00:00<00:02,  5.98it/s]"
     ]
    },
    {
     "name": "stdout",
     "output_type": "stream",
     "text": [
      "Getting vote accuracy:\n"
     ]
    },
    {
     "name": "stderr",
     "output_type": "stream",
     "text": [
      "Validating: 100%|██████████| 13/13 [00:02<00:00,  5.18it/s]\n",
      "Testing:   1%|          | 1/97 [00:00<00:14,  6.64it/s]"
     ]
    },
    {
     "name": "stdout",
     "output_type": "stream",
     "text": [
      "AUC score: 0.6098372781065089\n",
      "Confusion martrix:\n",
      " [[52  0]\n",
      " [50  2]]\n",
      "Classification report:\n",
      "               precision    recall  f1-score   support\n",
      "\n",
      "           0       0.51      1.00      0.68        52\n",
      "           1       1.00      0.04      0.07        52\n",
      "\n",
      "    accuracy                           0.52       104\n",
      "   macro avg       0.75      0.52      0.37       104\n",
      "weighted avg       0.75      0.52      0.37       104\n",
      "\n",
      "Getting test accuracy:\n"
     ]
    },
    {
     "name": "stderr",
     "output_type": "stream",
     "text": [
      "Testing: 100%|██████████| 97/97 [00:14<00:00,  7.47it/s]\n",
      "Training:   0%|          | 0/10 [00:00<?, ?it/s]"
     ]
    },
    {
     "name": "stdout",
     "output_type": "stream",
     "text": [
      "AUC score: 0.4642562971622914\n",
      "Confusion martrix:\n",
      " [[386   2]\n",
      " [368  20]]\n",
      "Classification report:\n",
      "               precision    recall  f1-score   support\n",
      "\n",
      "           0       0.51      0.99      0.68       388\n",
      "           1       0.91      0.05      0.10       388\n",
      "\n",
      "    accuracy                           0.52       776\n",
      "   macro avg       0.71      0.52      0.39       776\n",
      "weighted avg       0.71      0.52      0.39       776\n",
      "\n"
     ]
    },
    {
     "name": "stderr",
     "output_type": "stream",
     "text": [
      "Accuracy 0.925000: 100%|██████████| 10/10 [00:02<00:00,  4.42it/s]\n",
      "Validating:   0%|          | 0/13 [00:00<?, ?it/s]"
     ]
    },
    {
     "name": "stdout",
     "output_type": "stream",
     "text": [
      "Getting vote accuracy:\n"
     ]
    },
    {
     "name": "stderr",
     "output_type": "stream",
     "text": [
      "Validating: 100%|██████████| 13/13 [00:02<00:00,  5.53it/s]\n",
      "Testing:   1%|          | 1/97 [00:00<00:14,  6.72it/s]"
     ]
    },
    {
     "name": "stdout",
     "output_type": "stream",
     "text": [
      "AUC score: 0.9478550295857988\n",
      "Confusion martrix:\n",
      " [[52  0]\n",
      " [47  5]]\n",
      "Classification report:\n",
      "               precision    recall  f1-score   support\n",
      "\n",
      "           0       0.53      1.00      0.69        52\n",
      "           1       1.00      0.10      0.18        52\n",
      "\n",
      "    accuracy                           0.55       104\n",
      "   macro avg       0.76      0.55      0.43       104\n",
      "weighted avg       0.76      0.55      0.43       104\n",
      "\n",
      "Getting test accuracy:\n"
     ]
    },
    {
     "name": "stderr",
     "output_type": "stream",
     "text": [
      "Testing: 100%|██████████| 97/97 [00:14<00:00,  7.49it/s]\n",
      "Training:   0%|          | 0/10 [00:00<?, ?it/s]"
     ]
    },
    {
     "name": "stdout",
     "output_type": "stream",
     "text": [
      "AUC score: 0.7593793176745669\n",
      "Confusion martrix:\n",
      " [[382   6]\n",
      " [355  33]]\n",
      "Classification report:\n",
      "               precision    recall  f1-score   support\n",
      "\n",
      "           0       0.52      0.98      0.68       388\n",
      "           1       0.85      0.09      0.15       388\n",
      "\n",
      "    accuracy                           0.53       776\n",
      "   macro avg       0.68      0.53      0.42       776\n",
      "weighted avg       0.68      0.53      0.42       776\n",
      "\n"
     ]
    },
    {
     "name": "stderr",
     "output_type": "stream",
     "text": [
      "Accuracy 0.787500: 100%|██████████| 10/10 [00:02<00:00,  4.28it/s]\n",
      "Validating:   8%|▊         | 1/13 [00:00<00:01,  6.19it/s]"
     ]
    },
    {
     "name": "stdout",
     "output_type": "stream",
     "text": [
      "Getting vote accuracy:\n"
     ]
    },
    {
     "name": "stderr",
     "output_type": "stream",
     "text": [
      "Validating: 100%|██████████| 13/13 [00:02<00:00,  5.32it/s]\n",
      "Testing:   1%|          | 1/97 [00:00<00:14,  6.64it/s]"
     ]
    },
    {
     "name": "stdout",
     "output_type": "stream",
     "text": [
      "AUC score: 0.9219674556213018\n",
      "Confusion martrix:\n",
      " [[52  0]\n",
      " [51  1]]\n",
      "Classification report:\n",
      "               precision    recall  f1-score   support\n",
      "\n",
      "           0       0.50      1.00      0.67        52\n",
      "           1       1.00      0.02      0.04        52\n",
      "\n",
      "    accuracy                           0.51       104\n",
      "   macro avg       0.75      0.51      0.35       104\n",
      "weighted avg       0.75      0.51      0.35       104\n",
      "\n",
      "Getting test accuracy:\n"
     ]
    },
    {
     "name": "stderr",
     "output_type": "stream",
     "text": [
      "Testing: 100%|██████████| 97/97 [00:16<00:00,  5.36it/s]\n",
      "Training:   0%|          | 0/10 [00:00<?, ?it/s]"
     ]
    },
    {
     "name": "stdout",
     "output_type": "stream",
     "text": [
      "AUC score: 0.8134100329471783\n",
      "Confusion martrix:\n",
      " [[365  23]\n",
      " [296  92]]\n",
      "Classification report:\n",
      "               precision    recall  f1-score   support\n",
      "\n",
      "           0       0.55      0.94      0.70       388\n",
      "           1       0.80      0.24      0.37       388\n",
      "\n",
      "    accuracy                           0.59       776\n",
      "   macro avg       0.68      0.59      0.53       776\n",
      "weighted avg       0.68      0.59      0.53       776\n",
      "\n"
     ]
    },
    {
     "name": "stderr",
     "output_type": "stream",
     "text": [
      "Accuracy 0.850000: 100%|██████████| 10/10 [00:02<00:00,  3.83it/s]\n",
      "Validating:   0%|          | 0/13 [00:00<?, ?it/s]"
     ]
    },
    {
     "name": "stdout",
     "output_type": "stream",
     "text": [
      "Getting vote accuracy:\n"
     ]
    },
    {
     "name": "stderr",
     "output_type": "stream",
     "text": [
      "Validating: 100%|██████████| 13/13 [00:02<00:00,  5.30it/s]\n",
      "Testing:   1%|          | 1/97 [00:00<00:15,  6.40it/s]"
     ]
    },
    {
     "name": "stdout",
     "output_type": "stream",
     "text": [
      "AUC score: 0.9190088757396448\n",
      "Confusion martrix:\n",
      " [[12 40]\n",
      " [ 1 51]]\n",
      "Classification report:\n",
      "               precision    recall  f1-score   support\n",
      "\n",
      "           0       0.92      0.23      0.37        52\n",
      "           1       0.56      0.98      0.71        52\n",
      "\n",
      "    accuracy                           0.61       104\n",
      "   macro avg       0.74      0.61      0.54       104\n",
      "weighted avg       0.74      0.61      0.54       104\n",
      "\n",
      "Getting test accuracy:\n"
     ]
    },
    {
     "name": "stderr",
     "output_type": "stream",
     "text": [
      "Testing: 100%|██████████| 97/97 [00:15<00:00,  6.94it/s]\n",
      "Training:   0%|          | 0/10 [00:00<?, ?it/s]"
     ]
    },
    {
     "name": "stdout",
     "output_type": "stream",
     "text": [
      "AUC score: 0.8377152194707196\n",
      "Confusion martrix:\n",
      " [[ 13 375]\n",
      " [  1 387]]\n",
      "Classification report:\n",
      "               precision    recall  f1-score   support\n",
      "\n",
      "           0       0.93      0.03      0.06       388\n",
      "           1       0.51      1.00      0.67       388\n",
      "\n",
      "    accuracy                           0.52       776\n",
      "   macro avg       0.72      0.52      0.37       776\n",
      "weighted avg       0.72      0.52      0.37       776\n",
      "\n",
      "Epoch:  10\n"
     ]
    },
    {
     "name": "stderr",
     "output_type": "stream",
     "text": [
      "Accuracy 0.887500: 100%|██████████| 10/10 [00:02<00:00,  3.86it/s]\n",
      "Validating:   0%|          | 0/13 [00:00<?, ?it/s]"
     ]
    },
    {
     "name": "stdout",
     "output_type": "stream",
     "text": [
      "Getting vote accuracy:\n"
     ]
    },
    {
     "name": "stderr",
     "output_type": "stream",
     "text": [
      "Validating: 100%|██████████| 13/13 [00:02<00:00,  4.79it/s]\n",
      "Testing:   1%|          | 1/97 [00:00<00:13,  7.04it/s]"
     ]
    },
    {
     "name": "stdout",
     "output_type": "stream",
     "text": [
      "AUC score: 0.922707100591716\n",
      "Confusion martrix:\n",
      " [[52  0]\n",
      " [37 15]]\n",
      "Classification report:\n",
      "               precision    recall  f1-score   support\n",
      "\n",
      "           0       0.58      1.00      0.74        52\n",
      "           1       1.00      0.29      0.45        52\n",
      "\n",
      "    accuracy                           0.64       104\n",
      "   macro avg       0.79      0.64      0.59       104\n",
      "weighted avg       0.79      0.64      0.59       104\n",
      "\n",
      "Getting test accuracy:\n"
     ]
    },
    {
     "name": "stderr",
     "output_type": "stream",
     "text": [
      "Testing: 100%|██████████| 97/97 [00:18<00:00,  4.90it/s]\n",
      "Training:   0%|          | 0/10 [00:00<?, ?it/s]"
     ]
    },
    {
     "name": "stdout",
     "output_type": "stream",
     "text": [
      "AUC score: 0.8118556701030928\n",
      "Confusion martrix:\n",
      " [[358  30]\n",
      " [262 126]]\n",
      "Classification report:\n",
      "               precision    recall  f1-score   support\n",
      "\n",
      "           0       0.58      0.92      0.71       388\n",
      "           1       0.81      0.32      0.46       388\n",
      "\n",
      "    accuracy                           0.62       776\n",
      "   macro avg       0.69      0.62      0.59       776\n",
      "weighted avg       0.69      0.62      0.59       776\n",
      "\n"
     ]
    },
    {
     "name": "stderr",
     "output_type": "stream",
     "text": [
      "Accuracy 0.925000: 100%|██████████| 10/10 [00:02<00:00,  3.67it/s]\n",
      "Validating:   8%|▊         | 1/13 [00:00<00:02,  5.09it/s]"
     ]
    },
    {
     "name": "stdout",
     "output_type": "stream",
     "text": [
      "Getting vote accuracy:\n"
     ]
    },
    {
     "name": "stderr",
     "output_type": "stream",
     "text": [
      "Validating: 100%|██████████| 13/13 [00:02<00:00,  4.72it/s]\n",
      "/usr/local/lib/python3.7/site-packages/sklearn/metrics/_classification.py:1221: UndefinedMetricWarning: Precision and F-score are ill-defined and being set to 0.0 in labels with no predicted samples. Use `zero_division` parameter to control this behavior.\n",
      "  _warn_prf(average, modifier, msg_start, len(result))\n",
      "Testing:   1%|          | 1/97 [00:00<00:14,  6.85it/s]"
     ]
    },
    {
     "name": "stdout",
     "output_type": "stream",
     "text": [
      "AUC score: 0.5643491124260354\n",
      "Confusion martrix:\n",
      " [[52  0]\n",
      " [52  0]]\n",
      "Classification report:\n",
      "               precision    recall  f1-score   support\n",
      "\n",
      "           0       0.50      1.00      0.67        52\n",
      "           1       0.00      0.00      0.00        52\n",
      "\n",
      "    accuracy                           0.50       104\n",
      "   macro avg       0.25      0.50      0.33       104\n",
      "weighted avg       0.25      0.50      0.33       104\n",
      "\n",
      "Getting test accuracy:\n"
     ]
    },
    {
     "name": "stderr",
     "output_type": "stream",
     "text": [
      "Testing: 100%|██████████| 97/97 [00:16<00:00,  5.76it/s]\n",
      "Training:   0%|          | 0/10 [00:00<?, ?it/s]"
     ]
    },
    {
     "name": "stdout",
     "output_type": "stream",
     "text": [
      "AUC score: 0.49526384312891913\n",
      "Confusion martrix:\n",
      " [[385   3]\n",
      " [370  18]]\n",
      "Classification report:\n",
      "               precision    recall  f1-score   support\n",
      "\n",
      "           0       0.51      0.99      0.67       388\n",
      "           1       0.86      0.05      0.09       388\n",
      "\n",
      "    accuracy                           0.52       776\n",
      "   macro avg       0.68      0.52      0.38       776\n",
      "weighted avg       0.68      0.52      0.38       776\n",
      "\n"
     ]
    },
    {
     "name": "stderr",
     "output_type": "stream",
     "text": [
      "Accuracy 0.900000: 100%|██████████| 10/10 [00:02<00:00,  4.31it/s]\n",
      "Validating:   8%|▊         | 1/13 [00:00<00:01,  6.01it/s]"
     ]
    },
    {
     "name": "stdout",
     "output_type": "stream",
     "text": [
      "Getting vote accuracy:\n"
     ]
    },
    {
     "name": "stderr",
     "output_type": "stream",
     "text": [
      "Validating: 100%|██████████| 13/13 [00:02<00:00,  5.05it/s]\n",
      "Testing:   1%|          | 1/97 [00:00<00:13,  7.32it/s]"
     ]
    },
    {
     "name": "stdout",
     "output_type": "stream",
     "text": [
      "AUC score: 0.9230769230769231\n",
      "Confusion martrix:\n",
      " [[52  0]\n",
      " [43  9]]\n",
      "Classification report:\n",
      "               precision    recall  f1-score   support\n",
      "\n",
      "           0       0.55      1.00      0.71        52\n",
      "           1       1.00      0.17      0.30        52\n",
      "\n",
      "    accuracy                           0.59       104\n",
      "   macro avg       0.77      0.59      0.50       104\n",
      "weighted avg       0.77      0.59      0.50       104\n",
      "\n",
      "Getting test accuracy:\n"
     ]
    },
    {
     "name": "stderr",
     "output_type": "stream",
     "text": [
      "Testing: 100%|██████████| 97/97 [00:16<00:00,  5.17it/s]\n",
      "Training:   0%|          | 0/10 [00:00<?, ?it/s]"
     ]
    },
    {
     "name": "stdout",
     "output_type": "stream",
     "text": [
      "AUC score: 0.7569879902221277\n",
      "Confusion martrix:\n",
      " [[367  21]\n",
      " [323  65]]\n",
      "Classification report:\n",
      "               precision    recall  f1-score   support\n",
      "\n",
      "           0       0.53      0.95      0.68       388\n",
      "           1       0.76      0.17      0.27       388\n",
      "\n",
      "    accuracy                           0.56       776\n",
      "   macro avg       0.64      0.56      0.48       776\n",
      "weighted avg       0.64      0.56      0.48       776\n",
      "\n"
     ]
    },
    {
     "name": "stderr",
     "output_type": "stream",
     "text": [
      "Accuracy 0.800000: 100%|██████████| 10/10 [00:02<00:00,  3.72it/s]\n",
      "Validating:   8%|▊         | 1/13 [00:00<00:02,  5.61it/s]"
     ]
    },
    {
     "name": "stdout",
     "output_type": "stream",
     "text": [
      "Getting vote accuracy:\n"
     ]
    },
    {
     "name": "stderr",
     "output_type": "stream",
     "text": [
      "Validating: 100%|██████████| 13/13 [00:02<00:00,  5.57it/s]\n",
      "Testing:   1%|          | 1/97 [00:00<00:13,  7.33it/s]"
     ]
    },
    {
     "name": "stdout",
     "output_type": "stream",
     "text": [
      "AUC score: 0.8868343195266272\n",
      "Confusion martrix:\n",
      " [[52  0]\n",
      " [37 15]]\n",
      "Classification report:\n",
      "               precision    recall  f1-score   support\n",
      "\n",
      "           0       0.58      1.00      0.74        52\n",
      "           1       1.00      0.29      0.45        52\n",
      "\n",
      "    accuracy                           0.64       104\n",
      "   macro avg       0.79      0.64      0.59       104\n",
      "weighted avg       0.79      0.64      0.59       104\n",
      "\n",
      "Getting test accuracy:\n"
     ]
    },
    {
     "name": "stderr",
     "output_type": "stream",
     "text": [
      "Testing: 100%|██████████| 97/97 [00:15<00:00,  6.26it/s]\n",
      "Training:   0%|          | 0/10 [00:00<?, ?it/s]"
     ]
    },
    {
     "name": "stdout",
     "output_type": "stream",
     "text": [
      "AUC score: 0.7987232968434478\n",
      "Confusion martrix:\n",
      " [[355  33]\n",
      " [231 157]]\n",
      "Classification report:\n",
      "               precision    recall  f1-score   support\n",
      "\n",
      "           0       0.61      0.91      0.73       388\n",
      "           1       0.83      0.40      0.54       388\n",
      "\n",
      "    accuracy                           0.66       776\n",
      "   macro avg       0.72      0.66      0.64       776\n",
      "weighted avg       0.72      0.66      0.64       776\n",
      "\n"
     ]
    },
    {
     "name": "stderr",
     "output_type": "stream",
     "text": [
      "Accuracy 0.937500: 100%|██████████| 10/10 [00:02<00:00,  4.33it/s]\n",
      "Validating:   8%|▊         | 1/13 [00:00<00:02,  5.64it/s]"
     ]
    },
    {
     "name": "stdout",
     "output_type": "stream",
     "text": [
      "Getting vote accuracy:\n"
     ]
    },
    {
     "name": "stderr",
     "output_type": "stream",
     "text": [
      "Validating: 100%|██████████| 13/13 [00:02<00:00,  5.29it/s]\n",
      "Testing:   1%|          | 1/97 [00:00<00:14,  6.80it/s]"
     ]
    },
    {
     "name": "stdout",
     "output_type": "stream",
     "text": [
      "AUC score: 0.9027366863905326\n",
      "Confusion martrix:\n",
      " [[ 5 47]\n",
      " [ 0 52]]\n",
      "Classification report:\n",
      "               precision    recall  f1-score   support\n",
      "\n",
      "           0       1.00      0.10      0.18        52\n",
      "           1       0.53      1.00      0.69        52\n",
      "\n",
      "    accuracy                           0.55       104\n",
      "   macro avg       0.76      0.55      0.43       104\n",
      "weighted avg       0.76      0.55      0.43       104\n",
      "\n",
      "Getting test accuracy:\n"
     ]
    },
    {
     "name": "stderr",
     "output_type": "stream",
     "text": [
      "Testing: 100%|██████████| 97/97 [00:14<00:00,  6.44it/s]\n",
      "Training:   0%|          | 0/10 [00:00<?, ?it/s]"
     ]
    },
    {
     "name": "stdout",
     "output_type": "stream",
     "text": [
      "AUC score: 0.8368915400148793\n",
      "Confusion martrix:\n",
      " [[  5 383]\n",
      " [  0 388]]\n",
      "Classification report:\n",
      "               precision    recall  f1-score   support\n",
      "\n",
      "           0       1.00      0.01      0.03       388\n",
      "           1       0.50      1.00      0.67       388\n",
      "\n",
      "    accuracy                           0.51       776\n",
      "   macro avg       0.75      0.51      0.35       776\n",
      "weighted avg       0.75      0.51      0.35       776\n",
      "\n",
      "Epoch:  11\n"
     ]
    },
    {
     "name": "stderr",
     "output_type": "stream",
     "text": [
      "Accuracy 0.900000: 100%|██████████| 10/10 [00:02<00:00,  4.18it/s]\n",
      "Validating:   8%|▊         | 1/13 [00:00<00:01,  6.26it/s]"
     ]
    },
    {
     "name": "stdout",
     "output_type": "stream",
     "text": [
      "Getting vote accuracy:\n"
     ]
    },
    {
     "name": "stderr",
     "output_type": "stream",
     "text": [
      "Validating: 100%|██████████| 13/13 [00:02<00:00,  5.63it/s]\n",
      "Testing:   1%|          | 1/97 [00:00<00:13,  7.06it/s]"
     ]
    },
    {
     "name": "stdout",
     "output_type": "stream",
     "text": [
      "AUC score: 0.8746301775147929\n",
      "Confusion martrix:\n",
      " [[51  1]\n",
      " [31 21]]\n",
      "Classification report:\n",
      "               precision    recall  f1-score   support\n",
      "\n",
      "           0       0.62      0.98      0.76        52\n",
      "           1       0.95      0.40      0.57        52\n",
      "\n",
      "    accuracy                           0.69       104\n",
      "   macro avg       0.79      0.69      0.66       104\n",
      "weighted avg       0.79      0.69      0.66       104\n",
      "\n",
      "Getting test accuracy:\n"
     ]
    },
    {
     "name": "stderr",
     "output_type": "stream",
     "text": [
      "Testing: 100%|██████████| 97/97 [00:14<00:00,  6.90it/s]\n",
      "Training:   0%|          | 0/10 [00:00<?, ?it/s]"
     ]
    },
    {
     "name": "stdout",
     "output_type": "stream",
     "text": [
      "AUC score: 0.7919080136039962\n",
      "Confusion martrix:\n",
      " [[349  39]\n",
      " [249 139]]\n",
      "Classification report:\n",
      "               precision    recall  f1-score   support\n",
      "\n",
      "           0       0.58      0.90      0.71       388\n",
      "           1       0.78      0.36      0.49       388\n",
      "\n",
      "    accuracy                           0.63       776\n",
      "   macro avg       0.68      0.63      0.60       776\n",
      "weighted avg       0.68      0.63      0.60       776\n",
      "\n"
     ]
    },
    {
     "name": "stderr",
     "output_type": "stream",
     "text": [
      "Accuracy 0.837500: 100%|██████████| 10/10 [00:02<00:00,  4.04it/s]\n",
      "Validating:   0%|          | 0/13 [00:00<?, ?it/s]"
     ]
    },
    {
     "name": "stdout",
     "output_type": "stream",
     "text": [
      "Getting vote accuracy:\n"
     ]
    },
    {
     "name": "stderr",
     "output_type": "stream",
     "text": [
      "Validating: 100%|██████████| 13/13 [00:02<00:00,  5.07it/s]\n",
      "Testing:   1%|          | 1/97 [00:00<00:13,  7.02it/s]"
     ]
    },
    {
     "name": "stdout",
     "output_type": "stream",
     "text": [
      "AUC score: 0.5621301775147929\n",
      "Confusion martrix:\n",
      " [[52  0]\n",
      " [51  1]]\n",
      "Classification report:\n",
      "               precision    recall  f1-score   support\n",
      "\n",
      "           0       0.50      1.00      0.67        52\n",
      "           1       1.00      0.02      0.04        52\n",
      "\n",
      "    accuracy                           0.51       104\n",
      "   macro avg       0.75      0.51      0.35       104\n",
      "weighted avg       0.75      0.51      0.35       104\n",
      "\n",
      "Getting test accuracy:\n"
     ]
    },
    {
     "name": "stderr",
     "output_type": "stream",
     "text": [
      "Testing: 100%|██████████| 97/97 [00:14<00:00,  6.52it/s]\n",
      "Training:   0%|          | 0/10 [00:00<?, ?it/s]"
     ]
    },
    {
     "name": "stdout",
     "output_type": "stream",
     "text": [
      "AUC score: 0.49315150387926454\n",
      "Confusion martrix:\n",
      " [[386   2]\n",
      " [370  18]]\n",
      "Classification report:\n",
      "               precision    recall  f1-score   support\n",
      "\n",
      "           0       0.51      0.99      0.67       388\n",
      "           1       0.90      0.05      0.09       388\n",
      "\n",
      "    accuracy                           0.52       776\n",
      "   macro avg       0.71      0.52      0.38       776\n",
      "weighted avg       0.71      0.52      0.38       776\n",
      "\n"
     ]
    },
    {
     "name": "stderr",
     "output_type": "stream",
     "text": [
      "Accuracy 0.925000: 100%|██████████| 10/10 [00:02<00:00,  4.11it/s]\n",
      "Validating:   0%|          | 0/13 [00:00<?, ?it/s]"
     ]
    },
    {
     "name": "stdout",
     "output_type": "stream",
     "text": [
      "Getting vote accuracy:\n"
     ]
    },
    {
     "name": "stderr",
     "output_type": "stream",
     "text": [
      "Validating: 100%|██████████| 13/13 [00:02<00:00,  5.49it/s]\n",
      "Testing:   1%|          | 1/97 [00:00<00:13,  7.00it/s]"
     ]
    },
    {
     "name": "stdout",
     "output_type": "stream",
     "text": [
      "AUC score: 0.9404585798816568\n",
      "Confusion martrix:\n",
      " [[52  0]\n",
      " [44  8]]\n",
      "Classification report:\n",
      "               precision    recall  f1-score   support\n",
      "\n",
      "           0       0.54      1.00      0.70        52\n",
      "           1       1.00      0.15      0.27        52\n",
      "\n",
      "    accuracy                           0.58       104\n",
      "   macro avg       0.77      0.58      0.48       104\n",
      "weighted avg       0.77      0.58      0.48       104\n",
      "\n",
      "Getting test accuracy:\n"
     ]
    },
    {
     "name": "stderr",
     "output_type": "stream",
     "text": [
      "Testing: 100%|██████████| 97/97 [00:15<00:00,  6.77it/s]\n",
      "Training:   0%|          | 0/10 [00:00<?, ?it/s]"
     ]
    },
    {
     "name": "stdout",
     "output_type": "stream",
     "text": [
      "AUC score: 0.7725050483579552\n",
      "Confusion martrix:\n",
      " [[373  15]\n",
      " [320  68]]\n",
      "Classification report:\n",
      "               precision    recall  f1-score   support\n",
      "\n",
      "           0       0.54      0.96      0.69       388\n",
      "           1       0.82      0.18      0.29       388\n",
      "\n",
      "    accuracy                           0.57       776\n",
      "   macro avg       0.68      0.57      0.49       776\n",
      "weighted avg       0.68      0.57      0.49       776\n",
      "\n"
     ]
    },
    {
     "name": "stderr",
     "output_type": "stream",
     "text": [
      "Accuracy 0.862500: 100%|██████████| 10/10 [00:02<00:00,  3.85it/s]\n",
      "Validating:   0%|          | 0/13 [00:00<?, ?it/s]"
     ]
    },
    {
     "name": "stdout",
     "output_type": "stream",
     "text": [
      "Getting vote accuracy:\n"
     ]
    },
    {
     "name": "stderr",
     "output_type": "stream",
     "text": [
      "Validating: 100%|██████████| 13/13 [00:02<00:00,  5.13it/s]\n",
      "Testing:   1%|          | 1/97 [00:00<00:13,  7.03it/s]"
     ]
    },
    {
     "name": "stdout",
     "output_type": "stream",
     "text": [
      "AUC score: 0.9023668639053254\n",
      "Confusion martrix:\n",
      " [[51  1]\n",
      " [32 20]]\n",
      "Classification report:\n",
      "               precision    recall  f1-score   support\n",
      "\n",
      "           0       0.61      0.98      0.76        52\n",
      "           1       0.95      0.38      0.55        52\n",
      "\n",
      "    accuracy                           0.68       104\n",
      "   macro avg       0.78      0.68      0.65       104\n",
      "weighted avg       0.78      0.68      0.65       104\n",
      "\n",
      "Getting test accuracy:\n"
     ]
    },
    {
     "name": "stderr",
     "output_type": "stream",
     "text": [
      "Testing: 100%|██████████| 97/97 [00:16<00:00,  5.41it/s]\n",
      "Training:   0%|          | 0/10 [00:00<?, ?it/s]"
     ]
    },
    {
     "name": "stdout",
     "output_type": "stream",
     "text": [
      "AUC score: 0.7956079285790201\n",
      "Confusion martrix:\n",
      " [[343  45]\n",
      " [169 219]]\n",
      "Classification report:\n",
      "               precision    recall  f1-score   support\n",
      "\n",
      "           0       0.67      0.88      0.76       388\n",
      "           1       0.83      0.56      0.67       388\n",
      "\n",
      "    accuracy                           0.72       776\n",
      "   macro avg       0.75      0.72      0.72       776\n",
      "weighted avg       0.75      0.72      0.72       776\n",
      "\n"
     ]
    },
    {
     "name": "stderr",
     "output_type": "stream",
     "text": [
      "Accuracy 0.937500: 100%|██████████| 10/10 [00:02<00:00,  3.49it/s]\n",
      "Validating:   0%|          | 0/13 [00:00<?, ?it/s]"
     ]
    },
    {
     "name": "stdout",
     "output_type": "stream",
     "text": [
      "Getting vote accuracy:\n"
     ]
    },
    {
     "name": "stderr",
     "output_type": "stream",
     "text": [
      "Validating: 100%|██████████| 13/13 [00:02<00:00,  5.17it/s]\n",
      "Testing:   1%|          | 1/97 [00:00<00:13,  7.03it/s]"
     ]
    },
    {
     "name": "stdout",
     "output_type": "stream",
     "text": [
      "AUC score: 0.948594674556213\n",
      "Confusion martrix:\n",
      " [[ 4 48]\n",
      " [ 0 52]]\n",
      "Classification report:\n",
      "               precision    recall  f1-score   support\n",
      "\n",
      "           0       1.00      0.08      0.14        52\n",
      "           1       0.52      1.00      0.68        52\n",
      "\n",
      "    accuracy                           0.54       104\n",
      "   macro avg       0.76      0.54      0.41       104\n",
      "weighted avg       0.76      0.54      0.41       104\n",
      "\n",
      "Getting test accuracy:\n"
     ]
    },
    {
     "name": "stderr",
     "output_type": "stream",
     "text": [
      "Testing: 100%|██████████| 97/97 [00:15<00:00,  6.52it/s]\n",
      "/usr/local/lib/python3.7/site-packages/sklearn/metrics/_classification.py:1221: UndefinedMetricWarning: Precision and F-score are ill-defined and being set to 0.0 in labels with no predicted samples. Use `zero_division` parameter to control this behavior.\n",
      "  _warn_prf(average, modifier, msg_start, len(result))\n",
      "Training:   0%|          | 0/10 [00:00<?, ?it/s]"
     ]
    },
    {
     "name": "stdout",
     "output_type": "stream",
     "text": [
      "AUC score: 0.8244964927197365\n",
      "Confusion martrix:\n",
      " [[  0 388]\n",
      " [  0 388]]\n",
      "Classification report:\n",
      "               precision    recall  f1-score   support\n",
      "\n",
      "           0       0.00      0.00      0.00       388\n",
      "           1       0.50      1.00      0.67       388\n",
      "\n",
      "    accuracy                           0.50       776\n",
      "   macro avg       0.25      0.50      0.33       776\n",
      "weighted avg       0.25      0.50      0.33       776\n",
      "\n",
      "Epoch:  12\n"
     ]
    },
    {
     "name": "stderr",
     "output_type": "stream",
     "text": [
      "Accuracy 0.787500: 100%|██████████| 10/10 [00:02<00:00,  4.11it/s]\n",
      "Validating:   8%|▊         | 1/13 [00:00<00:01,  6.15it/s]"
     ]
    },
    {
     "name": "stdout",
     "output_type": "stream",
     "text": [
      "Getting vote accuracy:\n"
     ]
    },
    {
     "name": "stderr",
     "output_type": "stream",
     "text": [
      "Validating: 100%|██████████| 13/13 [00:02<00:00,  5.33it/s]\n",
      "Testing:   1%|          | 1/97 [00:00<00:16,  5.90it/s]"
     ]
    },
    {
     "name": "stdout",
     "output_type": "stream",
     "text": [
      "AUC score: 0.9585798816568046\n",
      "Confusion martrix:\n",
      " [[52  0]\n",
      " [29 23]]\n",
      "Classification report:\n",
      "               precision    recall  f1-score   support\n",
      "\n",
      "           0       0.64      1.00      0.78        52\n",
      "           1       1.00      0.44      0.61        52\n",
      "\n",
      "    accuracy                           0.72       104\n",
      "   macro avg       0.82      0.72      0.70       104\n",
      "weighted avg       0.82      0.72      0.70       104\n",
      "\n",
      "Getting test accuracy:\n"
     ]
    },
    {
     "name": "stderr",
     "output_type": "stream",
     "text": [
      "Testing: 100%|██████████| 97/97 [00:15<00:00,  6.95it/s]\n",
      "Training:   0%|          | 0/10 [00:00<?, ?it/s]"
     ]
    },
    {
     "name": "stdout",
     "output_type": "stream",
     "text": [
      "AUC score: 0.8112379105112127\n",
      "Confusion martrix:\n",
      " [[333  55]\n",
      " [180 208]]\n",
      "Classification report:\n",
      "               precision    recall  f1-score   support\n",
      "\n",
      "           0       0.65      0.86      0.74       388\n",
      "           1       0.79      0.54      0.64       388\n",
      "\n",
      "    accuracy                           0.70       776\n",
      "   macro avg       0.72      0.70      0.69       776\n",
      "weighted avg       0.72      0.70      0.69       776\n",
      "\n"
     ]
    },
    {
     "name": "stderr",
     "output_type": "stream",
     "text": [
      "Accuracy 0.887500: 100%|██████████| 10/10 [00:02<00:00,  3.83it/s]\n",
      "Validating:   0%|          | 0/13 [00:00<?, ?it/s]"
     ]
    },
    {
     "name": "stdout",
     "output_type": "stream",
     "text": [
      "Getting vote accuracy:\n"
     ]
    },
    {
     "name": "stderr",
     "output_type": "stream",
     "text": [
      "Validating: 100%|██████████| 13/13 [00:02<00:00,  5.00it/s]\n",
      "Testing:   0%|          | 0/97 [00:00<?, ?it/s]"
     ]
    },
    {
     "name": "stdout",
     "output_type": "stream",
     "text": [
      "AUC score: 0.6823224852071006\n",
      "Confusion martrix:\n",
      " [[52  0]\n",
      " [51  1]]\n",
      "Classification report:\n",
      "               precision    recall  f1-score   support\n",
      "\n",
      "           0       0.50      1.00      0.67        52\n",
      "           1       1.00      0.02      0.04        52\n",
      "\n",
      "    accuracy                           0.51       104\n",
      "   macro avg       0.75      0.51      0.35       104\n",
      "weighted avg       0.75      0.51      0.35       104\n",
      "\n",
      "Getting test accuracy:\n"
     ]
    },
    {
     "name": "stderr",
     "output_type": "stream",
     "text": [
      "Testing: 100%|██████████| 97/97 [00:16<00:00,  5.20it/s]\n",
      "Training:   0%|          | 0/10 [00:00<?, ?it/s]"
     ]
    },
    {
     "name": "stdout",
     "output_type": "stream",
     "text": [
      "AUC score: 0.5075858220852376\n",
      "Confusion martrix:\n",
      " [[385   3]\n",
      " [370  18]]\n",
      "Classification report:\n",
      "               precision    recall  f1-score   support\n",
      "\n",
      "           0       0.51      0.99      0.67       388\n",
      "           1       0.86      0.05      0.09       388\n",
      "\n",
      "    accuracy                           0.52       776\n",
      "   macro avg       0.68      0.52      0.38       776\n",
      "weighted avg       0.68      0.52      0.38       776\n",
      "\n"
     ]
    },
    {
     "name": "stderr",
     "output_type": "stream",
     "text": [
      "Accuracy 0.925000: 100%|██████████| 10/10 [00:02<00:00,  3.81it/s]\n",
      "Validating:   8%|▊         | 1/13 [00:00<00:02,  5.37it/s]"
     ]
    },
    {
     "name": "stdout",
     "output_type": "stream",
     "text": [
      "Getting vote accuracy:\n"
     ]
    },
    {
     "name": "stderr",
     "output_type": "stream",
     "text": [
      "Validating: 100%|██████████| 13/13 [00:02<00:00,  4.32it/s]\n",
      "Testing:   1%|          | 1/97 [00:00<00:18,  5.28it/s]"
     ]
    },
    {
     "name": "stdout",
     "output_type": "stream",
     "text": [
      "AUC score: 0.9101331360946745\n",
      "Confusion martrix:\n",
      " [[52  0]\n",
      " [40 12]]\n",
      "Classification report:\n",
      "               precision    recall  f1-score   support\n",
      "\n",
      "           0       0.57      1.00      0.72        52\n",
      "           1       1.00      0.23      0.38        52\n",
      "\n",
      "    accuracy                           0.62       104\n",
      "   macro avg       0.78      0.62      0.55       104\n",
      "weighted avg       0.78      0.62      0.55       104\n",
      "\n",
      "Getting test accuracy:\n"
     ]
    },
    {
     "name": "stderr",
     "output_type": "stream",
     "text": [
      "Testing: 100%|██████████| 97/97 [00:17<00:00,  6.60it/s]\n",
      "Training:   0%|          | 0/10 [00:00<?, ?it/s]"
     ]
    },
    {
     "name": "stdout",
     "output_type": "stream",
     "text": [
      "AUC score: 0.7702200021256244\n",
      "Confusion martrix:\n",
      " [[381   7]\n",
      " [350  38]]\n",
      "Classification report:\n",
      "               precision    recall  f1-score   support\n",
      "\n",
      "           0       0.52      0.98      0.68       388\n",
      "           1       0.84      0.10      0.18       388\n",
      "\n",
      "    accuracy                           0.54       776\n",
      "   macro avg       0.68      0.54      0.43       776\n",
      "weighted avg       0.68      0.54      0.43       776\n",
      "\n"
     ]
    },
    {
     "name": "stderr",
     "output_type": "stream",
     "text": [
      "Accuracy 0.875000: 100%|██████████| 10/10 [00:02<00:00,  3.64it/s]\n",
      "Validating:   8%|▊         | 1/13 [00:00<00:02,  5.36it/s]"
     ]
    },
    {
     "name": "stdout",
     "output_type": "stream",
     "text": [
      "Getting vote accuracy:\n"
     ]
    },
    {
     "name": "stderr",
     "output_type": "stream",
     "text": [
      "Validating: 100%|██████████| 13/13 [00:02<00:00,  5.52it/s]\n",
      "Testing:   1%|          | 1/97 [00:00<00:17,  5.50it/s]"
     ]
    },
    {
     "name": "stdout",
     "output_type": "stream",
     "text": [
      "AUC score: 0.8579881656804733\n",
      "Confusion martrix:\n",
      " [[52  0]\n",
      " [31 21]]\n",
      "Classification report:\n",
      "               precision    recall  f1-score   support\n",
      "\n",
      "           0       0.63      1.00      0.77        52\n",
      "           1       1.00      0.40      0.58        52\n",
      "\n",
      "    accuracy                           0.70       104\n",
      "   macro avg       0.81      0.70      0.67       104\n",
      "weighted avg       0.81      0.70      0.67       104\n",
      "\n",
      "Getting test accuracy:\n"
     ]
    },
    {
     "name": "stderr",
     "output_type": "stream",
     "text": [
      "Testing: 100%|██████████| 97/97 [00:15<00:00,  6.79it/s]\n",
      "Training:   0%|          | 0/10 [00:00<?, ?it/s]"
     ]
    },
    {
     "name": "stdout",
     "output_type": "stream",
     "text": [
      "AUC score: 0.7921139334679562\n",
      "Confusion martrix:\n",
      " [[348  40]\n",
      " [205 183]]\n",
      "Classification report:\n",
      "               precision    recall  f1-score   support\n",
      "\n",
      "           0       0.63      0.90      0.74       388\n",
      "           1       0.82      0.47      0.60       388\n",
      "\n",
      "    accuracy                           0.68       776\n",
      "   macro avg       0.72      0.68      0.67       776\n",
      "weighted avg       0.72      0.68      0.67       776\n",
      "\n"
     ]
    },
    {
     "name": "stderr",
     "output_type": "stream",
     "text": [
      "Accuracy 0.925000: 100%|██████████| 10/10 [00:02<00:00,  4.48it/s]\n",
      "Validating:   8%|▊         | 1/13 [00:00<00:02,  5.82it/s]"
     ]
    },
    {
     "name": "stdout",
     "output_type": "stream",
     "text": [
      "Getting vote accuracy:\n"
     ]
    },
    {
     "name": "stderr",
     "output_type": "stream",
     "text": [
      "Validating: 100%|██████████| 13/13 [00:02<00:00,  5.11it/s]\n",
      "Testing:   1%|          | 1/97 [00:00<00:17,  5.55it/s]"
     ]
    },
    {
     "name": "stdout",
     "output_type": "stream",
     "text": [
      "AUC score: 0.9822485207100591\n",
      "Confusion martrix:\n",
      " [[ 2 50]\n",
      " [ 0 52]]\n",
      "Classification report:\n",
      "               precision    recall  f1-score   support\n",
      "\n",
      "           0       1.00      0.04      0.07        52\n",
      "           1       0.51      1.00      0.68        52\n",
      "\n",
      "    accuracy                           0.52       104\n",
      "   macro avg       0.75      0.52      0.37       104\n",
      "weighted avg       0.75      0.52      0.37       104\n",
      "\n",
      "Getting test accuracy:\n"
     ]
    },
    {
     "name": "stderr",
     "output_type": "stream",
     "text": [
      "Testing: 100%|██████████| 97/97 [00:15<00:00,  6.89it/s]\n",
      "/usr/local/lib/python3.7/site-packages/sklearn/metrics/_classification.py:1221: UndefinedMetricWarning: Precision and F-score are ill-defined and being set to 0.0 in labels with no predicted samples. Use `zero_division` parameter to control this behavior.\n",
      "  _warn_prf(average, modifier, msg_start, len(result))\n",
      "Training:   0%|          | 0/10 [00:00<?, ?it/s]"
     ]
    },
    {
     "name": "stdout",
     "output_type": "stream",
     "text": [
      "AUC score: 0.8349718354766712\n",
      "Confusion martrix:\n",
      " [[  0 388]\n",
      " [  0 388]]\n",
      "Classification report:\n",
      "               precision    recall  f1-score   support\n",
      "\n",
      "           0       0.00      0.00      0.00       388\n",
      "           1       0.50      1.00      0.67       388\n",
      "\n",
      "    accuracy                           0.50       776\n",
      "   macro avg       0.25      0.50      0.33       776\n",
      "weighted avg       0.25      0.50      0.33       776\n",
      "\n",
      "Epoch:  13\n"
     ]
    },
    {
     "name": "stderr",
     "output_type": "stream",
     "text": [
      "Accuracy 0.850000: 100%|██████████| 10/10 [00:02<00:00,  4.13it/s]\n",
      "Validating:   0%|          | 0/13 [00:00<?, ?it/s]"
     ]
    },
    {
     "name": "stdout",
     "output_type": "stream",
     "text": [
      "Getting vote accuracy:\n"
     ]
    },
    {
     "name": "stderr",
     "output_type": "stream",
     "text": [
      "Validating: 100%|██████████| 13/13 [00:02<00:00,  4.05it/s]\n",
      "Testing:   1%|          | 1/97 [00:00<00:16,  5.88it/s]"
     ]
    },
    {
     "name": "stdout",
     "output_type": "stream",
     "text": [
      "AUC score: 0.9463757396449703\n",
      "Confusion martrix:\n",
      " [[51  1]\n",
      " [27 25]]\n",
      "Classification report:\n",
      "               precision    recall  f1-score   support\n",
      "\n",
      "           0       0.65      0.98      0.78        52\n",
      "           1       0.96      0.48      0.64        52\n",
      "\n",
      "    accuracy                           0.73       104\n",
      "   macro avg       0.81      0.73      0.71       104\n",
      "weighted avg       0.81      0.73      0.71       104\n",
      "\n",
      "Getting test accuracy:\n"
     ]
    },
    {
     "name": "stderr",
     "output_type": "stream",
     "text": [
      "Testing: 100%|██████████| 97/97 [00:21<00:00,  5.22it/s]\n",
      "Training:   0%|          | 0/10 [00:00<?, ?it/s]"
     ]
    },
    {
     "name": "stdout",
     "output_type": "stream",
     "text": [
      "AUC score: 0.7927184079073227\n",
      "Confusion martrix:\n",
      " [[316  72]\n",
      " [172 216]]\n",
      "Classification report:\n",
      "               precision    recall  f1-score   support\n",
      "\n",
      "           0       0.65      0.81      0.72       388\n",
      "           1       0.75      0.56      0.64       388\n",
      "\n",
      "    accuracy                           0.69       776\n",
      "   macro avg       0.70      0.69      0.68       776\n",
      "weighted avg       0.70      0.69      0.68       776\n",
      "\n"
     ]
    },
    {
     "name": "stderr",
     "output_type": "stream",
     "text": [
      "Accuracy 0.875000: 100%|██████████| 10/10 [00:03<00:00,  2.57it/s]\n",
      "Validating:   0%|          | 0/13 [00:00<?, ?it/s]"
     ]
    },
    {
     "name": "stdout",
     "output_type": "stream",
     "text": [
      "Getting vote accuracy:\n"
     ]
    },
    {
     "name": "stderr",
     "output_type": "stream",
     "text": [
      "Validating: 100%|██████████| 13/13 [00:02<00:00,  4.89it/s]\n",
      "Testing:   1%|          | 1/97 [00:00<00:12,  7.63it/s]"
     ]
    },
    {
     "name": "stdout",
     "output_type": "stream",
     "text": [
      "AUC score: 0.6593934911242604\n",
      "Confusion martrix:\n",
      " [[52  0]\n",
      " [51  1]]\n",
      "Classification report:\n",
      "               precision    recall  f1-score   support\n",
      "\n",
      "           0       0.50      1.00      0.67        52\n",
      "           1       1.00      0.02      0.04        52\n",
      "\n",
      "    accuracy                           0.51       104\n",
      "   macro avg       0.75      0.51      0.35       104\n",
      "weighted avg       0.75      0.51      0.35       104\n",
      "\n",
      "Getting test accuracy:\n"
     ]
    },
    {
     "name": "stderr",
     "output_type": "stream",
     "text": [
      "Testing: 100%|██████████| 97/97 [00:17<00:00,  5.91it/s]\n",
      "Training:   0%|          | 0/10 [00:00<?, ?it/s]"
     ]
    },
    {
     "name": "stdout",
     "output_type": "stream",
     "text": [
      "AUC score: 0.5327213306408758\n",
      "Confusion martrix:\n",
      " [[384   4]\n",
      " [371  17]]\n",
      "Classification report:\n",
      "               precision    recall  f1-score   support\n",
      "\n",
      "           0       0.51      0.99      0.67       388\n",
      "           1       0.81      0.04      0.08       388\n",
      "\n",
      "    accuracy                           0.52       776\n",
      "   macro avg       0.66      0.52      0.38       776\n",
      "weighted avg       0.66      0.52      0.38       776\n",
      "\n"
     ]
    },
    {
     "name": "stderr",
     "output_type": "stream",
     "text": [
      "Accuracy 0.925000: 100%|██████████| 10/10 [00:02<00:00,  3.64it/s]\n",
      "Validating:   8%|▊         | 1/13 [00:00<00:02,  5.53it/s]"
     ]
    },
    {
     "name": "stdout",
     "output_type": "stream",
     "text": [
      "Getting vote accuracy:\n"
     ]
    },
    {
     "name": "stderr",
     "output_type": "stream",
     "text": [
      "Validating: 100%|██████████| 13/13 [00:02<00:00,  4.49it/s]\n",
      "Testing:   1%|          | 1/97 [00:00<00:14,  6.75it/s]"
     ]
    },
    {
     "name": "stdout",
     "output_type": "stream",
     "text": [
      "AUC score: 0.9556213017751479\n",
      "Confusion martrix:\n",
      " [[52  0]\n",
      " [46  6]]\n",
      "Classification report:\n",
      "               precision    recall  f1-score   support\n",
      "\n",
      "           0       0.53      1.00      0.69        52\n",
      "           1       1.00      0.12      0.21        52\n",
      "\n",
      "    accuracy                           0.56       104\n",
      "   macro avg       0.77      0.56      0.45       104\n",
      "weighted avg       0.77      0.56      0.45       104\n",
      "\n",
      "Getting test accuracy:\n"
     ]
    },
    {
     "name": "stderr",
     "output_type": "stream",
     "text": [
      "Testing: 100%|██████████| 97/97 [00:17<00:00,  5.77it/s]\n",
      "Training:   0%|          | 0/10 [00:00<?, ?it/s]"
     ]
    },
    {
     "name": "stdout",
     "output_type": "stream",
     "text": [
      "AUC score: 0.7625743968540759\n",
      "Confusion martrix:\n",
      " [[377  11]\n",
      " [323  65]]\n",
      "Classification report:\n",
      "               precision    recall  f1-score   support\n",
      "\n",
      "           0       0.54      0.97      0.69       388\n",
      "           1       0.86      0.17      0.28       388\n",
      "\n",
      "    accuracy                           0.57       776\n",
      "   macro avg       0.70      0.57      0.49       776\n",
      "weighted avg       0.70      0.57      0.49       776\n",
      "\n"
     ]
    },
    {
     "name": "stderr",
     "output_type": "stream",
     "text": [
      "Accuracy 0.937500: 100%|██████████| 10/10 [00:02<00:00,  3.93it/s]\n",
      "Validating:   8%|▊         | 1/13 [00:00<00:01,  6.01it/s]"
     ]
    },
    {
     "name": "stdout",
     "output_type": "stream",
     "text": [
      "Getting vote accuracy:\n"
     ]
    },
    {
     "name": "stderr",
     "output_type": "stream",
     "text": [
      "Validating: 100%|██████████| 13/13 [00:02<00:00,  5.01it/s]\n",
      "Testing:   1%|          | 1/97 [00:00<00:13,  7.24it/s]"
     ]
    },
    {
     "name": "stdout",
     "output_type": "stream",
     "text": [
      "AUC score: 0.8846153846153846\n",
      "Confusion martrix:\n",
      " [[51  1]\n",
      " [37 15]]\n",
      "Classification report:\n",
      "               precision    recall  f1-score   support\n",
      "\n",
      "           0       0.58      0.98      0.73        52\n",
      "           1       0.94      0.29      0.44        52\n",
      "\n",
      "    accuracy                           0.63       104\n",
      "   macro avg       0.76      0.63      0.58       104\n",
      "weighted avg       0.76      0.63      0.58       104\n",
      "\n",
      "Getting test accuracy:\n"
     ]
    },
    {
     "name": "stderr",
     "output_type": "stream",
     "text": [
      "Testing: 100%|██████████| 97/97 [00:16<00:00,  5.46it/s]\n",
      "Training:   0%|          | 0/10 [00:00<?, ?it/s]"
     ]
    },
    {
     "name": "stdout",
     "output_type": "stream",
     "text": [
      "AUC score: 0.8067276012328621\n",
      "Confusion martrix:\n",
      " [[352  36]\n",
      " [208 180]]\n",
      "Classification report:\n",
      "               precision    recall  f1-score   support\n",
      "\n",
      "           0       0.63      0.91      0.74       388\n",
      "           1       0.83      0.46      0.60       388\n",
      "\n",
      "    accuracy                           0.69       776\n",
      "   macro avg       0.73      0.69      0.67       776\n",
      "weighted avg       0.73      0.69      0.67       776\n",
      "\n"
     ]
    },
    {
     "name": "stderr",
     "output_type": "stream",
     "text": [
      "Accuracy 0.875000: 100%|██████████| 10/10 [00:02<00:00,  4.08it/s]\n",
      "Validating:   8%|▊         | 1/13 [00:00<00:02,  5.75it/s]"
     ]
    },
    {
     "name": "stdout",
     "output_type": "stream",
     "text": [
      "Getting vote accuracy:\n"
     ]
    },
    {
     "name": "stderr",
     "output_type": "stream",
     "text": [
      "Validating: 100%|██████████| 13/13 [00:02<00:00,  4.41it/s]\n",
      "Testing:   1%|          | 1/97 [00:00<00:11,  8.20it/s]"
     ]
    },
    {
     "name": "stdout",
     "output_type": "stream",
     "text": [
      "AUC score: 0.8957100591715976\n",
      "Confusion martrix:\n",
      " [[ 2 50]\n",
      " [ 0 52]]\n",
      "Classification report:\n",
      "               precision    recall  f1-score   support\n",
      "\n",
      "           0       1.00      0.04      0.07        52\n",
      "           1       0.51      1.00      0.68        52\n",
      "\n",
      "    accuracy                           0.52       104\n",
      "   macro avg       0.75      0.52      0.37       104\n",
      "weighted avg       0.75      0.52      0.37       104\n",
      "\n",
      "Getting test accuracy:\n"
     ]
    },
    {
     "name": "stderr",
     "output_type": "stream",
     "text": [
      "Testing: 100%|██████████| 97/97 [00:16<00:00,  5.35it/s]\n",
      "Training:   0%|          | 0/10 [00:00<?, ?it/s]"
     ]
    },
    {
     "name": "stdout",
     "output_type": "stream",
     "text": [
      "AUC score: 0.856659846955043\n",
      "Confusion martrix:\n",
      " [[  1 387]\n",
      " [  0 388]]\n",
      "Classification report:\n",
      "               precision    recall  f1-score   support\n",
      "\n",
      "           0       1.00      0.00      0.01       388\n",
      "           1       0.50      1.00      0.67       388\n",
      "\n",
      "    accuracy                           0.50       776\n",
      "   macro avg       0.75      0.50      0.34       776\n",
      "weighted avg       0.75      0.50      0.34       776\n",
      "\n",
      "Epoch:  14\n"
     ]
    },
    {
     "name": "stderr",
     "output_type": "stream",
     "text": [
      "Accuracy 0.862500: 100%|██████████| 10/10 [00:02<00:00,  3.71it/s]\n",
      "Validating:   8%|▊         | 1/13 [00:00<00:02,  5.52it/s]"
     ]
    },
    {
     "name": "stdout",
     "output_type": "stream",
     "text": [
      "Getting vote accuracy:\n"
     ]
    },
    {
     "name": "stderr",
     "output_type": "stream",
     "text": [
      "Validating: 100%|██████████| 13/13 [00:02<00:00,  4.81it/s]\n",
      "Testing:   1%|          | 1/97 [00:00<00:15,  6.12it/s]"
     ]
    },
    {
     "name": "stdout",
     "output_type": "stream",
     "text": [
      "AUC score: 0.9489644970414202\n",
      "Confusion martrix:\n",
      " [[51  1]\n",
      " [14 38]]\n",
      "Classification report:\n",
      "               precision    recall  f1-score   support\n",
      "\n",
      "           0       0.78      0.98      0.87        52\n",
      "           1       0.97      0.73      0.84        52\n",
      "\n",
      "    accuracy                           0.86       104\n",
      "   macro avg       0.88      0.86      0.85       104\n",
      "weighted avg       0.88      0.86      0.85       104\n",
      "\n",
      "Getting test accuracy:\n"
     ]
    },
    {
     "name": "stderr",
     "output_type": "stream",
     "text": [
      "Testing: 100%|██████████| 97/97 [00:15<00:00,  6.77it/s]\n",
      "Training:   0%|          | 0/10 [00:00<?, ?it/s]"
     ]
    },
    {
     "name": "stdout",
     "output_type": "stream",
     "text": [
      "AUC score: 0.7968102348814965\n",
      "Confusion martrix:\n",
      " [[298  90]\n",
      " [123 265]]\n",
      "Classification report:\n",
      "               precision    recall  f1-score   support\n",
      "\n",
      "           0       0.71      0.77      0.74       388\n",
      "           1       0.75      0.68      0.71       388\n",
      "\n",
      "    accuracy                           0.73       776\n",
      "   macro avg       0.73      0.73      0.73       776\n",
      "weighted avg       0.73      0.73      0.73       776\n",
      "\n"
     ]
    },
    {
     "name": "stderr",
     "output_type": "stream",
     "text": [
      "Accuracy 0.962500: 100%|██████████| 10/10 [00:02<00:00,  4.30it/s]\n",
      "Validating:   0%|          | 0/13 [00:00<?, ?it/s]"
     ]
    },
    {
     "name": "stdout",
     "output_type": "stream",
     "text": [
      "Getting vote accuracy:\n"
     ]
    },
    {
     "name": "stderr",
     "output_type": "stream",
     "text": [
      "Validating: 100%|██████████| 13/13 [00:02<00:00,  5.32it/s]\n",
      "Testing:   1%|          | 1/97 [00:00<00:14,  6.62it/s]"
     ]
    },
    {
     "name": "stdout",
     "output_type": "stream",
     "text": [
      "AUC score: 0.7699704142011835\n",
      "Confusion martrix:\n",
      " [[52  0]\n",
      " [49  3]]\n",
      "Classification report:\n",
      "               precision    recall  f1-score   support\n",
      "\n",
      "           0       0.51      1.00      0.68        52\n",
      "           1       1.00      0.06      0.11        52\n",
      "\n",
      "    accuracy                           0.53       104\n",
      "   macro avg       0.76      0.53      0.39       104\n",
      "weighted avg       0.76      0.53      0.39       104\n",
      "\n",
      "Getting test accuracy:\n"
     ]
    },
    {
     "name": "stderr",
     "output_type": "stream",
     "text": [
      "Testing: 100%|██████████| 97/97 [00:14<00:00,  6.42it/s]\n",
      "Training:   0%|          | 0/10 [00:00<?, ?it/s]"
     ]
    },
    {
     "name": "stdout",
     "output_type": "stream",
     "text": [
      "AUC score: 0.5738388776703156\n",
      "Confusion martrix:\n",
      " [[386   2]\n",
      " [369  19]]\n",
      "Classification report:\n",
      "               precision    recall  f1-score   support\n",
      "\n",
      "           0       0.51      0.99      0.68       388\n",
      "           1       0.90      0.05      0.09       388\n",
      "\n",
      "    accuracy                           0.52       776\n",
      "   macro avg       0.71      0.52      0.38       776\n",
      "weighted avg       0.71      0.52      0.38       776\n",
      "\n"
     ]
    },
    {
     "name": "stderr",
     "output_type": "stream",
     "text": [
      "Accuracy 0.887500: 100%|██████████| 10/10 [00:02<00:00,  4.13it/s]\n",
      "Validating:   0%|          | 0/13 [00:00<?, ?it/s]"
     ]
    },
    {
     "name": "stdout",
     "output_type": "stream",
     "text": [
      "Getting vote accuracy:\n"
     ]
    },
    {
     "name": "stderr",
     "output_type": "stream",
     "text": [
      "Validating: 100%|██████████| 13/13 [00:02<00:00,  5.45it/s]\n",
      "Testing:   1%|          | 1/97 [00:00<00:14,  6.57it/s]"
     ]
    },
    {
     "name": "stdout",
     "output_type": "stream",
     "text": [
      "AUC score: 0.9863165680473374\n",
      "Confusion martrix:\n",
      " [[52  0]\n",
      " [34 18]]\n",
      "Classification report:\n",
      "               precision    recall  f1-score   support\n",
      "\n",
      "           0       0.60      1.00      0.75        52\n",
      "           1       1.00      0.35      0.51        52\n",
      "\n",
      "    accuracy                           0.67       104\n",
      "   macro avg       0.80      0.67      0.63       104\n",
      "weighted avg       0.80      0.67      0.63       104\n",
      "\n",
      "Getting test accuracy:\n"
     ]
    },
    {
     "name": "stderr",
     "output_type": "stream",
     "text": [
      "Testing: 100%|██████████| 97/97 [00:15<00:00,  6.61it/s]\n",
      "Training:   0%|          | 0/10 [00:00<?, ?it/s]"
     ]
    },
    {
     "name": "stdout",
     "output_type": "stream",
     "text": [
      "AUC score: 0.7972287171856732\n",
      "Confusion martrix:\n",
      " [[376  12]\n",
      " [277 111]]\n",
      "Classification report:\n",
      "               precision    recall  f1-score   support\n",
      "\n",
      "           0       0.58      0.97      0.72       388\n",
      "           1       0.90      0.29      0.43       388\n",
      "\n",
      "    accuracy                           0.63       776\n",
      "   macro avg       0.74      0.63      0.58       776\n",
      "weighted avg       0.74      0.63      0.58       776\n",
      "\n"
     ]
    },
    {
     "name": "stderr",
     "output_type": "stream",
     "text": [
      "Accuracy 0.937500: 100%|██████████| 10/10 [00:02<00:00,  4.33it/s]\n",
      "Validating:   8%|▊         | 1/13 [00:00<00:02,  5.04it/s]"
     ]
    },
    {
     "name": "stdout",
     "output_type": "stream",
     "text": [
      "Getting vote accuracy:\n"
     ]
    },
    {
     "name": "stderr",
     "output_type": "stream",
     "text": [
      "Validating: 100%|██████████| 13/13 [00:02<00:00,  5.22it/s]\n",
      "Testing:   1%|          | 1/97 [00:00<00:14,  6.81it/s]"
     ]
    },
    {
     "name": "stdout",
     "output_type": "stream",
     "text": [
      "AUC score: 0.9267751479289942\n",
      "Confusion martrix:\n",
      " [[52  0]\n",
      " [27 25]]\n",
      "Classification report:\n",
      "               precision    recall  f1-score   support\n",
      "\n",
      "           0       0.66      1.00      0.79        52\n",
      "           1       1.00      0.48      0.65        52\n",
      "\n",
      "    accuracy                           0.74       104\n",
      "   macro avg       0.83      0.74      0.72       104\n",
      "weighted avg       0.83      0.74      0.72       104\n",
      "\n",
      "Getting test accuracy:\n"
     ]
    },
    {
     "name": "stderr",
     "output_type": "stream",
     "text": [
      "Testing: 100%|██████████| 97/97 [00:15<00:00,  5.45it/s]\n",
      "Training:   0%|          | 0/10 [00:00<?, ?it/s]"
     ]
    },
    {
     "name": "stdout",
     "output_type": "stream",
     "text": [
      "AUC score: 0.8225037198427039\n",
      "Confusion martrix:\n",
      " [[344  44]\n",
      " [171 217]]\n",
      "Classification report:\n",
      "               precision    recall  f1-score   support\n",
      "\n",
      "           0       0.67      0.89      0.76       388\n",
      "           1       0.83      0.56      0.67       388\n",
      "\n",
      "    accuracy                           0.72       776\n",
      "   macro avg       0.75      0.72      0.72       776\n",
      "weighted avg       0.75      0.72      0.72       776\n",
      "\n"
     ]
    },
    {
     "name": "stderr",
     "output_type": "stream",
     "text": [
      "Accuracy 0.887500: 100%|██████████| 10/10 [00:02<00:00,  4.14it/s]\n",
      "Validating:   8%|▊         | 1/13 [00:00<00:02,  5.99it/s]"
     ]
    },
    {
     "name": "stdout",
     "output_type": "stream",
     "text": [
      "Getting vote accuracy:\n"
     ]
    },
    {
     "name": "stderr",
     "output_type": "stream",
     "text": [
      "Validating: 100%|██████████| 13/13 [00:02<00:00,  5.41it/s]\n",
      "/usr/local/lib/python3.7/site-packages/sklearn/metrics/_classification.py:1221: UndefinedMetricWarning: Precision and F-score are ill-defined and being set to 0.0 in labels with no predicted samples. Use `zero_division` parameter to control this behavior.\n",
      "  _warn_prf(average, modifier, msg_start, len(result))\n",
      "Testing:   1%|          | 1/97 [00:00<00:14,  6.66it/s]"
     ]
    },
    {
     "name": "stdout",
     "output_type": "stream",
     "text": [
      "AUC score: 0.9467455621301775\n",
      "Confusion martrix:\n",
      " [[ 0 52]\n",
      " [ 0 52]]\n",
      "Classification report:\n",
      "               precision    recall  f1-score   support\n",
      "\n",
      "           0       0.00      0.00      0.00        52\n",
      "           1       0.50      1.00      0.67        52\n",
      "\n",
      "    accuracy                           0.50       104\n",
      "   macro avg       0.25      0.50      0.33       104\n",
      "weighted avg       0.25      0.50      0.33       104\n",
      "\n",
      "Getting test accuracy:\n"
     ]
    },
    {
     "name": "stderr",
     "output_type": "stream",
     "text": [
      "Testing: 100%|██████████| 97/97 [00:15<00:00,  6.39it/s]\n",
      "/usr/local/lib/python3.7/site-packages/sklearn/metrics/_classification.py:1221: UndefinedMetricWarning: Precision and F-score are ill-defined and being set to 0.0 in labels with no predicted samples. Use `zero_division` parameter to control this behavior.\n",
      "  _warn_prf(average, modifier, msg_start, len(result))\n",
      "Training:   0%|          | 0/10 [00:00<?, ?it/s]"
     ]
    },
    {
     "name": "stdout",
     "output_type": "stream",
     "text": [
      "AUC score: 0.8613495057923266\n",
      "Confusion martrix:\n",
      " [[  0 388]\n",
      " [  0 388]]\n",
      "Classification report:\n",
      "               precision    recall  f1-score   support\n",
      "\n",
      "           0       0.00      0.00      0.00       388\n",
      "           1       0.50      1.00      0.67       388\n",
      "\n",
      "    accuracy                           0.50       776\n",
      "   macro avg       0.25      0.50      0.33       776\n",
      "weighted avg       0.25      0.50      0.33       776\n",
      "\n",
      "Epoch:  15\n"
     ]
    },
    {
     "name": "stderr",
     "output_type": "stream",
     "text": [
      "Accuracy 0.937500: 100%|██████████| 10/10 [00:02<00:00,  4.18it/s]\n",
      "Validating:   8%|▊         | 1/13 [00:00<00:02,  5.65it/s]"
     ]
    },
    {
     "name": "stdout",
     "output_type": "stream",
     "text": [
      "Getting vote accuracy:\n"
     ]
    },
    {
     "name": "stderr",
     "output_type": "stream",
     "text": [
      "Validating: 100%|██████████| 13/13 [00:02<00:00,  5.45it/s]\n",
      "Testing:   1%|          | 1/97 [00:00<00:16,  5.89it/s]"
     ]
    },
    {
     "name": "stdout",
     "output_type": "stream",
     "text": [
      "AUC score: 0.9600591715976331\n",
      "Confusion martrix:\n",
      " [[52  0]\n",
      " [17 35]]\n",
      "Classification report:\n",
      "               precision    recall  f1-score   support\n",
      "\n",
      "           0       0.75      1.00      0.86        52\n",
      "           1       1.00      0.67      0.80        52\n",
      "\n",
      "    accuracy                           0.84       104\n",
      "   macro avg       0.88      0.84      0.83       104\n",
      "weighted avg       0.88      0.84      0.83       104\n",
      "\n",
      "Getting test accuracy:\n"
     ]
    },
    {
     "name": "stderr",
     "output_type": "stream",
     "text": [
      "Testing: 100%|██████████| 97/97 [00:15<00:00,  7.19it/s]\n",
      "Training:   0%|          | 0/10 [00:00<?, ?it/s]"
     ]
    },
    {
     "name": "stdout",
     "output_type": "stream",
     "text": [
      "AUC score: 0.7957274949516421\n",
      "Confusion martrix:\n",
      " [[276 112]\n",
      " [ 97 291]]\n",
      "Classification report:\n",
      "               precision    recall  f1-score   support\n",
      "\n",
      "           0       0.74      0.71      0.73       388\n",
      "           1       0.72      0.75      0.74       388\n",
      "\n",
      "    accuracy                           0.73       776\n",
      "   macro avg       0.73      0.73      0.73       776\n",
      "weighted avg       0.73      0.73      0.73       776\n",
      "\n"
     ]
    },
    {
     "name": "stderr",
     "output_type": "stream",
     "text": [
      "Accuracy 0.925000: 100%|██████████| 10/10 [00:02<00:00,  4.00it/s]\n",
      "Validating:   8%|▊         | 1/13 [00:00<00:01,  6.76it/s]"
     ]
    },
    {
     "name": "stdout",
     "output_type": "stream",
     "text": [
      "Getting vote accuracy:\n"
     ]
    },
    {
     "name": "stderr",
     "output_type": "stream",
     "text": [
      "Validating: 100%|██████████| 13/13 [00:02<00:00,  5.43it/s]\n",
      "/usr/local/lib/python3.7/site-packages/sklearn/metrics/_classification.py:1221: UndefinedMetricWarning: Precision and F-score are ill-defined and being set to 0.0 in labels with no predicted samples. Use `zero_division` parameter to control this behavior.\n",
      "  _warn_prf(average, modifier, msg_start, len(result))\n",
      "Testing:   0%|          | 0/97 [00:00<?, ?it/s]"
     ]
    },
    {
     "name": "stdout",
     "output_type": "stream",
     "text": [
      "AUC score: 0.6867603550295858\n",
      "Confusion martrix:\n",
      " [[52  0]\n",
      " [52  0]]\n",
      "Classification report:\n",
      "               precision    recall  f1-score   support\n",
      "\n",
      "           0       0.50      1.00      0.67        52\n",
      "           1       0.00      0.00      0.00        52\n",
      "\n",
      "    accuracy                           0.50       104\n",
      "   macro avg       0.25      0.50      0.33       104\n",
      "weighted avg       0.25      0.50      0.33       104\n",
      "\n",
      "Getting test accuracy:\n"
     ]
    },
    {
     "name": "stderr",
     "output_type": "stream",
     "text": [
      "Testing: 100%|██████████| 97/97 [00:15<00:00,  6.97it/s]\n",
      "Training:   0%|          | 0/10 [00:00<?, ?it/s]"
     ]
    },
    {
     "name": "stdout",
     "output_type": "stream",
     "text": [
      "AUC score: 0.5870376766925285\n",
      "Confusion martrix:\n",
      " [[387   1]\n",
      " [366  22]]\n",
      "Classification report:\n",
      "               precision    recall  f1-score   support\n",
      "\n",
      "           0       0.51      1.00      0.68       388\n",
      "           1       0.96      0.06      0.11       388\n",
      "\n",
      "    accuracy                           0.53       776\n",
      "   macro avg       0.74      0.53      0.39       776\n",
      "weighted avg       0.74      0.53      0.39       776\n",
      "\n"
     ]
    },
    {
     "name": "stderr",
     "output_type": "stream",
     "text": [
      "Accuracy 0.912500: 100%|██████████| 10/10 [00:02<00:00,  4.14it/s]\n",
      "Validating:   0%|          | 0/13 [00:00<?, ?it/s]"
     ]
    },
    {
     "name": "stdout",
     "output_type": "stream",
     "text": [
      "Getting vote accuracy:\n"
     ]
    },
    {
     "name": "stderr",
     "output_type": "stream",
     "text": [
      "Validating: 100%|██████████| 13/13 [00:02<00:00,  5.06it/s]\n",
      "Testing:   1%|          | 1/97 [00:00<00:17,  5.55it/s]"
     ]
    },
    {
     "name": "stdout",
     "output_type": "stream",
     "text": [
      "AUC score: 0.9707840236686389\n",
      "Confusion martrix:\n",
      " [[52  0]\n",
      " [37 15]]\n",
      "Classification report:\n",
      "               precision    recall  f1-score   support\n",
      "\n",
      "           0       0.58      1.00      0.74        52\n",
      "           1       1.00      0.29      0.45        52\n",
      "\n",
      "    accuracy                           0.64       104\n",
      "   macro avg       0.79      0.64      0.59       104\n",
      "weighted avg       0.79      0.64      0.59       104\n",
      "\n",
      "Getting test accuracy:\n"
     ]
    },
    {
     "name": "stderr",
     "output_type": "stream",
     "text": [
      "Testing: 100%|██████████| 97/97 [00:15<00:00,  6.68it/s]\n",
      "Training:   0%|          | 0/10 [00:00<?, ?it/s]"
     ]
    },
    {
     "name": "stdout",
     "output_type": "stream",
     "text": [
      "AUC score: 0.8202651716441705\n",
      "Confusion martrix:\n",
      " [[354  34]\n",
      " [222 166]]\n",
      "Classification report:\n",
      "               precision    recall  f1-score   support\n",
      "\n",
      "           0       0.61      0.91      0.73       388\n",
      "           1       0.83      0.43      0.56       388\n",
      "\n",
      "    accuracy                           0.67       776\n",
      "   macro avg       0.72      0.67      0.65       776\n",
      "weighted avg       0.72      0.67      0.65       776\n",
      "\n"
     ]
    },
    {
     "name": "stderr",
     "output_type": "stream",
     "text": [
      "Accuracy 0.912500: 100%|██████████| 10/10 [00:02<00:00,  4.01it/s]\n",
      "Validating:   8%|▊         | 1/13 [00:00<00:02,  5.82it/s]"
     ]
    },
    {
     "name": "stdout",
     "output_type": "stream",
     "text": [
      "Getting vote accuracy:\n"
     ]
    },
    {
     "name": "stderr",
     "output_type": "stream",
     "text": [
      "Validating: 100%|██████████| 13/13 [00:02<00:00,  5.67it/s]\n",
      "Testing:   1%|          | 1/97 [00:00<00:16,  5.79it/s]"
     ]
    },
    {
     "name": "stdout",
     "output_type": "stream",
     "text": [
      "AUC score: 0.9423076923076922\n",
      "Confusion martrix:\n",
      " [[52  0]\n",
      " [27 25]]\n",
      "Classification report:\n",
      "               precision    recall  f1-score   support\n",
      "\n",
      "           0       0.66      1.00      0.79        52\n",
      "           1       1.00      0.48      0.65        52\n",
      "\n",
      "    accuracy                           0.74       104\n",
      "   macro avg       0.83      0.74      0.72       104\n",
      "weighted avg       0.83      0.74      0.72       104\n",
      "\n",
      "Getting test accuracy:\n"
     ]
    },
    {
     "name": "stderr",
     "output_type": "stream",
     "text": [
      "Testing: 100%|██████████| 97/97 [00:15<00:00,  6.85it/s]\n",
      "Training:   0%|          | 0/10 [00:00<?, ?it/s]"
     ]
    },
    {
     "name": "stdout",
     "output_type": "stream",
     "text": [
      "AUC score: 0.8133103943033265\n",
      "Confusion martrix:\n",
      " [[343  45]\n",
      " [174 214]]\n",
      "Classification report:\n",
      "               precision    recall  f1-score   support\n",
      "\n",
      "           0       0.66      0.88      0.76       388\n",
      "           1       0.83      0.55      0.66       388\n",
      "\n",
      "    accuracy                           0.72       776\n",
      "   macro avg       0.74      0.72      0.71       776\n",
      "weighted avg       0.74      0.72      0.71       776\n",
      "\n"
     ]
    },
    {
     "name": "stderr",
     "output_type": "stream",
     "text": [
      "Accuracy 0.912500: 100%|██████████| 10/10 [00:02<00:00,  4.07it/s]\n",
      "Validating:   0%|          | 0/13 [00:00<?, ?it/s]"
     ]
    },
    {
     "name": "stdout",
     "output_type": "stream",
     "text": [
      "Getting vote accuracy:\n"
     ]
    },
    {
     "name": "stderr",
     "output_type": "stream",
     "text": [
      "Validating: 100%|██████████| 13/13 [00:02<00:00,  4.56it/s]\n",
      "/usr/local/lib/python3.7/site-packages/sklearn/metrics/_classification.py:1221: UndefinedMetricWarning: Precision and F-score are ill-defined and being set to 0.0 in labels with no predicted samples. Use `zero_division` parameter to control this behavior.\n",
      "  _warn_prf(average, modifier, msg_start, len(result))\n",
      "Testing:   1%|          | 1/97 [00:00<00:16,  5.89it/s]"
     ]
    },
    {
     "name": "stdout",
     "output_type": "stream",
     "text": [
      "AUC score: 0.9548816568047337\n",
      "Confusion martrix:\n",
      " [[ 0 52]\n",
      " [ 0 52]]\n",
      "Classification report:\n",
      "               precision    recall  f1-score   support\n",
      "\n",
      "           0       0.00      0.00      0.00        52\n",
      "           1       0.50      1.00      0.67        52\n",
      "\n",
      "    accuracy                           0.50       104\n",
      "   macro avg       0.25      0.50      0.33       104\n",
      "weighted avg       0.25      0.50      0.33       104\n",
      "\n",
      "Getting test accuracy:\n"
     ]
    },
    {
     "name": "stderr",
     "output_type": "stream",
     "text": [
      "Testing: 100%|██████████| 97/97 [00:16<00:00,  6.95it/s]\n",
      "/usr/local/lib/python3.7/site-packages/sklearn/metrics/_classification.py:1221: UndefinedMetricWarning: Precision and F-score are ill-defined and being set to 0.0 in labels with no predicted samples. Use `zero_division` parameter to control this behavior.\n",
      "  _warn_prf(average, modifier, msg_start, len(result))\n",
      "Training:   0%|          | 0/10 [00:00<?, ?it/s]"
     ]
    },
    {
     "name": "stdout",
     "output_type": "stream",
     "text": [
      "AUC score: 0.8528868636411945\n",
      "Confusion martrix:\n",
      " [[  0 388]\n",
      " [  0 388]]\n",
      "Classification report:\n",
      "               precision    recall  f1-score   support\n",
      "\n",
      "           0       0.00      0.00      0.00       388\n",
      "           1       0.50      1.00      0.67       388\n",
      "\n",
      "    accuracy                           0.50       776\n",
      "   macro avg       0.25      0.50      0.33       776\n",
      "weighted avg       0.25      0.50      0.33       776\n",
      "\n",
      "Epoch:  16\n"
     ]
    },
    {
     "name": "stderr",
     "output_type": "stream",
     "text": [
      "Accuracy 0.937500: 100%|██████████| 10/10 [00:02<00:00,  3.88it/s]\n",
      "Validating:   0%|          | 0/13 [00:00<?, ?it/s]"
     ]
    },
    {
     "name": "stdout",
     "output_type": "stream",
     "text": [
      "Getting vote accuracy:\n"
     ]
    },
    {
     "name": "stderr",
     "output_type": "stream",
     "text": [
      "Validating: 100%|██████████| 13/13 [00:02<00:00,  5.99it/s]\n",
      "Testing:   1%|          | 1/97 [00:00<00:12,  8.00it/s]"
     ]
    },
    {
     "name": "stdout",
     "output_type": "stream",
     "text": [
      "AUC score: 0.9371301775147929\n",
      "Confusion martrix:\n",
      " [[45  7]\n",
      " [ 9 43]]\n",
      "Classification report:\n",
      "               precision    recall  f1-score   support\n",
      "\n",
      "           0       0.83      0.87      0.85        52\n",
      "           1       0.86      0.83      0.84        52\n",
      "\n",
      "    accuracy                           0.85       104\n",
      "   macro avg       0.85      0.85      0.85       104\n",
      "weighted avg       0.85      0.85      0.85       104\n",
      "\n",
      "Getting test accuracy:\n"
     ]
    },
    {
     "name": "stderr",
     "output_type": "stream",
     "text": [
      "Testing: 100%|██████████| 97/97 [00:16<00:00,  5.90it/s]\n",
      "Training:   0%|          | 0/10 [00:00<?, ?it/s]"
     ]
    },
    {
     "name": "stdout",
     "output_type": "stream",
     "text": [
      "AUC score: 0.8307936550111594\n",
      "Confusion martrix:\n",
      " [[261 127]\n",
      " [ 60 328]]\n",
      "Classification report:\n",
      "               precision    recall  f1-score   support\n",
      "\n",
      "           0       0.81      0.67      0.74       388\n",
      "           1       0.72      0.85      0.78       388\n",
      "\n",
      "    accuracy                           0.76       776\n",
      "   macro avg       0.77      0.76      0.76       776\n",
      "weighted avg       0.77      0.76      0.76       776\n",
      "\n"
     ]
    },
    {
     "name": "stderr",
     "output_type": "stream",
     "text": [
      "Accuracy 0.925000: 100%|██████████| 10/10 [00:02<00:00,  3.57it/s]\n",
      "Validating:   0%|          | 0/13 [00:00<?, ?it/s]"
     ]
    },
    {
     "name": "stdout",
     "output_type": "stream",
     "text": [
      "Getting vote accuracy:\n"
     ]
    },
    {
     "name": "stderr",
     "output_type": "stream",
     "text": [
      "Validating: 100%|██████████| 13/13 [00:02<00:00,  5.00it/s]\n",
      "Testing:   1%|          | 1/97 [00:00<00:11,  8.46it/s]"
     ]
    },
    {
     "name": "stdout",
     "output_type": "stream",
     "text": [
      "AUC score: 0.8043639053254439\n",
      "Confusion martrix:\n",
      " [[52  0]\n",
      " [49  3]]\n",
      "Classification report:\n",
      "               precision    recall  f1-score   support\n",
      "\n",
      "           0       0.51      1.00      0.68        52\n",
      "           1       1.00      0.06      0.11        52\n",
      "\n",
      "    accuracy                           0.53       104\n",
      "   macro avg       0.76      0.53      0.39       104\n",
      "weighted avg       0.76      0.53      0.39       104\n",
      "\n",
      "Getting test accuracy:\n"
     ]
    },
    {
     "name": "stderr",
     "output_type": "stream",
     "text": [
      "Testing: 100%|██████████| 97/97 [00:15<00:00,  5.95it/s]\n",
      "Training:   0%|          | 0/10 [00:00<?, ?it/s]"
     ]
    },
    {
     "name": "stdout",
     "output_type": "stream",
     "text": [
      "AUC score: 0.6095759379317676\n",
      "Confusion martrix:\n",
      " [[384   4]\n",
      " [365  23]]\n",
      "Classification report:\n",
      "               precision    recall  f1-score   support\n",
      "\n",
      "           0       0.51      0.99      0.68       388\n",
      "           1       0.85      0.06      0.11       388\n",
      "\n",
      "    accuracy                           0.52       776\n",
      "   macro avg       0.68      0.52      0.39       776\n",
      "weighted avg       0.68      0.52      0.39       776\n",
      "\n"
     ]
    },
    {
     "name": "stderr",
     "output_type": "stream",
     "text": [
      "Accuracy 0.887500: 100%|██████████| 10/10 [00:02<00:00,  3.84it/s]\n",
      "Validating:   8%|▊         | 1/13 [00:00<00:02,  5.38it/s]"
     ]
    },
    {
     "name": "stdout",
     "output_type": "stream",
     "text": [
      "Getting vote accuracy:\n"
     ]
    },
    {
     "name": "stderr",
     "output_type": "stream",
     "text": [
      "Validating: 100%|██████████| 13/13 [00:02<00:00,  4.25it/s]\n",
      "Testing:   1%|          | 1/97 [00:00<00:17,  5.55it/s]"
     ]
    },
    {
     "name": "stdout",
     "output_type": "stream",
     "text": [
      "AUC score: 0.9722633136094674\n",
      "Confusion martrix:\n",
      " [[52  0]\n",
      " [16 36]]\n",
      "Classification report:\n",
      "               precision    recall  f1-score   support\n",
      "\n",
      "           0       0.76      1.00      0.87        52\n",
      "           1       1.00      0.69      0.82        52\n",
      "\n",
      "    accuracy                           0.85       104\n",
      "   macro avg       0.88      0.85      0.84       104\n",
      "weighted avg       0.88      0.85      0.84       104\n",
      "\n",
      "Getting test accuracy:\n"
     ]
    },
    {
     "name": "stderr",
     "output_type": "stream",
     "text": [
      "Testing: 100%|██████████| 97/97 [00:17<00:00,  5.21it/s]\n",
      "Training:   0%|          | 0/10 [00:00<?, ?it/s]"
     ]
    },
    {
     "name": "stdout",
     "output_type": "stream",
     "text": [
      "AUC score: 0.8240115846529918\n",
      "Confusion martrix:\n",
      " [[342  46]\n",
      " [157 231]]\n",
      "Classification report:\n",
      "               precision    recall  f1-score   support\n",
      "\n",
      "           0       0.69      0.88      0.77       388\n",
      "           1       0.83      0.60      0.69       388\n",
      "\n",
      "    accuracy                           0.74       776\n",
      "   macro avg       0.76      0.74      0.73       776\n",
      "weighted avg       0.76      0.74      0.73       776\n",
      "\n"
     ]
    },
    {
     "name": "stderr",
     "output_type": "stream",
     "text": [
      "Accuracy 0.875000: 100%|██████████| 10/10 [00:02<00:00,  3.76it/s]\n",
      "Validating:   0%|          | 0/13 [00:00<?, ?it/s]"
     ]
    },
    {
     "name": "stdout",
     "output_type": "stream",
     "text": [
      "Getting vote accuracy:\n"
     ]
    },
    {
     "name": "stderr",
     "output_type": "stream",
     "text": [
      "Validating: 100%|██████████| 13/13 [00:03<00:00,  3.95it/s]\n",
      "Testing:   1%|          | 1/97 [00:00<00:13,  7.03it/s]"
     ]
    },
    {
     "name": "stdout",
     "output_type": "stream",
     "text": [
      "AUC score: 0.9689349112426036\n",
      "Confusion martrix:\n",
      " [[51  1]\n",
      " [14 38]]\n",
      "Classification report:\n",
      "               precision    recall  f1-score   support\n",
      "\n",
      "           0       0.78      0.98      0.87        52\n",
      "           1       0.97      0.73      0.84        52\n",
      "\n",
      "    accuracy                           0.86       104\n",
      "   macro avg       0.88      0.86      0.85       104\n",
      "weighted avg       0.88      0.86      0.85       104\n",
      "\n",
      "Getting test accuracy:\n"
     ]
    },
    {
     "name": "stderr",
     "output_type": "stream",
     "text": [
      "Testing: 100%|██████████| 97/97 [00:16<00:00,  5.90it/s]\n",
      "Training:   0%|          | 0/10 [00:00<?, ?it/s]"
     ]
    },
    {
     "name": "stdout",
     "output_type": "stream",
     "text": [
      "AUC score: 0.7882280263577426\n",
      "Confusion martrix:\n",
      " [[291  97]\n",
      " [126 262]]\n",
      "Classification report:\n",
      "               precision    recall  f1-score   support\n",
      "\n",
      "           0       0.70      0.75      0.72       388\n",
      "           1       0.73      0.68      0.70       388\n",
      "\n",
      "    accuracy                           0.71       776\n",
      "   macro avg       0.71      0.71      0.71       776\n",
      "weighted avg       0.71      0.71      0.71       776\n",
      "\n"
     ]
    },
    {
     "name": "stderr",
     "output_type": "stream",
     "text": [
      "Accuracy 0.925000: 100%|██████████| 10/10 [00:02<00:00,  4.14it/s]\n",
      "Validating:   8%|▊         | 1/13 [00:00<00:02,  5.90it/s]"
     ]
    },
    {
     "name": "stdout",
     "output_type": "stream",
     "text": [
      "Getting vote accuracy:\n"
     ]
    },
    {
     "name": "stderr",
     "output_type": "stream",
     "text": [
      "Validating: 100%|██████████| 13/13 [00:02<00:00,  5.53it/s]\n",
      "/usr/local/lib/python3.7/site-packages/sklearn/metrics/_classification.py:1221: UndefinedMetricWarning: Precision and F-score are ill-defined and being set to 0.0 in labels with no predicted samples. Use `zero_division` parameter to control this behavior.\n",
      "  _warn_prf(average, modifier, msg_start, len(result))\n",
      "Testing:   1%|          | 1/97 [00:00<00:11,  8.28it/s]"
     ]
    },
    {
     "name": "stdout",
     "output_type": "stream",
     "text": [
      "AUC score: 0.9833579881656804\n",
      "Confusion martrix:\n",
      " [[ 0 52]\n",
      " [ 0 52]]\n",
      "Classification report:\n",
      "               precision    recall  f1-score   support\n",
      "\n",
      "           0       0.00      0.00      0.00        52\n",
      "           1       0.50      1.00      0.67        52\n",
      "\n",
      "    accuracy                           0.50       104\n",
      "   macro avg       0.25      0.50      0.33       104\n",
      "weighted avg       0.25      0.50      0.33       104\n",
      "\n",
      "Getting test accuracy:\n"
     ]
    },
    {
     "name": "stderr",
     "output_type": "stream",
     "text": [
      "Testing: 100%|██████████| 97/97 [00:14<00:00,  6.13it/s]\n",
      "/usr/local/lib/python3.7/site-packages/sklearn/metrics/_classification.py:1221: UndefinedMetricWarning: Precision and F-score are ill-defined and being set to 0.0 in labels with no predicted samples. Use `zero_division` parameter to control this behavior.\n",
      "  _warn_prf(average, modifier, msg_start, len(result))\n",
      "Training:   0%|          | 0/10 [00:00<?, ?it/s]"
     ]
    },
    {
     "name": "stdout",
     "output_type": "stream",
     "text": [
      "AUC score: 0.8428432883409501\n",
      "Confusion martrix:\n",
      " [[  0 388]\n",
      " [  0 388]]\n",
      "Classification report:\n",
      "               precision    recall  f1-score   support\n",
      "\n",
      "           0       0.00      0.00      0.00       388\n",
      "           1       0.50      1.00      0.67       388\n",
      "\n",
      "    accuracy                           0.50       776\n",
      "   macro avg       0.25      0.50      0.33       776\n",
      "weighted avg       0.25      0.50      0.33       776\n",
      "\n",
      "Epoch:  17\n"
     ]
    },
    {
     "name": "stderr",
     "output_type": "stream",
     "text": [
      "Accuracy 0.912500: 100%|██████████| 10/10 [00:02<00:00,  4.43it/s]\n",
      "Validating:   8%|▊         | 1/13 [00:00<00:02,  5.26it/s]"
     ]
    },
    {
     "name": "stdout",
     "output_type": "stream",
     "text": [
      "Getting vote accuracy:\n"
     ]
    },
    {
     "name": "stderr",
     "output_type": "stream",
     "text": [
      "Validating: 100%|██████████| 13/13 [00:02<00:00,  5.46it/s]\n",
      "Testing:   1%|          | 1/97 [00:00<00:14,  6.48it/s]"
     ]
    },
    {
     "name": "stdout",
     "output_type": "stream",
     "text": [
      "AUC score: 0.9715236686390533\n",
      "Confusion martrix:\n",
      " [[52  0]\n",
      " [ 8 44]]\n",
      "Classification report:\n",
      "               precision    recall  f1-score   support\n",
      "\n",
      "           0       0.87      1.00      0.93        52\n",
      "           1       1.00      0.85      0.92        52\n",
      "\n",
      "    accuracy                           0.92       104\n",
      "   macro avg       0.93      0.92      0.92       104\n",
      "weighted avg       0.93      0.92      0.92       104\n",
      "\n",
      "Getting test accuracy:\n"
     ]
    },
    {
     "name": "stderr",
     "output_type": "stream",
     "text": [
      "Testing: 100%|██████████| 97/97 [00:15<00:00,  6.58it/s]\n",
      "Training:   0%|          | 0/10 [00:00<?, ?it/s]"
     ]
    },
    {
     "name": "stdout",
     "output_type": "stream",
     "text": [
      "AUC score: 0.8268147518333511\n",
      "Confusion martrix:\n",
      " [[293  95]\n",
      " [ 93 295]]\n",
      "Classification report:\n",
      "               precision    recall  f1-score   support\n",
      "\n",
      "           0       0.76      0.76      0.76       388\n",
      "           1       0.76      0.76      0.76       388\n",
      "\n",
      "    accuracy                           0.76       776\n",
      "   macro avg       0.76      0.76      0.76       776\n",
      "weighted avg       0.76      0.76      0.76       776\n",
      "\n"
     ]
    },
    {
     "name": "stderr",
     "output_type": "stream",
     "text": [
      "Accuracy 0.925000: 100%|██████████| 10/10 [00:02<00:00,  4.28it/s]\n",
      "Validating:   8%|▊         | 1/13 [00:00<00:01,  6.74it/s]"
     ]
    },
    {
     "name": "stdout",
     "output_type": "stream",
     "text": [
      "Getting vote accuracy:\n"
     ]
    },
    {
     "name": "stderr",
     "output_type": "stream",
     "text": [
      "Validating: 100%|██████████| 13/13 [00:02<00:00,  5.13it/s]\n",
      "Testing:   1%|          | 1/97 [00:00<00:14,  6.52it/s]"
     ]
    },
    {
     "name": "stdout",
     "output_type": "stream",
     "text": [
      "AUC score: 0.7769970414201183\n",
      "Confusion martrix:\n",
      " [[52  0]\n",
      " [49  3]]\n",
      "Classification report:\n",
      "               precision    recall  f1-score   support\n",
      "\n",
      "           0       0.51      1.00      0.68        52\n",
      "           1       1.00      0.06      0.11        52\n",
      "\n",
      "    accuracy                           0.53       104\n",
      "   macro avg       0.76      0.53      0.39       104\n",
      "weighted avg       0.76      0.53      0.39       104\n",
      "\n",
      "Getting test accuracy:\n"
     ]
    },
    {
     "name": "stderr",
     "output_type": "stream",
     "text": [
      "Testing: 100%|██████████| 97/97 [00:15<00:00,  6.27it/s]\n",
      "Training:   0%|          | 0/10 [00:00<?, ?it/s]"
     ]
    },
    {
     "name": "stdout",
     "output_type": "stream",
     "text": [
      "AUC score: 0.6112498671484748\n",
      "Confusion martrix:\n",
      " [[385   3]\n",
      " [365  23]]\n",
      "Classification report:\n",
      "               precision    recall  f1-score   support\n",
      "\n",
      "           0       0.51      0.99      0.68       388\n",
      "           1       0.88      0.06      0.11       388\n",
      "\n",
      "    accuracy                           0.53       776\n",
      "   macro avg       0.70      0.53      0.39       776\n",
      "weighted avg       0.70      0.53      0.39       776\n",
      "\n"
     ]
    },
    {
     "name": "stderr",
     "output_type": "stream",
     "text": [
      "Accuracy 0.862500: 100%|██████████| 10/10 [00:02<00:00,  4.19it/s]\n",
      "Validating:   8%|▊         | 1/13 [00:00<00:01,  6.02it/s]"
     ]
    },
    {
     "name": "stdout",
     "output_type": "stream",
     "text": [
      "Getting vote accuracy:\n"
     ]
    },
    {
     "name": "stderr",
     "output_type": "stream",
     "text": [
      "Validating: 100%|██████████| 13/13 [00:02<00:00,  5.11it/s]\n",
      "Testing:   1%|          | 1/97 [00:00<00:15,  6.09it/s]"
     ]
    },
    {
     "name": "stdout",
     "output_type": "stream",
     "text": [
      "AUC score: 0.9611686390532543\n",
      "Confusion martrix:\n",
      " [[50  2]\n",
      " [17 35]]\n",
      "Classification report:\n",
      "               precision    recall  f1-score   support\n",
      "\n",
      "           0       0.75      0.96      0.84        52\n",
      "           1       0.95      0.67      0.79        52\n",
      "\n",
      "    accuracy                           0.82       104\n",
      "   macro avg       0.85      0.82      0.81       104\n",
      "weighted avg       0.85      0.82      0.81       104\n",
      "\n",
      "Getting test accuracy:\n"
     ]
    },
    {
     "name": "stderr",
     "output_type": "stream",
     "text": [
      "Testing: 100%|██████████| 97/97 [00:15<00:00,  5.46it/s]\n",
      "Training:   0%|          | 0/10 [00:00<?, ?it/s]"
     ]
    },
    {
     "name": "stdout",
     "output_type": "stream",
     "text": [
      "AUC score: 0.817913699649272\n",
      "Confusion martrix:\n",
      " [[283 105]\n",
      " [100 288]]\n",
      "Classification report:\n",
      "               precision    recall  f1-score   support\n",
      "\n",
      "           0       0.74      0.73      0.73       388\n",
      "           1       0.73      0.74      0.74       388\n",
      "\n",
      "    accuracy                           0.74       776\n",
      "   macro avg       0.74      0.74      0.74       776\n",
      "weighted avg       0.74      0.74      0.74       776\n",
      "\n"
     ]
    },
    {
     "name": "stderr",
     "output_type": "stream",
     "text": [
      "Accuracy 0.925000: 100%|██████████| 10/10 [00:02<00:00,  3.84it/s]\n",
      "Validating:   8%|▊         | 1/13 [00:00<00:02,  5.87it/s]"
     ]
    },
    {
     "name": "stdout",
     "output_type": "stream",
     "text": [
      "Getting vote accuracy:\n"
     ]
    },
    {
     "name": "stderr",
     "output_type": "stream",
     "text": [
      "Validating: 100%|██████████| 13/13 [00:02<00:00,  4.77it/s]\n",
      "Testing:   0%|          | 0/97 [00:00<?, ?it/s]"
     ]
    },
    {
     "name": "stdout",
     "output_type": "stream",
     "text": [
      "AUC score: 0.9437869822485208\n",
      "Confusion martrix:\n",
      " [[50  2]\n",
      " [19 33]]\n",
      "Classification report:\n",
      "               precision    recall  f1-score   support\n",
      "\n",
      "           0       0.72      0.96      0.83        52\n",
      "           1       0.94      0.63      0.76        52\n",
      "\n",
      "    accuracy                           0.80       104\n",
      "   macro avg       0.83      0.80      0.79       104\n",
      "weighted avg       0.83      0.80      0.79       104\n",
      "\n",
      "Getting test accuracy:\n"
     ]
    },
    {
     "name": "stderr",
     "output_type": "stream",
     "text": [
      "Testing: 100%|██████████| 97/97 [00:16<00:00,  5.46it/s]\n",
      "Training:   0%|          | 0/10 [00:00<?, ?it/s]"
     ]
    },
    {
     "name": "stdout",
     "output_type": "stream",
     "text": [
      "AUC score: 0.8073121479434584\n",
      "Confusion martrix:\n",
      " [[277 111]\n",
      " [ 97 291]]\n",
      "Classification report:\n",
      "               precision    recall  f1-score   support\n",
      "\n",
      "           0       0.74      0.71      0.73       388\n",
      "           1       0.72      0.75      0.74       388\n",
      "\n",
      "    accuracy                           0.73       776\n",
      "   macro avg       0.73      0.73      0.73       776\n",
      "weighted avg       0.73      0.73      0.73       776\n",
      "\n"
     ]
    },
    {
     "name": "stderr",
     "output_type": "stream",
     "text": [
      "Accuracy 0.912500: 100%|██████████| 10/10 [00:03<00:00,  3.05it/s]\n",
      "Validating:   0%|          | 0/13 [00:00<?, ?it/s]"
     ]
    },
    {
     "name": "stdout",
     "output_type": "stream",
     "text": [
      "Getting vote accuracy:\n"
     ]
    },
    {
     "name": "stderr",
     "output_type": "stream",
     "text": [
      "Validating: 100%|██████████| 13/13 [00:03<00:00,  3.09it/s]\n",
      "/usr/local/lib/python3.7/site-packages/sklearn/metrics/_classification.py:1221: UndefinedMetricWarning: Precision and F-score are ill-defined and being set to 0.0 in labels with no predicted samples. Use `zero_division` parameter to control this behavior.\n",
      "  _warn_prf(average, modifier, msg_start, len(result))\n",
      "Testing:   0%|          | 0/97 [00:00<?, ?it/s]"
     ]
    },
    {
     "name": "stdout",
     "output_type": "stream",
     "text": [
      "AUC score: 0.9807692307692307\n",
      "Confusion martrix:\n",
      " [[ 0 52]\n",
      " [ 0 52]]\n",
      "Classification report:\n",
      "               precision    recall  f1-score   support\n",
      "\n",
      "           0       0.00      0.00      0.00        52\n",
      "           1       0.50      1.00      0.67        52\n",
      "\n",
      "    accuracy                           0.50       104\n",
      "   macro avg       0.25      0.50      0.33       104\n",
      "weighted avg       0.25      0.50      0.33       104\n",
      "\n",
      "Getting test accuracy:\n"
     ]
    },
    {
     "name": "stderr",
     "output_type": "stream",
     "text": [
      "Testing: 100%|██████████| 97/97 [00:21<00:00,  5.64it/s]\n",
      "/usr/local/lib/python3.7/site-packages/sklearn/metrics/_classification.py:1221: UndefinedMetricWarning: Precision and F-score are ill-defined and being set to 0.0 in labels with no predicted samples. Use `zero_division` parameter to control this behavior.\n",
      "  _warn_prf(average, modifier, msg_start, len(result))\n",
      "Training:   0%|          | 0/10 [00:00<?, ?it/s]"
     ]
    },
    {
     "name": "stdout",
     "output_type": "stream",
     "text": [
      "AUC score: 0.8608114571155276\n",
      "Confusion martrix:\n",
      " [[  0 388]\n",
      " [  0 388]]\n",
      "Classification report:\n",
      "               precision    recall  f1-score   support\n",
      "\n",
      "           0       0.00      0.00      0.00       388\n",
      "           1       0.50      1.00      0.67       388\n",
      "\n",
      "    accuracy                           0.50       776\n",
      "   macro avg       0.25      0.50      0.33       776\n",
      "weighted avg       0.25      0.50      0.33       776\n",
      "\n",
      "Epoch:  18\n"
     ]
    },
    {
     "name": "stderr",
     "output_type": "stream",
     "text": [
      "Accuracy 0.975000: 100%|██████████| 10/10 [00:03<00:00,  3.32it/s]\n",
      "Validating:   0%|          | 0/13 [00:00<?, ?it/s]"
     ]
    },
    {
     "name": "stdout",
     "output_type": "stream",
     "text": [
      "Getting vote accuracy:\n"
     ]
    },
    {
     "name": "stderr",
     "output_type": "stream",
     "text": [
      "Validating: 100%|██████████| 13/13 [00:03<00:00,  4.20it/s]\n",
      "Testing:   0%|          | 0/97 [00:00<?, ?it/s]"
     ]
    },
    {
     "name": "stdout",
     "output_type": "stream",
     "text": [
      "AUC score: 0.9955621301775148\n",
      "Confusion martrix:\n",
      " [[52  0]\n",
      " [ 9 43]]\n",
      "Classification report:\n",
      "               precision    recall  f1-score   support\n",
      "\n",
      "           0       0.85      1.00      0.92        52\n",
      "           1       1.00      0.83      0.91        52\n",
      "\n",
      "    accuracy                           0.91       104\n",
      "   macro avg       0.93      0.91      0.91       104\n",
      "weighted avg       0.93      0.91      0.91       104\n",
      "\n",
      "Getting test accuracy:\n"
     ]
    },
    {
     "name": "stderr",
     "output_type": "stream",
     "text": [
      "Testing: 100%|██████████| 97/97 [00:19<00:00,  6.54it/s]\n",
      "Training:   0%|          | 0/10 [00:00<?, ?it/s]"
     ]
    },
    {
     "name": "stdout",
     "output_type": "stream",
     "text": [
      "AUC score: 0.8325273674141779\n",
      "Confusion martrix:\n",
      " [[219 169]\n",
      " [ 44 344]]\n",
      "Classification report:\n",
      "               precision    recall  f1-score   support\n",
      "\n",
      "           0       0.83      0.56      0.67       388\n",
      "           1       0.67      0.89      0.76       388\n",
      "\n",
      "    accuracy                           0.73       776\n",
      "   macro avg       0.75      0.73      0.72       776\n",
      "weighted avg       0.75      0.73      0.72       776\n",
      "\n"
     ]
    },
    {
     "name": "stderr",
     "output_type": "stream",
     "text": [
      "Accuracy 0.937500: 100%|██████████| 10/10 [00:02<00:00,  3.91it/s]\n",
      "Validating:   8%|▊         | 1/13 [00:00<00:02,  5.53it/s]"
     ]
    },
    {
     "name": "stdout",
     "output_type": "stream",
     "text": [
      "Getting vote accuracy:\n"
     ]
    },
    {
     "name": "stderr",
     "output_type": "stream",
     "text": [
      "Validating: 100%|██████████| 13/13 [00:02<00:00,  4.24it/s]\n",
      "Testing:   0%|          | 0/97 [00:00<?, ?it/s]"
     ]
    },
    {
     "name": "stdout",
     "output_type": "stream",
     "text": [
      "AUC score: 0.8280325443786982\n",
      "Confusion martrix:\n",
      " [[52  0]\n",
      " [48  4]]\n",
      "Classification report:\n",
      "               precision    recall  f1-score   support\n",
      "\n",
      "           0       0.52      1.00      0.68        52\n",
      "           1       1.00      0.08      0.14        52\n",
      "\n",
      "    accuracy                           0.54       104\n",
      "   macro avg       0.76      0.54      0.41       104\n",
      "weighted avg       0.76      0.54      0.41       104\n",
      "\n",
      "Getting test accuracy:\n"
     ]
    },
    {
     "name": "stderr",
     "output_type": "stream",
     "text": [
      "Testing: 100%|██████████| 97/97 [00:19<00:00,  5.90it/s]\n",
      "Training:   0%|          | 0/10 [00:00<?, ?it/s]"
     ]
    },
    {
     "name": "stdout",
     "output_type": "stream",
     "text": [
      "AUC score: 0.6271189818259113\n",
      "Confusion martrix:\n",
      " [[385   3]\n",
      " [361  27]]\n",
      "Classification report:\n",
      "               precision    recall  f1-score   support\n",
      "\n",
      "           0       0.52      0.99      0.68       388\n",
      "           1       0.90      0.07      0.13       388\n",
      "\n",
      "    accuracy                           0.53       776\n",
      "   macro avg       0.71      0.53      0.40       776\n",
      "weighted avg       0.71      0.53      0.40       776\n",
      "\n"
     ]
    },
    {
     "name": "stderr",
     "output_type": "stream",
     "text": [
      "Accuracy 0.937500: 100%|██████████| 10/10 [00:03<00:00,  3.45it/s]\n",
      "Validating:   0%|          | 0/13 [00:00<?, ?it/s]"
     ]
    },
    {
     "name": "stdout",
     "output_type": "stream",
     "text": [
      "Getting vote accuracy:\n"
     ]
    },
    {
     "name": "stderr",
     "output_type": "stream",
     "text": [
      "Validating: 100%|██████████| 13/13 [00:02<00:00,  4.35it/s]\n",
      "Testing:   0%|          | 0/97 [00:00<?, ?it/s]"
     ]
    },
    {
     "name": "stdout",
     "output_type": "stream",
     "text": [
      "AUC score: 0.985207100591716\n",
      "Confusion martrix:\n",
      " [[52  0]\n",
      " [21 31]]\n",
      "Classification report:\n",
      "               precision    recall  f1-score   support\n",
      "\n",
      "           0       0.71      1.00      0.83        52\n",
      "           1       1.00      0.60      0.75        52\n",
      "\n",
      "    accuracy                           0.80       104\n",
      "   macro avg       0.86      0.80      0.79       104\n",
      "weighted avg       0.86      0.80      0.79       104\n",
      "\n",
      "Getting test accuracy:\n"
     ]
    },
    {
     "name": "stderr",
     "output_type": "stream",
     "text": [
      "Testing: 100%|██████████| 97/97 [00:24<00:00,  1.32it/s]\n",
      "Training:   0%|          | 0/10 [00:00<?, ?it/s]"
     ]
    },
    {
     "name": "stdout",
     "output_type": "stream",
     "text": [
      "AUC score: 0.8133037517270698\n",
      "Confusion martrix:\n",
      " [[325  63]\n",
      " [148 240]]\n",
      "Classification report:\n",
      "               precision    recall  f1-score   support\n",
      "\n",
      "           0       0.69      0.84      0.75       388\n",
      "           1       0.79      0.62      0.69       388\n",
      "\n",
      "    accuracy                           0.73       776\n",
      "   macro avg       0.74      0.73      0.72       776\n",
      "weighted avg       0.74      0.73      0.72       776\n",
      "\n"
     ]
    },
    {
     "name": "stderr",
     "output_type": "stream",
     "text": [
      "Accuracy 0.912500: 100%|██████████| 10/10 [00:09<00:00,  1.12it/s]\n",
      "Validating:   0%|          | 0/13 [00:00<?, ?it/s]"
     ]
    },
    {
     "name": "stdout",
     "output_type": "stream",
     "text": [
      "Getting vote accuracy:\n"
     ]
    },
    {
     "name": "stderr",
     "output_type": "stream",
     "text": [
      "Validating: 100%|██████████| 13/13 [00:06<00:00,  2.10it/s]\n",
      "Testing:   0%|          | 0/97 [00:00<?, ?it/s]"
     ]
    },
    {
     "name": "stdout",
     "output_type": "stream",
     "text": [
      "AUC score: 0.9567307692307692\n",
      "Confusion martrix:\n",
      " [[51  1]\n",
      " [31 21]]\n",
      "Classification report:\n",
      "               precision    recall  f1-score   support\n",
      "\n",
      "           0       0.62      0.98      0.76        52\n",
      "           1       0.95      0.40      0.57        52\n",
      "\n",
      "    accuracy                           0.69       104\n",
      "   macro avg       0.79      0.69      0.66       104\n",
      "weighted avg       0.79      0.69      0.66       104\n",
      "\n",
      "Getting test accuracy:\n"
     ]
    },
    {
     "name": "stderr",
     "output_type": "stream",
     "text": [
      "Testing: 100%|██████████| 97/97 [00:18<00:00,  6.45it/s]\n",
      "Training:   0%|          | 0/10 [00:00<?, ?it/s]"
     ]
    },
    {
     "name": "stdout",
     "output_type": "stream",
     "text": [
      "AUC score: 0.8168575300244447\n",
      "Confusion martrix:\n",
      " [[316  72]\n",
      " [142 246]]\n",
      "Classification report:\n",
      "               precision    recall  f1-score   support\n",
      "\n",
      "           0       0.69      0.81      0.75       388\n",
      "           1       0.77      0.63      0.70       388\n",
      "\n",
      "    accuracy                           0.72       776\n",
      "   macro avg       0.73      0.72      0.72       776\n",
      "weighted avg       0.73      0.72      0.72       776\n",
      "\n"
     ]
    },
    {
     "name": "stderr",
     "output_type": "stream",
     "text": [
      "Accuracy 0.875000: 100%|██████████| 10/10 [00:02<00:00,  4.16it/s]\n",
      "Validating:   8%|▊         | 1/13 [00:00<00:01,  6.38it/s]"
     ]
    },
    {
     "name": "stdout",
     "output_type": "stream",
     "text": [
      "Getting vote accuracy:\n"
     ]
    },
    {
     "name": "stderr",
     "output_type": "stream",
     "text": [
      "Validating: 100%|██████████| 13/13 [00:02<00:00,  5.04it/s]\n",
      "/usr/local/lib/python3.7/site-packages/sklearn/metrics/_classification.py:1221: UndefinedMetricWarning: Precision and F-score are ill-defined and being set to 0.0 in labels with no predicted samples. Use `zero_division` parameter to control this behavior.\n",
      "  _warn_prf(average, modifier, msg_start, len(result))\n",
      "Testing:   1%|          | 1/97 [00:00<00:18,  5.31it/s]"
     ]
    },
    {
     "name": "stdout",
     "output_type": "stream",
     "text": [
      "AUC score: 0.9693047337278107\n",
      "Confusion martrix:\n",
      " [[ 0 52]\n",
      " [ 0 52]]\n",
      "Classification report:\n",
      "               precision    recall  f1-score   support\n",
      "\n",
      "           0       0.00      0.00      0.00        52\n",
      "           1       0.50      1.00      0.67        52\n",
      "\n",
      "    accuracy                           0.50       104\n",
      "   macro avg       0.25      0.50      0.33       104\n",
      "weighted avg       0.25      0.50      0.33       104\n",
      "\n",
      "Getting test accuracy:\n"
     ]
    },
    {
     "name": "stderr",
     "output_type": "stream",
     "text": [
      "Testing: 100%|██████████| 97/97 [00:16<00:00,  7.19it/s]\n",
      "/usr/local/lib/python3.7/site-packages/sklearn/metrics/_classification.py:1221: UndefinedMetricWarning: Precision and F-score are ill-defined and being set to 0.0 in labels with no predicted samples. Use `zero_division` parameter to control this behavior.\n",
      "  _warn_prf(average, modifier, msg_start, len(result))\n",
      "Training:   0%|          | 0/10 [00:00<?, ?it/s]"
     ]
    },
    {
     "name": "stdout",
     "output_type": "stream",
     "text": [
      "AUC score: 0.8566332766500159\n",
      "Confusion martrix:\n",
      " [[  0 388]\n",
      " [  0 388]]\n",
      "Classification report:\n",
      "               precision    recall  f1-score   support\n",
      "\n",
      "           0       0.00      0.00      0.00       388\n",
      "           1       0.50      1.00      0.67       388\n",
      "\n",
      "    accuracy                           0.50       776\n",
      "   macro avg       0.25      0.50      0.33       776\n",
      "weighted avg       0.25      0.50      0.33       776\n",
      "\n",
      "Epoch:  19\n"
     ]
    },
    {
     "name": "stderr",
     "output_type": "stream",
     "text": [
      "Accuracy 0.887500: 100%|██████████| 10/10 [00:02<00:00,  3.21it/s]\n",
      "Validating:   8%|▊         | 1/13 [00:00<00:02,  5.13it/s]"
     ]
    },
    {
     "name": "stdout",
     "output_type": "stream",
     "text": [
      "Getting vote accuracy:\n"
     ]
    },
    {
     "name": "stderr",
     "output_type": "stream",
     "text": [
      "Validating: 100%|██████████| 13/13 [00:03<00:00,  3.17it/s]\n",
      "Testing:   0%|          | 0/97 [00:00<?, ?it/s]"
     ]
    },
    {
     "name": "stdout",
     "output_type": "stream",
     "text": [
      "AUC score: 0.9903846153846154\n",
      "Confusion martrix:\n",
      " [[50  2]\n",
      " [ 4 48]]\n",
      "Classification report:\n",
      "               precision    recall  f1-score   support\n",
      "\n",
      "           0       0.93      0.96      0.94        52\n",
      "           1       0.96      0.92      0.94        52\n",
      "\n",
      "    accuracy                           0.94       104\n",
      "   macro avg       0.94      0.94      0.94       104\n",
      "weighted avg       0.94      0.94      0.94       104\n",
      "\n",
      "Getting test accuracy:\n"
     ]
    },
    {
     "name": "stderr",
     "output_type": "stream",
     "text": [
      "Testing: 100%|██████████| 97/97 [00:19<00:00,  5.20it/s]\n",
      "Training:   0%|          | 0/10 [00:00<?, ?it/s]"
     ]
    },
    {
     "name": "stdout",
     "output_type": "stream",
     "text": [
      "AUC score: 0.8181993304283134\n",
      "Confusion martrix:\n",
      " [[185 203]\n",
      " [ 33 355]]\n",
      "Classification report:\n",
      "               precision    recall  f1-score   support\n",
      "\n",
      "           0       0.85      0.48      0.61       388\n",
      "           1       0.64      0.91      0.75       388\n",
      "\n",
      "    accuracy                           0.70       776\n",
      "   macro avg       0.74      0.70      0.68       776\n",
      "weighted avg       0.74      0.70      0.68       776\n",
      "\n"
     ]
    },
    {
     "name": "stderr",
     "output_type": "stream",
     "text": [
      "Accuracy 0.912500: 100%|██████████| 10/10 [00:03<00:00,  2.64it/s]\n",
      "Validating:   0%|          | 0/13 [00:00<?, ?it/s]"
     ]
    },
    {
     "name": "stdout",
     "output_type": "stream",
     "text": [
      "Getting vote accuracy:\n"
     ]
    },
    {
     "name": "stderr",
     "output_type": "stream",
     "text": [
      "Validating: 100%|██████████| 13/13 [00:03<00:00,  3.85it/s]\n",
      "Testing:   1%|          | 1/97 [00:00<00:16,  5.67it/s]"
     ]
    },
    {
     "name": "stdout",
     "output_type": "stream",
     "text": [
      "AUC score: 0.8117603550295859\n",
      "Confusion martrix:\n",
      " [[52  0]\n",
      " [46  6]]\n",
      "Classification report:\n",
      "               precision    recall  f1-score   support\n",
      "\n",
      "           0       0.53      1.00      0.69        52\n",
      "           1       1.00      0.12      0.21        52\n",
      "\n",
      "    accuracy                           0.56       104\n",
      "   macro avg       0.77      0.56      0.45       104\n",
      "weighted avg       0.77      0.56      0.45       104\n",
      "\n",
      "Getting test accuracy:\n"
     ]
    },
    {
     "name": "stderr",
     "output_type": "stream",
     "text": [
      "Testing: 100%|██████████| 97/97 [00:17<00:00,  5.36it/s]\n",
      "Training:   0%|          | 0/10 [00:00<?, ?it/s]"
     ]
    },
    {
     "name": "stdout",
     "output_type": "stream",
     "text": [
      "AUC score: 0.6445557444999469\n",
      "Confusion martrix:\n",
      " [[384   4]\n",
      " [359  29]]\n",
      "Classification report:\n",
      "               precision    recall  f1-score   support\n",
      "\n",
      "           0       0.52      0.99      0.68       388\n",
      "           1       0.88      0.07      0.14       388\n",
      "\n",
      "    accuracy                           0.53       776\n",
      "   macro avg       0.70      0.53      0.41       776\n",
      "weighted avg       0.70      0.53      0.41       776\n",
      "\n"
     ]
    },
    {
     "name": "stderr",
     "output_type": "stream",
     "text": [
      "Accuracy 0.950000: 100%|██████████| 10/10 [00:02<00:00,  3.79it/s]\n",
      "Validating:   0%|          | 0/13 [00:00<?, ?it/s]"
     ]
    },
    {
     "name": "stdout",
     "output_type": "stream",
     "text": [
      "Getting vote accuracy:\n"
     ]
    },
    {
     "name": "stderr",
     "output_type": "stream",
     "text": [
      "Validating: 100%|██████████| 13/13 [00:02<00:00,  5.73it/s]\n",
      "Testing:   1%|          | 1/97 [00:00<00:14,  6.51it/s]"
     ]
    },
    {
     "name": "stdout",
     "output_type": "stream",
     "text": [
      "AUC score: 0.955621301775148\n",
      "Confusion martrix:\n",
      " [[51  1]\n",
      " [16 36]]\n",
      "Classification report:\n",
      "               precision    recall  f1-score   support\n",
      "\n",
      "           0       0.76      0.98      0.86        52\n",
      "           1       0.97      0.69      0.81        52\n",
      "\n",
      "    accuracy                           0.84       104\n",
      "   macro avg       0.87      0.84      0.83       104\n",
      "weighted avg       0.87      0.84      0.83       104\n",
      "\n",
      "Getting test accuracy:\n"
     ]
    },
    {
     "name": "stderr",
     "output_type": "stream",
     "text": [
      "Testing: 100%|██████████| 97/97 [00:15<00:00,  6.42it/s]\n",
      "Training:   0%|          | 0/10 [00:00<?, ?it/s]"
     ]
    },
    {
     "name": "stdout",
     "output_type": "stream",
     "text": [
      "AUC score: 0.7876169093421193\n",
      "Confusion martrix:\n",
      " [[242 146]\n",
      " [ 85 303]]\n",
      "Classification report:\n",
      "               precision    recall  f1-score   support\n",
      "\n",
      "           0       0.74      0.62      0.68       388\n",
      "           1       0.67      0.78      0.72       388\n",
      "\n",
      "    accuracy                           0.70       776\n",
      "   macro avg       0.71      0.70      0.70       776\n",
      "weighted avg       0.71      0.70      0.70       776\n",
      "\n"
     ]
    },
    {
     "name": "stderr",
     "output_type": "stream",
     "text": [
      "Accuracy 0.850000: 100%|██████████| 10/10 [00:02<00:00,  4.39it/s]\n",
      "Validating:   8%|▊         | 1/13 [00:00<00:01,  6.31it/s]"
     ]
    },
    {
     "name": "stdout",
     "output_type": "stream",
     "text": [
      "Getting vote accuracy:\n"
     ]
    },
    {
     "name": "stderr",
     "output_type": "stream",
     "text": [
      "Validating: 100%|██████████| 13/13 [00:02<00:00,  5.17it/s]\n",
      "Testing:   1%|          | 1/97 [00:00<00:13,  6.92it/s]"
     ]
    },
    {
     "name": "stdout",
     "output_type": "stream",
     "text": [
      "AUC score: 0.9134615384615384\n",
      "Confusion martrix:\n",
      " [[48  4]\n",
      " [13 39]]\n",
      "Classification report:\n",
      "               precision    recall  f1-score   support\n",
      "\n",
      "           0       0.79      0.92      0.85        52\n",
      "           1       0.91      0.75      0.82        52\n",
      "\n",
      "    accuracy                           0.84       104\n",
      "   macro avg       0.85      0.84      0.84       104\n",
      "weighted avg       0.85      0.84      0.84       104\n",
      "\n",
      "Getting test accuracy:\n"
     ]
    },
    {
     "name": "stderr",
     "output_type": "stream",
     "text": [
      "Testing: 100%|██████████| 97/97 [00:14<00:00,  6.29it/s]\n",
      "Training:   0%|          | 0/10 [00:00<?, ?it/s]"
     ]
    },
    {
     "name": "stdout",
     "output_type": "stream",
     "text": [
      "AUC score: 0.8014866085662663\n",
      "Confusion martrix:\n",
      " [[212 176]\n",
      " [ 51 337]]\n",
      "Classification report:\n",
      "               precision    recall  f1-score   support\n",
      "\n",
      "           0       0.81      0.55      0.65       388\n",
      "           1       0.66      0.87      0.75       388\n",
      "\n",
      "    accuracy                           0.71       776\n",
      "   macro avg       0.73      0.71      0.70       776\n",
      "weighted avg       0.73      0.71      0.70       776\n",
      "\n"
     ]
    },
    {
     "name": "stderr",
     "output_type": "stream",
     "text": [
      "Accuracy 0.937500: 100%|██████████| 10/10 [00:02<00:00,  4.17it/s]\n",
      "Validating:   8%|▊         | 1/13 [00:00<00:01,  6.55it/s]"
     ]
    },
    {
     "name": "stdout",
     "output_type": "stream",
     "text": [
      "Getting vote accuracy:\n"
     ]
    },
    {
     "name": "stderr",
     "output_type": "stream",
     "text": [
      "Validating: 100%|██████████| 13/13 [00:02<00:00,  5.36it/s]\n",
      "/usr/local/lib/python3.7/site-packages/sklearn/metrics/_classification.py:1221: UndefinedMetricWarning: Precision and F-score are ill-defined and being set to 0.0 in labels with no predicted samples. Use `zero_division` parameter to control this behavior.\n",
      "  _warn_prf(average, modifier, msg_start, len(result))\n",
      "Testing:   1%|          | 1/97 [00:00<00:14,  6.43it/s]"
     ]
    },
    {
     "name": "stdout",
     "output_type": "stream",
     "text": [
      "AUC score: 0.9726331360946745\n",
      "Confusion martrix:\n",
      " [[ 0 52]\n",
      " [ 0 52]]\n",
      "Classification report:\n",
      "               precision    recall  f1-score   support\n",
      "\n",
      "           0       0.00      0.00      0.00        52\n",
      "           1       0.50      1.00      0.67        52\n",
      "\n",
      "    accuracy                           0.50       104\n",
      "   macro avg       0.25      0.50      0.33       104\n",
      "weighted avg       0.25      0.50      0.33       104\n",
      "\n",
      "Getting test accuracy:\n"
     ]
    },
    {
     "name": "stderr",
     "output_type": "stream",
     "text": [
      "Testing: 100%|██████████| 97/97 [00:16<00:00,  5.92it/s]\n",
      "/usr/local/lib/python3.7/site-packages/sklearn/metrics/_classification.py:1221: UndefinedMetricWarning: Precision and F-score are ill-defined and being set to 0.0 in labels with no predicted samples. Use `zero_division` parameter to control this behavior.\n",
      "  _warn_prf(average, modifier, msg_start, len(result))\n",
      "Training:   0%|          | 0/10 [00:00<?, ?it/s]"
     ]
    },
    {
     "name": "stdout",
     "output_type": "stream",
     "text": [
      "AUC score: 0.853139281538952\n",
      "Confusion martrix:\n",
      " [[  0 388]\n",
      " [  0 388]]\n",
      "Classification report:\n",
      "               precision    recall  f1-score   support\n",
      "\n",
      "           0       0.00      0.00      0.00       388\n",
      "           1       0.50      1.00      0.67       388\n",
      "\n",
      "    accuracy                           0.50       776\n",
      "   macro avg       0.25      0.50      0.33       776\n",
      "weighted avg       0.25      0.50      0.33       776\n",
      "\n",
      "Epoch:  20\n"
     ]
    },
    {
     "name": "stderr",
     "output_type": "stream",
     "text": [
      "Accuracy 0.937500: 100%|██████████| 10/10 [00:02<00:00,  4.20it/s]\n",
      "Validating:   8%|▊         | 1/13 [00:00<00:01,  6.24it/s]"
     ]
    },
    {
     "name": "stdout",
     "output_type": "stream",
     "text": [
      "Getting vote accuracy:\n"
     ]
    },
    {
     "name": "stderr",
     "output_type": "stream",
     "text": [
      "Validating: 100%|██████████| 13/13 [00:02<00:00,  5.57it/s]\n",
      "Testing:   1%|          | 1/97 [00:00<00:15,  6.13it/s]"
     ]
    },
    {
     "name": "stdout",
     "output_type": "stream",
     "text": [
      "AUC score: 0.9556213017751478\n",
      "Confusion martrix:\n",
      " [[45  7]\n",
      " [ 6 46]]\n",
      "Classification report:\n",
      "               precision    recall  f1-score   support\n",
      "\n",
      "           0       0.88      0.87      0.87        52\n",
      "           1       0.87      0.88      0.88        52\n",
      "\n",
      "    accuracy                           0.88       104\n",
      "   macro avg       0.88      0.88      0.87       104\n",
      "weighted avg       0.88      0.88      0.87       104\n",
      "\n",
      "Getting test accuracy:\n"
     ]
    },
    {
     "name": "stderr",
     "output_type": "stream",
     "text": [
      "Testing: 100%|██████████| 97/97 [00:15<00:00,  5.98it/s]\n",
      "Training:   0%|          | 0/10 [00:00<?, ?it/s]"
     ]
    },
    {
     "name": "stdout",
     "output_type": "stream",
     "text": [
      "AUC score: 0.8081756828568393\n",
      "Confusion martrix:\n",
      " [[162 226]\n",
      " [ 29 359]]\n",
      "Classification report:\n",
      "               precision    recall  f1-score   support\n",
      "\n",
      "           0       0.85      0.42      0.56       388\n",
      "           1       0.61      0.93      0.74       388\n",
      "\n",
      "    accuracy                           0.67       776\n",
      "   macro avg       0.73      0.67      0.65       776\n",
      "weighted avg       0.73      0.67      0.65       776\n",
      "\n"
     ]
    },
    {
     "name": "stderr",
     "output_type": "stream",
     "text": [
      "Accuracy 0.975000: 100%|██████████| 10/10 [00:02<00:00,  4.08it/s]\n",
      "Validating:   8%|▊         | 1/13 [00:00<00:02,  5.70it/s]"
     ]
    },
    {
     "name": "stdout",
     "output_type": "stream",
     "text": [
      "Getting vote accuracy:\n"
     ]
    },
    {
     "name": "stderr",
     "output_type": "stream",
     "text": [
      "Validating: 100%|██████████| 13/13 [00:02<00:00,  5.44it/s]\n",
      "Testing:   1%|          | 1/97 [00:00<00:15,  6.34it/s]"
     ]
    },
    {
     "name": "stdout",
     "output_type": "stream",
     "text": [
      "AUC score: 0.8546597633136095\n",
      "Confusion martrix:\n",
      " [[52  0]\n",
      " [44  8]]\n",
      "Classification report:\n",
      "               precision    recall  f1-score   support\n",
      "\n",
      "           0       0.54      1.00      0.70        52\n",
      "           1       1.00      0.15      0.27        52\n",
      "\n",
      "    accuracy                           0.58       104\n",
      "   macro avg       0.77      0.58      0.48       104\n",
      "weighted avg       0.77      0.58      0.48       104\n",
      "\n",
      "Getting test accuracy:\n"
     ]
    },
    {
     "name": "stderr",
     "output_type": "stream",
     "text": [
      "Testing: 100%|██████████| 97/97 [00:15<00:00,  5.58it/s]\n",
      "Training:   0%|          | 0/10 [00:00<?, ?it/s]"
     ]
    },
    {
     "name": "stdout",
     "output_type": "stream",
     "text": [
      "AUC score: 0.6613946753108726\n",
      "Confusion martrix:\n",
      " [[383   5]\n",
      " [352  36]]\n",
      "Classification report:\n",
      "               precision    recall  f1-score   support\n",
      "\n",
      "           0       0.52      0.99      0.68       388\n",
      "           1       0.88      0.09      0.17       388\n",
      "\n",
      "    accuracy                           0.54       776\n",
      "   macro avg       0.70      0.54      0.42       776\n",
      "weighted avg       0.70      0.54      0.42       776\n",
      "\n"
     ]
    },
    {
     "name": "stderr",
     "output_type": "stream",
     "text": [
      "Accuracy 0.937500: 100%|██████████| 10/10 [00:02<00:00,  3.86it/s]\n",
      "Validating:   8%|▊         | 1/13 [00:00<00:02,  5.81it/s]"
     ]
    },
    {
     "name": "stdout",
     "output_type": "stream",
     "text": [
      "Getting vote accuracy:\n"
     ]
    },
    {
     "name": "stderr",
     "output_type": "stream",
     "text": [
      "Validating: 100%|██████████| 13/13 [00:02<00:00,  5.42it/s]\n",
      "Testing:   1%|          | 1/97 [00:00<00:17,  5.51it/s]"
     ]
    },
    {
     "name": "stdout",
     "output_type": "stream",
     "text": [
      "AUC score: 0.9604289940828402\n",
      "Confusion martrix:\n",
      " [[52  0]\n",
      " [16 36]]\n",
      "Classification report:\n",
      "               precision    recall  f1-score   support\n",
      "\n",
      "           0       0.76      1.00      0.87        52\n",
      "           1       1.00      0.69      0.82        52\n",
      "\n",
      "    accuracy                           0.85       104\n",
      "   macro avg       0.88      0.85      0.84       104\n",
      "weighted avg       0.88      0.85      0.84       104\n",
      "\n",
      "Getting test accuracy:\n"
     ]
    },
    {
     "name": "stderr",
     "output_type": "stream",
     "text": [
      "Testing: 100%|██████████| 97/97 [00:17<00:00,  5.73it/s]\n",
      "Training:   0%|          | 0/10 [00:00<?, ?it/s]"
     ]
    },
    {
     "name": "stdout",
     "output_type": "stream",
     "text": [
      "AUC score: 0.8062360505898608\n",
      "Confusion martrix:\n",
      " [[238 150]\n",
      " [ 67 321]]\n",
      "Classification report:\n",
      "               precision    recall  f1-score   support\n",
      "\n",
      "           0       0.78      0.61      0.69       388\n",
      "           1       0.68      0.83      0.75       388\n",
      "\n",
      "    accuracy                           0.72       776\n",
      "   macro avg       0.73      0.72      0.72       776\n",
      "weighted avg       0.73      0.72      0.72       776\n",
      "\n"
     ]
    },
    {
     "name": "stderr",
     "output_type": "stream",
     "text": [
      "Accuracy 0.900000: 100%|██████████| 10/10 [00:02<00:00,  3.99it/s]\n",
      "Validating:   8%|▊         | 1/13 [00:00<00:02,  5.95it/s]"
     ]
    },
    {
     "name": "stdout",
     "output_type": "stream",
     "text": [
      "Getting vote accuracy:\n"
     ]
    },
    {
     "name": "stderr",
     "output_type": "stream",
     "text": [
      "Validating: 100%|██████████| 13/13 [00:02<00:00,  5.00it/s]\n",
      "Testing:   1%|          | 1/97 [00:00<00:15,  6.39it/s]"
     ]
    },
    {
     "name": "stdout",
     "output_type": "stream",
     "text": [
      "AUC score: 0.9400887573964497\n",
      "Confusion martrix:\n",
      " [[47  5]\n",
      " [ 7 45]]\n",
      "Classification report:\n",
      "               precision    recall  f1-score   support\n",
      "\n",
      "           0       0.87      0.90      0.89        52\n",
      "           1       0.90      0.87      0.88        52\n",
      "\n",
      "    accuracy                           0.88       104\n",
      "   macro avg       0.89      0.88      0.88       104\n",
      "weighted avg       0.89      0.88      0.88       104\n",
      "\n",
      "Getting test accuracy:\n"
     ]
    },
    {
     "name": "stderr",
     "output_type": "stream",
     "text": [
      "Testing: 100%|██████████| 97/97 [00:15<00:00,  6.25it/s]\n",
      "Training:   0%|          | 0/10 [00:00<?, ?it/s]"
     ]
    },
    {
     "name": "stdout",
     "output_type": "stream",
     "text": [
      "AUC score: 0.8089927197364226\n",
      "Confusion martrix:\n",
      " [[217 171]\n",
      " [ 52 336]]\n",
      "Classification report:\n",
      "               precision    recall  f1-score   support\n",
      "\n",
      "           0       0.81      0.56      0.66       388\n",
      "           1       0.66      0.87      0.75       388\n",
      "\n",
      "    accuracy                           0.71       776\n",
      "   macro avg       0.73      0.71      0.71       776\n",
      "weighted avg       0.73      0.71      0.71       776\n",
      "\n"
     ]
    },
    {
     "name": "stderr",
     "output_type": "stream",
     "text": [
      "Accuracy 0.925000: 100%|██████████| 10/10 [00:02<00:00,  3.97it/s]\n",
      "Validating:   8%|▊         | 1/13 [00:00<00:02,  5.78it/s]"
     ]
    },
    {
     "name": "stdout",
     "output_type": "stream",
     "text": [
      "Getting vote accuracy:\n"
     ]
    },
    {
     "name": "stderr",
     "output_type": "stream",
     "text": [
      "Validating: 100%|██████████| 13/13 [00:02<00:00,  4.74it/s]\n",
      "Testing:   1%|          | 1/97 [00:00<00:14,  6.77it/s]"
     ]
    },
    {
     "name": "stdout",
     "output_type": "stream",
     "text": [
      "AUC score: 0.9896449704142012\n",
      "Confusion martrix:\n",
      " [[ 1 51]\n",
      " [ 0 52]]\n",
      "Classification report:\n",
      "               precision    recall  f1-score   support\n",
      "\n",
      "           0       1.00      0.02      0.04        52\n",
      "           1       0.50      1.00      0.67        52\n",
      "\n",
      "    accuracy                           0.51       104\n",
      "   macro avg       0.75      0.51      0.35       104\n",
      "weighted avg       0.75      0.51      0.35       104\n",
      "\n",
      "Getting test accuracy:\n"
     ]
    },
    {
     "name": "stderr",
     "output_type": "stream",
     "text": [
      "Testing: 100%|██████████| 97/97 [00:15<00:00,  6.51it/s]\n",
      "/usr/local/lib/python3.7/site-packages/sklearn/metrics/_classification.py:1221: UndefinedMetricWarning: Precision and F-score are ill-defined and being set to 0.0 in labels with no predicted samples. Use `zero_division` parameter to control this behavior.\n",
      "  _warn_prf(average, modifier, msg_start, len(result))\n",
      "Training:   0%|          | 0/10 [00:00<?, ?it/s]"
     ]
    },
    {
     "name": "stdout",
     "output_type": "stream",
     "text": [
      "AUC score: 0.8605590392177703\n",
      "Confusion martrix:\n",
      " [[  0 388]\n",
      " [  0 388]]\n",
      "Classification report:\n",
      "               precision    recall  f1-score   support\n",
      "\n",
      "           0       0.00      0.00      0.00       388\n",
      "           1       0.50      1.00      0.67       388\n",
      "\n",
      "    accuracy                           0.50       776\n",
      "   macro avg       0.25      0.50      0.33       776\n",
      "weighted avg       0.25      0.50      0.33       776\n",
      "\n",
      "Epoch:  21\n"
     ]
    },
    {
     "name": "stderr",
     "output_type": "stream",
     "text": [
      "Accuracy 0.950000: 100%|██████████| 10/10 [00:02<00:00,  4.14it/s]\n",
      "Validating:   8%|▊         | 1/13 [00:00<00:02,  5.49it/s]"
     ]
    },
    {
     "name": "stdout",
     "output_type": "stream",
     "text": [
      "Getting vote accuracy:\n"
     ]
    },
    {
     "name": "stderr",
     "output_type": "stream",
     "text": [
      "Validating: 100%|██████████| 13/13 [00:02<00:00,  5.40it/s]\n",
      "Testing:   1%|          | 1/97 [00:00<00:15,  6.06it/s]"
     ]
    },
    {
     "name": "stdout",
     "output_type": "stream",
     "text": [
      "AUC score: 0.9763313609467457\n",
      "Confusion martrix:\n",
      " [[45  7]\n",
      " [ 3 49]]\n",
      "Classification report:\n",
      "               precision    recall  f1-score   support\n",
      "\n",
      "           0       0.94      0.87      0.90        52\n",
      "           1       0.88      0.94      0.91        52\n",
      "\n",
      "    accuracy                           0.90       104\n",
      "   macro avg       0.91      0.90      0.90       104\n",
      "weighted avg       0.91      0.90      0.90       104\n",
      "\n",
      "Getting test accuracy:\n"
     ]
    },
    {
     "name": "stderr",
     "output_type": "stream",
     "text": [
      "Testing: 100%|██████████| 97/97 [00:15<00:00,  6.26it/s]\n",
      "Training:   0%|          | 0/10 [00:00<?, ?it/s]"
     ]
    },
    {
     "name": "stdout",
     "output_type": "stream",
     "text": [
      "AUC score: 0.7877962589010521\n",
      "Confusion martrix:\n",
      " [[148 240]\n",
      " [ 18 370]]\n",
      "Classification report:\n",
      "               precision    recall  f1-score   support\n",
      "\n",
      "           0       0.89      0.38      0.53       388\n",
      "           1       0.61      0.95      0.74       388\n",
      "\n",
      "    accuracy                           0.67       776\n",
      "   macro avg       0.75      0.67      0.64       776\n",
      "weighted avg       0.75      0.67      0.64       776\n",
      "\n"
     ]
    },
    {
     "name": "stderr",
     "output_type": "stream",
     "text": [
      "Accuracy 0.900000: 100%|██████████| 10/10 [00:02<00:00,  4.30it/s]\n",
      "Validating:   8%|▊         | 1/13 [00:00<00:02,  5.53it/s]"
     ]
    },
    {
     "name": "stdout",
     "output_type": "stream",
     "text": [
      "Getting vote accuracy:\n"
     ]
    },
    {
     "name": "stderr",
     "output_type": "stream",
     "text": [
      "Validating: 100%|██████████| 13/13 [00:02<00:00,  5.55it/s]\n",
      "Testing:   1%|          | 1/97 [00:00<00:14,  6.45it/s]"
     ]
    },
    {
     "name": "stdout",
     "output_type": "stream",
     "text": [
      "AUC score: 0.8746301775147929\n",
      "Confusion martrix:\n",
      " [[52  0]\n",
      " [47  5]]\n",
      "Classification report:\n",
      "               precision    recall  f1-score   support\n",
      "\n",
      "           0       0.53      1.00      0.69        52\n",
      "           1       1.00      0.10      0.18        52\n",
      "\n",
      "    accuracy                           0.55       104\n",
      "   macro avg       0.76      0.55      0.43       104\n",
      "weighted avg       0.76      0.55      0.43       104\n",
      "\n",
      "Getting test accuracy:\n"
     ]
    },
    {
     "name": "stderr",
     "output_type": "stream",
     "text": [
      "Testing: 100%|██████████| 97/97 [00:14<00:00,  6.63it/s]\n",
      "Training:   0%|          | 0/10 [00:00<?, ?it/s]"
     ]
    },
    {
     "name": "stdout",
     "output_type": "stream",
     "text": [
      "AUC score: 0.6763603996173876\n",
      "Confusion martrix:\n",
      " [[374  14]\n",
      " [337  51]]\n",
      "Classification report:\n",
      "               precision    recall  f1-score   support\n",
      "\n",
      "           0       0.53      0.96      0.68       388\n",
      "           1       0.78      0.13      0.23       388\n",
      "\n",
      "    accuracy                           0.55       776\n",
      "   macro avg       0.66      0.55      0.45       776\n",
      "weighted avg       0.66      0.55      0.45       776\n",
      "\n"
     ]
    },
    {
     "name": "stderr",
     "output_type": "stream",
     "text": [
      "Accuracy 0.975000: 100%|██████████| 10/10 [00:02<00:00,  4.02it/s]\n",
      "Validating:   8%|▊         | 1/13 [00:00<00:01,  6.72it/s]"
     ]
    },
    {
     "name": "stdout",
     "output_type": "stream",
     "text": [
      "Getting vote accuracy:\n"
     ]
    },
    {
     "name": "stderr",
     "output_type": "stream",
     "text": [
      "Validating: 100%|██████████| 13/13 [00:02<00:00,  5.77it/s]\n",
      "Testing:   1%|          | 1/97 [00:00<00:15,  6.36it/s]"
     ]
    },
    {
     "name": "stdout",
     "output_type": "stream",
     "text": [
      "AUC score: 0.9914940828402367\n",
      "Confusion martrix:\n",
      " [[52  0]\n",
      " [ 8 44]]\n",
      "Classification report:\n",
      "               precision    recall  f1-score   support\n",
      "\n",
      "           0       0.87      1.00      0.93        52\n",
      "           1       1.00      0.85      0.92        52\n",
      "\n",
      "    accuracy                           0.92       104\n",
      "   macro avg       0.93      0.92      0.92       104\n",
      "weighted avg       0.93      0.92      0.92       104\n",
      "\n",
      "Getting test accuracy:\n"
     ]
    },
    {
     "name": "stderr",
     "output_type": "stream",
     "text": [
      "Testing: 100%|██████████| 97/97 [00:14<00:00,  6.61it/s]\n",
      "Training:   0%|          | 0/10 [00:00<?, ?it/s]"
     ]
    },
    {
     "name": "stdout",
     "output_type": "stream",
     "text": [
      "AUC score: 0.8103610904453183\n",
      "Confusion martrix:\n",
      " [[198 190]\n",
      " [ 43 345]]\n",
      "Classification report:\n",
      "               precision    recall  f1-score   support\n",
      "\n",
      "           0       0.82      0.51      0.63       388\n",
      "           1       0.64      0.89      0.75       388\n",
      "\n",
      "    accuracy                           0.70       776\n",
      "   macro avg       0.73      0.70      0.69       776\n",
      "weighted avg       0.73      0.70      0.69       776\n",
      "\n"
     ]
    },
    {
     "name": "stderr",
     "output_type": "stream",
     "text": [
      "Accuracy 0.962500: 100%|██████████| 10/10 [00:02<00:00,  4.23it/s]\n",
      "Validating:   8%|▊         | 1/13 [00:00<00:02,  5.66it/s]"
     ]
    },
    {
     "name": "stdout",
     "output_type": "stream",
     "text": [
      "Getting vote accuracy:\n"
     ]
    },
    {
     "name": "stderr",
     "output_type": "stream",
     "text": [
      "Validating: 100%|██████████| 13/13 [00:02<00:00,  4.78it/s]\n",
      "Testing:   1%|          | 1/97 [00:00<00:14,  6.60it/s]"
     ]
    },
    {
     "name": "stdout",
     "output_type": "stream",
     "text": [
      "AUC score: 0.955991124260355\n",
      "Confusion martrix:\n",
      " [[49  3]\n",
      " [12 40]]\n",
      "Classification report:\n",
      "               precision    recall  f1-score   support\n",
      "\n",
      "           0       0.80      0.94      0.87        52\n",
      "           1       0.93      0.77      0.84        52\n",
      "\n",
      "    accuracy                           0.86       104\n",
      "   macro avg       0.87      0.86      0.85       104\n",
      "weighted avg       0.87      0.86      0.85       104\n",
      "\n",
      "Getting test accuracy:\n"
     ]
    },
    {
     "name": "stderr",
     "output_type": "stream",
     "text": [
      "Testing: 100%|██████████| 97/97 [00:14<00:00,  6.66it/s]\n",
      "Training:   0%|          | 0/10 [00:00<?, ?it/s]"
     ]
    },
    {
     "name": "stdout",
     "output_type": "stream",
     "text": [
      "AUC score: 0.8253068870230631\n",
      "Confusion martrix:\n",
      " [[238 150]\n",
      " [ 51 337]]\n",
      "Classification report:\n",
      "               precision    recall  f1-score   support\n",
      "\n",
      "           0       0.82      0.61      0.70       388\n",
      "           1       0.69      0.87      0.77       388\n",
      "\n",
      "    accuracy                           0.74       776\n",
      "   macro avg       0.76      0.74      0.74       776\n",
      "weighted avg       0.76      0.74      0.74       776\n",
      "\n"
     ]
    },
    {
     "name": "stderr",
     "output_type": "stream",
     "text": [
      "Accuracy 0.925000: 100%|██████████| 10/10 [00:02<00:00,  4.07it/s]\n",
      "Validating:   8%|▊         | 1/13 [00:00<00:02,  5.62it/s]"
     ]
    },
    {
     "name": "stdout",
     "output_type": "stream",
     "text": [
      "Getting vote accuracy:\n"
     ]
    },
    {
     "name": "stderr",
     "output_type": "stream",
     "text": [
      "Validating: 100%|██████████| 13/13 [00:02<00:00,  5.57it/s]\n",
      "Testing:   1%|          | 1/97 [00:00<00:14,  6.53it/s]"
     ]
    },
    {
     "name": "stdout",
     "output_type": "stream",
     "text": [
      "AUC score: 0.977810650887574\n",
      "Confusion martrix:\n",
      " [[ 1 51]\n",
      " [ 0 52]]\n",
      "Classification report:\n",
      "               precision    recall  f1-score   support\n",
      "\n",
      "           0       1.00      0.02      0.04        52\n",
      "           1       0.50      1.00      0.67        52\n",
      "\n",
      "    accuracy                           0.51       104\n",
      "   macro avg       0.75      0.51      0.35       104\n",
      "weighted avg       0.75      0.51      0.35       104\n",
      "\n",
      "Getting test accuracy:\n"
     ]
    },
    {
     "name": "stderr",
     "output_type": "stream",
     "text": [
      "Testing: 100%|██████████| 97/97 [00:14<00:00,  6.69it/s]\n",
      "/usr/local/lib/python3.7/site-packages/sklearn/metrics/_classification.py:1221: UndefinedMetricWarning: Precision and F-score are ill-defined and being set to 0.0 in labels with no predicted samples. Use `zero_division` parameter to control this behavior.\n",
      "  _warn_prf(average, modifier, msg_start, len(result))\n",
      "Training:   0%|          | 0/10 [00:00<?, ?it/s]"
     ]
    },
    {
     "name": "stdout",
     "output_type": "stream",
     "text": [
      "AUC score: 0.8629503666702093\n",
      "Confusion martrix:\n",
      " [[  0 388]\n",
      " [  0 388]]\n",
      "Classification report:\n",
      "               precision    recall  f1-score   support\n",
      "\n",
      "           0       0.00      0.00      0.00       388\n",
      "           1       0.50      1.00      0.67       388\n",
      "\n",
      "    accuracy                           0.50       776\n",
      "   macro avg       0.25      0.50      0.33       776\n",
      "weighted avg       0.25      0.50      0.33       776\n",
      "\n",
      "Epoch:  22\n"
     ]
    },
    {
     "name": "stderr",
     "output_type": "stream",
     "text": [
      "Accuracy 0.975000: 100%|██████████| 10/10 [00:02<00:00,  4.32it/s]\n",
      "Validating:   0%|          | 0/13 [00:00<?, ?it/s]"
     ]
    },
    {
     "name": "stdout",
     "output_type": "stream",
     "text": [
      "Getting vote accuracy:\n"
     ]
    },
    {
     "name": "stderr",
     "output_type": "stream",
     "text": [
      "Validating: 100%|██████████| 13/13 [00:02<00:00,  5.68it/s]\n",
      "Testing:   1%|          | 1/97 [00:00<00:10,  9.02it/s]"
     ]
    },
    {
     "name": "stdout",
     "output_type": "stream",
     "text": [
      "AUC score: 0.9696745562130178\n",
      "Confusion martrix:\n",
      " [[42 10]\n",
      " [ 2 50]]\n",
      "Classification report:\n",
      "               precision    recall  f1-score   support\n",
      "\n",
      "           0       0.95      0.81      0.88        52\n",
      "           1       0.83      0.96      0.89        52\n",
      "\n",
      "    accuracy                           0.88       104\n",
      "   macro avg       0.89      0.88      0.88       104\n",
      "weighted avg       0.89      0.88      0.88       104\n",
      "\n",
      "Getting test accuracy:\n"
     ]
    },
    {
     "name": "stderr",
     "output_type": "stream",
     "text": [
      "Testing: 100%|██████████| 97/97 [00:16<00:00,  5.40it/s]\n",
      "Training:   0%|          | 0/10 [00:00<?, ?it/s]"
     ]
    },
    {
     "name": "stdout",
     "output_type": "stream",
     "text": [
      "AUC score: 0.8328395684982464\n",
      "Confusion martrix:\n",
      " [[ 95 293]\n",
      " [ 10 378]]\n",
      "Classification report:\n",
      "               precision    recall  f1-score   support\n",
      "\n",
      "           0       0.90      0.24      0.39       388\n",
      "           1       0.56      0.97      0.71       388\n",
      "\n",
      "    accuracy                           0.61       776\n",
      "   macro avg       0.73      0.61      0.55       776\n",
      "weighted avg       0.73      0.61      0.55       776\n",
      "\n"
     ]
    },
    {
     "name": "stderr",
     "output_type": "stream",
     "text": [
      "Accuracy 0.912500: 100%|██████████| 10/10 [00:02<00:00,  3.84it/s]\n",
      "Validating:   8%|▊         | 1/13 [00:00<00:02,  5.46it/s]"
     ]
    },
    {
     "name": "stdout",
     "output_type": "stream",
     "text": [
      "Getting vote accuracy:\n"
     ]
    },
    {
     "name": "stderr",
     "output_type": "stream",
     "text": [
      "Validating: 100%|██████████| 13/13 [00:02<00:00,  5.78it/s]\n",
      "Testing:   1%|          | 1/97 [00:00<00:10,  8.95it/s]"
     ]
    },
    {
     "name": "stdout",
     "output_type": "stream",
     "text": [
      "AUC score: 0.9445266272189349\n",
      "Confusion martrix:\n",
      " [[52  0]\n",
      " [45  7]]\n",
      "Classification report:\n",
      "               precision    recall  f1-score   support\n",
      "\n",
      "           0       0.54      1.00      0.70        52\n",
      "           1       1.00      0.13      0.24        52\n",
      "\n",
      "    accuracy                           0.57       104\n",
      "   macro avg       0.77      0.57      0.47       104\n",
      "weighted avg       0.77      0.57      0.47       104\n",
      "\n",
      "Getting test accuracy:\n"
     ]
    },
    {
     "name": "stderr",
     "output_type": "stream",
     "text": [
      "Testing: 100%|██████████| 97/97 [00:15<00:00,  5.73it/s]\n",
      "Training:   0%|          | 0/10 [00:00<?, ?it/s]"
     ]
    },
    {
     "name": "stdout",
     "output_type": "stream",
     "text": [
      "AUC score: 0.7047906259963864\n",
      "Confusion martrix:\n",
      " [[373  15]\n",
      " [328  60]]\n",
      "Classification report:\n",
      "               precision    recall  f1-score   support\n",
      "\n",
      "           0       0.53      0.96      0.69       388\n",
      "           1       0.80      0.15      0.26       388\n",
      "\n",
      "    accuracy                           0.56       776\n",
      "   macro avg       0.67      0.56      0.47       776\n",
      "weighted avg       0.67      0.56      0.47       776\n",
      "\n"
     ]
    },
    {
     "name": "stderr",
     "output_type": "stream",
     "text": [
      "Accuracy 0.925000: 100%|██████████| 10/10 [00:02<00:00,  4.20it/s]\n",
      "Validating:   0%|          | 0/13 [00:00<?, ?it/s]"
     ]
    },
    {
     "name": "stdout",
     "output_type": "stream",
     "text": [
      "Getting vote accuracy:\n"
     ]
    },
    {
     "name": "stderr",
     "output_type": "stream",
     "text": [
      "Validating: 100%|██████████| 13/13 [00:02<00:00,  5.59it/s]\n",
      "Testing:   1%|          | 1/97 [00:00<00:10,  9.34it/s]"
     ]
    },
    {
     "name": "stdout",
     "output_type": "stream",
     "text": [
      "AUC score: 0.974112426035503\n",
      "Confusion martrix:\n",
      " [[51  1]\n",
      " [ 7 45]]\n",
      "Classification report:\n",
      "               precision    recall  f1-score   support\n",
      "\n",
      "           0       0.88      0.98      0.93        52\n",
      "           1       0.98      0.87      0.92        52\n",
      "\n",
      "    accuracy                           0.92       104\n",
      "   macro avg       0.93      0.92      0.92       104\n",
      "weighted avg       0.93      0.92      0.92       104\n",
      "\n",
      "Getting test accuracy:\n"
     ]
    },
    {
     "name": "stderr",
     "output_type": "stream",
     "text": [
      "Testing:  31%|███       | 30/97 [00:06<00:11,  5.67it/s]"
     ]
    },
    {
     "ename": "KeyboardInterrupt",
     "evalue": "",
     "output_type": "error",
     "traceback": [
      "\u001b[0;31m---------------------------------------------------------------------------\u001b[0m",
      "\u001b[0;31mKeyboardInterrupt\u001b[0m                         Traceback (most recent call last)",
      "\u001b[0;32m<ipython-input-4-954597377b98>\u001b[0m in \u001b[0;36m<module>\u001b[0;34m\u001b[0m\n\u001b[1;32m     12\u001b[0m \u001b[0;32mfor\u001b[0m \u001b[0me\u001b[0m \u001b[0;32min\u001b[0m \u001b[0mrange\u001b[0m\u001b[0;34m(\u001b[0m\u001b[0mepochs\u001b[0m\u001b[0;34m)\u001b[0m\u001b[0;34m:\u001b[0m\u001b[0;34m\u001b[0m\u001b[0;34m\u001b[0m\u001b[0m\n\u001b[1;32m     13\u001b[0m     \u001b[0mprint\u001b[0m\u001b[0;34m(\u001b[0m\u001b[0;34m\"Epoch: \"\u001b[0m\u001b[0;34m,\u001b[0m \u001b[0me\u001b[0m\u001b[0;34m)\u001b[0m\u001b[0;34m\u001b[0m\u001b[0;34m\u001b[0m\u001b[0m\n\u001b[0;32m---> 14\u001b[0;31m     \u001b[0mtra\u001b[0m\u001b[0;34m,\u001b[0m \u001b[0mv\u001b[0m\u001b[0;34m,\u001b[0m \u001b[0mtsa\u001b[0m \u001b[0;34m=\u001b[0m \u001b[0mtrain_nodes\u001b[0m\u001b[0;34m(\u001b[0m\u001b[0mlearners\u001b[0m\u001b[0;34m)\u001b[0m\u001b[0;34m\u001b[0m\u001b[0;34m\u001b[0m\u001b[0m\n\u001b[0m\u001b[1;32m     15\u001b[0m     \u001b[0;32mfor\u001b[0m \u001b[0mi\u001b[0m \u001b[0;32min\u001b[0m \u001b[0mrange\u001b[0m\u001b[0;34m(\u001b[0m\u001b[0mn_learners\u001b[0m\u001b[0;34m)\u001b[0m\u001b[0;34m:\u001b[0m\u001b[0;34m\u001b[0m\u001b[0;34m\u001b[0m\u001b[0m\n\u001b[1;32m     16\u001b[0m         \u001b[0mtrain_acc\u001b[0m\u001b[0;34m[\u001b[0m\u001b[0mi\u001b[0m\u001b[0;34m]\u001b[0m\u001b[0;34m.\u001b[0m\u001b[0mappend\u001b[0m\u001b[0;34m(\u001b[0m\u001b[0mtra\u001b[0m\u001b[0;34m[\u001b[0m\u001b[0mi\u001b[0m\u001b[0;34m]\u001b[0m\u001b[0;34m)\u001b[0m\u001b[0;34m\u001b[0m\u001b[0;34m\u001b[0m\u001b[0m\n",
      "\u001b[0;32m<ipython-input-2-b783b41dca8b>\u001b[0m in \u001b[0;36mtrain_nodes\u001b[0;34m(learners)\u001b[0m\n\u001b[1;32m     61\u001b[0m         \u001b[0mtra\u001b[0m \u001b[0;34m=\u001b[0m \u001b[0ml\u001b[0m\u001b[0;34m.\u001b[0m\u001b[0m_train_model\u001b[0m\u001b[0;34m(\u001b[0m\u001b[0;34m)\u001b[0m\u001b[0;34m\u001b[0m\u001b[0;34m\u001b[0m\u001b[0m\n\u001b[1;32m     62\u001b[0m         \u001b[0mw\u001b[0m \u001b[0;34m=\u001b[0m \u001b[0ml\u001b[0m\u001b[0;34m.\u001b[0m\u001b[0mget_weights\u001b[0m\u001b[0;34m(\u001b[0m\u001b[0;34m)\u001b[0m\u001b[0;34m\u001b[0m\u001b[0;34m\u001b[0m\u001b[0m\n\u001b[0;32m---> 63\u001b[0;31m         \u001b[0mpw\u001b[0m \u001b[0;34m=\u001b[0m \u001b[0ml\u001b[0m\u001b[0;34m.\u001b[0m\u001b[0mtest_model\u001b[0m\u001b[0;34m(\u001b[0m\u001b[0mw\u001b[0m\u001b[0;34m)\u001b[0m\u001b[0;34m\u001b[0m\u001b[0;34m\u001b[0m\u001b[0m\n\u001b[0m\u001b[1;32m     64\u001b[0m         \u001b[0mtrain_acc\u001b[0m\u001b[0;34m.\u001b[0m\u001b[0mappend\u001b[0m\u001b[0;34m(\u001b[0m\u001b[0mtra\u001b[0m\u001b[0;34m)\u001b[0m\u001b[0;34m\u001b[0m\u001b[0;34m\u001b[0m\u001b[0m\n\u001b[1;32m     65\u001b[0m         \u001b[0mtest_acc\u001b[0m\u001b[0;34m.\u001b[0m\u001b[0mappend\u001b[0m\u001b[0;34m(\u001b[0m\u001b[0mpw\u001b[0m\u001b[0;34m.\u001b[0m\u001b[0mtest_accuracy\u001b[0m\u001b[0;34m)\u001b[0m\u001b[0;34m\u001b[0m\u001b[0;34m\u001b[0m\u001b[0m\n",
      "\u001b[0;32m~/code/colearn/colearn/basic_learner.py\u001b[0m in \u001b[0;36mtest_model\u001b[0;34m(self, weights)\u001b[0m\n\u001b[1;32m    126\u001b[0m \u001b[0;34m\u001b[0m\u001b[0m\n\u001b[1;32m    127\u001b[0m         proposed_weights.test_accuracy = self._test_model(weights,\n\u001b[0;32m--> 128\u001b[0;31m                                                           validate=False)\n\u001b[0m\u001b[1;32m    129\u001b[0m         proposed_weights.vote = (\n\u001b[1;32m    130\u001b[0m             \u001b[0mproposed_weights\u001b[0m\u001b[0;34m.\u001b[0m\u001b[0mvote_accuracy\u001b[0m \u001b[0;34m>=\u001b[0m \u001b[0mself\u001b[0m\u001b[0;34m.\u001b[0m\u001b[0mvote_accuracy\u001b[0m\u001b[0;34m\u001b[0m\u001b[0;34m\u001b[0m\u001b[0m\n",
      "\u001b[0;32m~/code/colearn/colearn_examples/keras_learner.py\u001b[0m in \u001b[0;36m_test_model\u001b[0;34m(self, weights, validate)\u001b[0m\n\u001b[1;32m    110\u001b[0m \u001b[0;34m\u001b[0m\u001b[0m\n\u001b[1;32m    111\u001b[0m         \u001b[0;32mfor\u001b[0m \u001b[0m_\u001b[0m \u001b[0;32min\u001b[0m \u001b[0mprogress_bar\u001b[0m\u001b[0;34m:\u001b[0m  \u001b[0;31m# tqdm provides progress bar\u001b[0m\u001b[0;34m\u001b[0m\u001b[0;34m\u001b[0m\u001b[0m\n\u001b[0;32m--> 112\u001b[0;31m             \u001b[0mdata\u001b[0m\u001b[0;34m,\u001b[0m \u001b[0mlabels\u001b[0m \u001b[0;34m=\u001b[0m \u001b[0mgenerator\u001b[0m\u001b[0;34m.\u001b[0m\u001b[0m__next__\u001b[0m\u001b[0;34m(\u001b[0m\u001b[0;34m)\u001b[0m\u001b[0;34m\u001b[0m\u001b[0;34m\u001b[0m\u001b[0m\n\u001b[0m\u001b[1;32m    113\u001b[0m             \u001b[0mpred\u001b[0m \u001b[0;34m=\u001b[0m \u001b[0mself\u001b[0m\u001b[0;34m.\u001b[0m\u001b[0m_model\u001b[0m\u001b[0;34m.\u001b[0m\u001b[0mpredict\u001b[0m\u001b[0;34m(\u001b[0m\u001b[0mdata\u001b[0m\u001b[0;34m)\u001b[0m\u001b[0;34m\u001b[0m\u001b[0;34m\u001b[0m\u001b[0m\n\u001b[1;32m    114\u001b[0m \u001b[0;34m\u001b[0m\u001b[0m\n",
      "\u001b[0;32m~/code/colearn/colearn_examples/xray_utils/data.py\u001b[0m in \u001b[0;36mtrain_generator\u001b[0;34m(normal_data, pneumonia_data, batch_size, width, height, augmentation, shuffle, seed)\u001b[0m\n\u001b[1;32m     68\u001b[0m         \u001b[0;32mif\u001b[0m \u001b[0mbatch_counter\u001b[0m \u001b[0;34m%\u001b[0m \u001b[0;36m2\u001b[0m \u001b[0;34m==\u001b[0m \u001b[0;36m0\u001b[0m\u001b[0;34m:\u001b[0m\u001b[0;34m\u001b[0m\u001b[0;34m\u001b[0m\u001b[0m\n\u001b[1;32m     69\u001b[0m             img_data, img_label = normalize_image(\n\u001b[0;32m---> 70\u001b[0;31m                 \u001b[0mnormal_data\u001b[0m\u001b[0;34m[\u001b[0m\u001b[0mindices_normal\u001b[0m\u001b[0;34m[\u001b[0m\u001b[0mit_normal\u001b[0m\u001b[0;34m]\u001b[0m\u001b[0;34m]\u001b[0m\u001b[0;34m,\u001b[0m \u001b[0;36m0\u001b[0m\u001b[0;34m,\u001b[0m \u001b[0mwidth\u001b[0m\u001b[0;34m,\u001b[0m \u001b[0mheight\u001b[0m\u001b[0;34m\u001b[0m\u001b[0;34m\u001b[0m\u001b[0m\n\u001b[0m\u001b[1;32m     71\u001b[0m             )\n\u001b[1;32m     72\u001b[0m             \u001b[0mit_normal\u001b[0m \u001b[0;34m+=\u001b[0m \u001b[0;36m1\u001b[0m\u001b[0;34m\u001b[0m\u001b[0;34m\u001b[0m\u001b[0m\n",
      "\u001b[0;32m~/code/colearn/colearn_examples/utils/data.py\u001b[0m in \u001b[0;36mnormalize_image\u001b[0;34m(filename, class_num, width, height)\u001b[0m\n\u001b[1;32m     42\u001b[0m \u001b[0;34m\u001b[0m\u001b[0m\n\u001b[1;32m     43\u001b[0m \u001b[0;32mdef\u001b[0m \u001b[0mnormalize_image\u001b[0m\u001b[0;34m(\u001b[0m\u001b[0mfilename\u001b[0m\u001b[0;34m,\u001b[0m \u001b[0mclass_num\u001b[0m\u001b[0;34m,\u001b[0m \u001b[0mwidth\u001b[0m\u001b[0;34m,\u001b[0m \u001b[0mheight\u001b[0m\u001b[0;34m)\u001b[0m\u001b[0;34m:\u001b[0m\u001b[0;34m\u001b[0m\u001b[0;34m\u001b[0m\u001b[0m\n\u001b[0;32m---> 44\u001b[0;31m     \u001b[0mdata\u001b[0m \u001b[0;34m=\u001b[0m \u001b[0mto_rgb_normalize_and_resize\u001b[0m\u001b[0;34m(\u001b[0m\u001b[0mfilename\u001b[0m\u001b[0;34m,\u001b[0m \u001b[0mwidth\u001b[0m\u001b[0;34m,\u001b[0m \u001b[0mheight\u001b[0m\u001b[0;34m)\u001b[0m\u001b[0;34m\u001b[0m\u001b[0;34m\u001b[0m\u001b[0m\n\u001b[0m\u001b[1;32m     45\u001b[0m     \u001b[0mlabel\u001b[0m \u001b[0;34m=\u001b[0m \u001b[0mclass_num\u001b[0m\u001b[0;34m\u001b[0m\u001b[0;34m\u001b[0m\u001b[0m\n\u001b[1;32m     46\u001b[0m \u001b[0;34m\u001b[0m\u001b[0m\n",
      "\u001b[0;32m~/code/colearn/colearn_examples/utils/data.py\u001b[0m in \u001b[0;36mto_rgb_normalize_and_resize\u001b[0;34m(img, width, height)\u001b[0m\n\u001b[1;32m     32\u001b[0m \u001b[0;34m\u001b[0m\u001b[0m\n\u001b[1;32m     33\u001b[0m \u001b[0;32mdef\u001b[0m \u001b[0mto_rgb_normalize_and_resize\u001b[0m\u001b[0;34m(\u001b[0m\u001b[0mimg\u001b[0m\u001b[0;34m,\u001b[0m \u001b[0mwidth\u001b[0m\u001b[0;34m,\u001b[0m \u001b[0mheight\u001b[0m\u001b[0;34m)\u001b[0m\u001b[0;34m:\u001b[0m\u001b[0;34m\u001b[0m\u001b[0;34m\u001b[0m\u001b[0m\n\u001b[0;32m---> 34\u001b[0;31m     \u001b[0mimg\u001b[0m \u001b[0;34m=\u001b[0m \u001b[0mcv2\u001b[0m\u001b[0;34m.\u001b[0m\u001b[0mimread\u001b[0m\u001b[0;34m(\u001b[0m\u001b[0mstr\u001b[0m\u001b[0;34m(\u001b[0m\u001b[0mimg\u001b[0m\u001b[0;34m)\u001b[0m\u001b[0;34m)\u001b[0m\u001b[0;34m\u001b[0m\u001b[0;34m\u001b[0m\u001b[0m\n\u001b[0m\u001b[1;32m     35\u001b[0m     \u001b[0mimg\u001b[0m \u001b[0;34m=\u001b[0m \u001b[0mcv2\u001b[0m\u001b[0;34m.\u001b[0m\u001b[0mresize\u001b[0m\u001b[0;34m(\u001b[0m\u001b[0mimg\u001b[0m\u001b[0;34m,\u001b[0m \u001b[0;34m(\u001b[0m\u001b[0mwidth\u001b[0m\u001b[0;34m,\u001b[0m \u001b[0mheight\u001b[0m\u001b[0;34m)\u001b[0m\u001b[0;34m)\u001b[0m\u001b[0;34m\u001b[0m\u001b[0;34m\u001b[0m\u001b[0m\n\u001b[1;32m     36\u001b[0m     \u001b[0mimg\u001b[0m \u001b[0;34m=\u001b[0m \u001b[0mcv2\u001b[0m\u001b[0;34m.\u001b[0m\u001b[0mcvtColor\u001b[0m\u001b[0;34m(\u001b[0m\u001b[0mimg\u001b[0m\u001b[0;34m,\u001b[0m \u001b[0mcv2\u001b[0m\u001b[0;34m.\u001b[0m\u001b[0mCOLOR_BGR2GRAY\u001b[0m\u001b[0;34m)\u001b[0m\u001b[0;34m\u001b[0m\u001b[0;34m\u001b[0m\u001b[0m\n",
      "\u001b[0;31mKeyboardInterrupt\u001b[0m: "
     ]
    }
   ],
   "source": [
    "epochs = 50\n",
    "\n",
    "train_acc = {}\n",
    "val_acc = {}\n",
    "test_acc = {}\n",
    "\n",
    "for i in range(n_learners):\n",
    "    train_acc[i] = []\n",
    "    val_acc[i] = []\n",
    "    test_acc[i] = []\n",
    "\n",
    "for e in range(epochs):\n",
    "    print(\"Epoch: \", e)\n",
    "    tra, v, tsa = train_nodes(learners)\n",
    "    for i in range(n_learners):\n",
    "        train_acc[i].append(tra[i])\n",
    "        val_acc[i].append(v[i])\n",
    "        test_acc[i].append(tsa[i])"
   ]
  },
  {
   "cell_type": "code",
   "execution_count": 5,
   "metadata": {},
   "outputs": [
    {
     "data": {
      "text/plain": [
       "<matplotlib.legend.Legend at 0x158787a50>"
      ]
     },
     "execution_count": 5,
     "metadata": {},
     "output_type": "execute_result"
    },
    {
     "data": {
      "image/png": "[encoded data removed]",
      "text/plain": [
       "<Figure size 864x576 with 1 Axes>"
      ]
     },
     "metadata": {
      "needs_background": "light"
     },
     "output_type": "display_data"
    }
   ],
   "source": [
    "plt.figure(0,(12,8))\n",
    "plt.title(\"train accuracy\")\n",
    "for i in range(n_learners):\n",
    "    plt.plot(train_acc[i], label=\"node-{}\".format(i))\n",
    "plt.legend()"
   ]
  },
  {
   "cell_type": "code",
   "execution_count": 6,
   "metadata": {},
   "outputs": [
    {
     "data": {
      "text/plain": [
       "<matplotlib.legend.Legend at 0x1575074d0>"
      ]
     },
     "execution_count": 6,
     "metadata": {},
     "output_type": "execute_result"
    },
    {
     "data": {
      "image/png": "[encoded data removed]",
      "text/plain": [
       "<Figure size 864x576 with 1 Axes>"
      ]
     },
     "metadata": {
      "needs_background": "light"
     },
     "output_type": "display_data"
    }
   ],
   "source": [
    "plt.figure(0,(12,8))\n",
    "plt.title(\"val accuracy\")\n",
    "for i in range(n_learners):\n",
    "    plt.plot(val_acc[i], label=\"node-{}\".format(i))\n",
    "plt.legend()"
   ]
  },
  {
   "cell_type": "code",
   "execution_count": 7,
   "metadata": {},
   "outputs": [
    {
     "data": {
      "text/plain": [
       "<matplotlib.legend.Legend at 0x158789250>"
      ]
     },
     "execution_count": 7,
     "metadata": {},
     "output_type": "execute_result"
    },
    {
     "data": {
      "image/png": "[encoded data removed]",
      "text/plain": [
       "<Figure size 864x576 with 1 Axes>"
      ]
     },
     "metadata": {
      "needs_background": "light"
     },
     "output_type": "display_data"
    }
   ],
   "source": [
    "plt.figure(0,(12,8))\n",
    "plt.title(\"test accuracy\")\n",
    "for i in range(n_learners):\n",
    "    plt.plot(test_acc[i], label=\"node-{}\".format(i))\n",
    "plt.legend()"
   ]
  },
  {
   "cell_type": "code",
   "execution_count": null,
   "metadata": {},
   "outputs": [],
   "source": [
    "learners[0].config.evaluation_config"
   ]
  },
  {
   "cell_type": "code",
   "execution_count": 8,
   "metadata": {},
   "outputs": [],
   "source": [
    "l=30"
   ]
  },
  {
   "cell_type": "code",
   "execution_count": 9,
   "metadata": {},
   "outputs": [],
   "source": [
    "tt = []\n",
    "for i in range(n_learners):\n",
    "    tt.append(np.array(test_acc[i]).reshape(1,len(test_acc[i])))\n",
    "acc=np.concatenate(tt, axis=0)"
   ]
  },
  {
   "cell_type": "code",
   "execution_count": 10,
   "metadata": {},
   "outputs": [
    {
     "data": {
      "text/plain": [
       "[<matplotlib.lines.Line2D at 0x158e74890>]"
      ]
     },
     "execution_count": 10,
     "metadata": {},
     "output_type": "execute_result"
    },
    {
     "data": {
      "image/png": "[encoded data removed]",
      "text/plain": [
       "<Figure size 432x288 with 1 Axes>"
      ]
     },
     "metadata": {
      "needs_background": "light"
     },
     "output_type": "display_data"
    }
   ],
   "source": [
    "plt.plot(np.average(acc, axis=0))"
   ]
  },
  {
   "cell_type": "code",
   "execution_count": 11,
   "metadata": {},
   "outputs": [
    {
     "data": {
      "text/plain": [
       "<matplotlib.legend.Legend at 0x15875f850>"
      ]
     },
     "execution_count": 11,
     "metadata": {},
     "output_type": "execute_result"
    },
    {
     "data": {
      "image/png": "[encoded data removed]",
      "text/plain": [
       "<Figure size 864x576 with 1 Axes>"
      ]
     },
     "metadata": {
      "needs_background": "light"
     },
     "output_type": "display_data"
    }
   ],
   "source": [
    "plt.figure(0,(12,8))\n",
    "plt.title(\"test accuracy\")\n",
    "for i in range(n_learners):\n",
    "    plt.plot(test_acc[i], label=\"node-{}\".format(i))\n",
    "plt.plot(np.average(acc, axis=0),lw=5)\n",
    "plt.legend()"
   ]
  },
  {
   "cell_type": "code",
   "execution_count": 30,
   "metadata": {},
   "outputs": [
    {
     "data": {
      "text/plain": [
       "<matplotlib.legend.Legend at 0x159ffa790>"
      ]
     },
     "execution_count": 30,
     "metadata": {},
     "output_type": "execute_result"
    },
    {
     "data": {
      "image/png": "[encoded data removed]",
      "text/plain": [
       "<Figure size 864x576 with 1 Axes>"
      ]
     },
     "metadata": {
      "needs_background": "light"
     },
     "output_type": "display_data"
    }
   ],
   "source": [
    "plt.figure(0,(12,8))\n",
    "plt.title(\"test accuracy\")\n",
    "plt.ylim(0.7, 0.94)\n",
    "for i in range(n_learners):\n",
    "    plt.plot(test_acc[i], label=\"node-{}\".format(i))\n",
    "plt.plot(np.average(acc, axis=0),lw=5)\n",
    "plt.legend()"
   ]
  },
  {
   "cell_type": "code",
   "execution_count": 19,
   "metadata": {},
   "outputs": [],
   "source": [
    "lines=[]\n",
    "with open(\"/Users/qati/Downloads/grafana_data_export(3).csv\", \"r\") as f:\n",
    "    reader=csv.reader(f)\n",
    "    for r in reader:\n",
    "        lines.append(r)"
   ]
  },
  {
   "cell_type": "code",
   "execution_count": 20,
   "metadata": {},
   "outputs": [],
   "source": [
    "nodes={}"
   ]
  },
  {
   "cell_type": "code",
   "execution_count": 21,
   "metadata": {},
   "outputs": [],
   "source": [
    "for l in lines[1:]:\n",
    "    s = l[0].split(\";\")\n",
    "    if s[2]==\"null\":\n",
    "        continue\n",
    "    nodes.setdefault(s[0],[]).append(s[2])"
   ]
  },
  {
   "cell_type": "code",
   "execution_count": 22,
   "metadata": {},
   "outputs": [
    {
     "name": "stdout",
     "output_type": "stream",
     "text": [
      "(369,)\n",
      "(395,)\n",
      "(387,)\n",
      "(389,)\n",
      "(384,)\n"
     ]
    }
   ],
   "source": [
    "tc=[]\n",
    "for _, v in nodes.items():\n",
    "    a=np.array(list(map(lambda x: float(x), v)))\n",
    "    tc.append(a)\n",
    "    print(a.shape)"
   ]
  },
  {
   "cell_type": "code",
   "execution_count": 24,
   "metadata": {},
   "outputs": [],
   "source": [
    "tc2=[]\n",
    "for a in tc:\n",
    "    tc2.append(a[(a.shape[0]-350):].reshape((1,350)))\n",
    "cdata = np.concatenate(tc2, axis=0)"
   ]
  },
  {
   "cell_type": "code",
   "execution_count": 25,
   "metadata": {},
   "outputs": [],
   "source": [
    "n_learners=5"
   ]
  },
  {
   "cell_type": "code",
   "execution_count": 47,
   "metadata": {},
   "outputs": [
    {
     "data": {
      "text/plain": [
       "<matplotlib.legend.Legend at 0x158050a10>"
      ]
     },
     "execution_count": 47,
     "metadata": {},
     "output_type": "execute_result"
    },
    {
     "data": {
      "image/png": "[encoded data removed]",
      "text/plain": [
       "<Figure size 864x576 with 1 Axes>"
      ]
     },
     "metadata": {
      "needs_background": "light"
     },
     "output_type": "display_data"
    }
   ],
   "source": [
    "plt.figure(0,(12,8))\n",
    "plt.title(\"test accuracy\")\n",
    "plt.ylim(0.7, 0.94)\n",
    "for i in range(n_learners):\n",
    "    plt.plot(cdata[i,:100], label=\"node-{}\".format(i))\n",
    "plt.plot(np.average(cdata, axis=0)[:100],lw=5)\n",
    "plt.legend()"
   ]
  },
  {
   "cell_type": "code",
   "execution_count": null,
   "metadata": {},
   "outputs": [],
   "source": []
  }
 ],
 "metadata": {
  "kernelspec": {
   "display_name": "Python 3",
   "language": "python",
   "name": "python3"
  },
  "language_info": {
   "codemirror_mode": {
    "name": "ipython",
    "version": 3
   },
   "file_extension": ".py",
   "mimetype": "text/x-python",
   "name": "python",
   "nbconvert_exporter": "python",
   "pygments_lexer": "ipython3",
   "version": "3.7.8"
  }
 },
 "nbformat": 4,
 "nbformat_minor": 2
}
